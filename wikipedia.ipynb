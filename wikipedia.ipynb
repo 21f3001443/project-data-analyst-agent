{
 "cells": [
  {
   "cell_type": "code",
   "execution_count": 22,
   "id": "f904d089",
   "metadata": {},
   "outputs": [],
   "source": [
    "import wikipedia\n",
    "import requests\n",
    "\n",
    "\n",
    "class Wikipedia:\n",
    "    \"\"\"\n",
    "    Create with either search_query or url.\n",
    "    If only search_query is provided, find_url() runs automatically.\n",
    "    Attributes:\n",
    "      - search_query: str | None\n",
    "      - url: str | None\n",
    "      - valid: bool\n",
    "      - title: str | None (resolved page title when found)\n",
    "    \"\"\"\n",
    "\n",
    "    def __init__(self, search_query: str | None = None, url: str | None = None, *, language: str = \"en\"):\n",
    "        self.search_query = search_query\n",
    "        self.url = url\n",
    "        self.valid = False\n",
    "        self.title = None\n",
    "        wikipedia.set_lang(language)\n",
    "\n",
    "        if not self.url and self.search_query:\n",
    "            self.find_url()\n",
    "        elif self.url:\n",
    "            self.check_url()\n",
    "\n",
    "    def find_url(self) -> None:\n",
    "        \"\"\"Resolve self.search_query to a canonical Wikipedia page URL, setting url/title/valid.\"\"\"\n",
    "        q = (self.search_query or \"\").strip()\n",
    "        if not q:\n",
    "            self.url = None\n",
    "            self.title = None\n",
    "            self.valid = False\n",
    "            return\n",
    "\n",
    "        try:\n",
    "            results = wikipedia.search(q) or []\n",
    "        except Exception:\n",
    "            results = []\n",
    "\n",
    "        candidates = []\n",
    "        if results:\n",
    "            candidates.append((\"search_top\", results[0]))\n",
    "        candidates.append((\"autosuggest_query\", q))\n",
    "\n",
    "        for source, title in candidates:\n",
    "            try:\n",
    "                page = wikipedia.page(title, auto_suggest=(source == \"autosuggest_query\"), redirect=True)\n",
    "                self.url = page.url\n",
    "                self.title = page.title\n",
    "                self.valid = True\n",
    "                return\n",
    "            except wikipedia.DisambiguationError as e:\n",
    "                if e.options:\n",
    "                    try:\n",
    "                        page = wikipedia.page(e.options[0], auto_suggest=False, redirect=True)\n",
    "                        self.url = page.url\n",
    "                        self.title = page.title\n",
    "                        self.valid = True\n",
    "                        return\n",
    "                    except Exception:\n",
    "                        pass\n",
    "            except wikipedia.PageError:\n",
    "                continue\n",
    "            except Exception:\n",
    "                continue\n",
    "\n",
    "        self.url = None\n",
    "        self.title = None\n",
    "        self.valid = False\n",
    "\n",
    "    def check_url(self) -> None:\n",
    "        \"\"\"Validate that self.url is a reachable Wikipedia page.\"\"\"\n",
    "        if not self.url or not self.url.startswith(\"https://en.wikipedia.org/wiki/\"):\n",
    "            self.valid = False\n",
    "            return\n",
    "\n",
    "        try:\n",
    "            resp = requests.head(self.url, allow_redirects=True, timeout=5)\n",
    "            if resp.status_code == 200 and \"wikipedia.org\" in resp.url:\n",
    "                # Try to get the title from the Wikipedia library\n",
    "                try:\n",
    "                    page_title = self.url.split(\"/wiki/\")[-1].replace(\"_\", \" \")\n",
    "                    page = wikipedia.page(page_title, auto_suggest=False, redirect=True)\n",
    "                    self.title = page.title\n",
    "                except Exception:\n",
    "                    self.title = None\n",
    "                self.valid = True\n",
    "            else:\n",
    "                self.valid = False\n",
    "        except Exception:\n",
    "            self.valid = False\n",
    "\n",
    "    def __repr__(self) -> str:\n",
    "        return f\"Wikipedia(search_query={self.search_query!r}, url={self.url!r}, valid={self.valid}, title={self.title!r})\"\n"
   ]
  },
  {
   "cell_type": "code",
   "execution_count": 23,
   "id": "fd6a373f",
   "metadata": {},
   "outputs": [
    {
     "name": "stdout",
     "output_type": "stream",
     "text": [
      "Wikipedia(search_query='Highest grossing films', url='https://en.wikipedia.org/wiki/List_of_highest-grossing_films', valid=True, title='List of highest-grossing films')\n",
      "Wikipedia(search_query=None, url='https://en.wikipedia.org/wiki/List_of_highest-grossing_films', valid=True, title='List of highest-grossing films')\n",
      "Wikipedia(search_query=None, url='https://en.wikipedia.org/wiki/ThisPageDoesNotExist12345', valid=False, title=None)\n"
     ]
    }
   ],
   "source": [
    "# Validate from search query\n",
    "w1 = Wikipedia(search_query=\"Highest grossing films\")\n",
    "print(w1)\n",
    "\n",
    "# Validate from a direct URL\n",
    "w2 = Wikipedia(url=\"https://en.wikipedia.org/wiki/List_of_highest-grossing_films\")\n",
    "print(w2)\n",
    "\n",
    "# Invalid URL\n",
    "w3 = Wikipedia(url=\"https://en.wikipedia.org/wiki/ThisPageDoesNotExist12345\")\n",
    "print(w3)\n"
   ]
  },
  {
   "cell_type": "code",
   "execution_count": 6,
   "id": "99d6f4a6",
   "metadata": {},
   "outputs": [
    {
     "data": {
      "text/plain": [
       "90"
      ]
     },
     "execution_count": 6,
     "metadata": {},
     "output_type": "execute_result"
    }
   ],
   "source": [
    "len(tables)"
   ]
  },
  {
   "cell_type": "code",
   "execution_count": 7,
   "id": "b5ed040d",
   "metadata": {},
   "outputs": [
    {
     "name": "stdout",
     "output_type": "stream",
     "text": [
      "  vteMedia franchises                              vteMedia franchises.1\n",
      "0        Media series  Animated series anime series Book series Partw...\n",
      "1         Media lists  Multimedia franchises print television series ...\n",
      "2    Highest-grossing                       Media franchises Film series\n",
      "3        Best-selling  Comic book series manga series Video game fran...\n",
      "4            Category                                           Category\n"
     ]
    }
   ],
   "source": [
    "print(tables[-1].head())"
   ]
  }
 ],
 "metadata": {
  "kernelspec": {
   "display_name": ".venv",
   "language": "python",
   "name": "python3"
  },
  "language_info": {
   "codemirror_mode": {
    "name": "ipython",
    "version": 3
   },
   "file_extension": ".py",
   "mimetype": "text/x-python",
   "name": "python",
   "nbconvert_exporter": "python",
   "pygments_lexer": "ipython3",
   "version": "3.11.11"
  }
 },
 "nbformat": 4,
 "nbformat_minor": 5
}
