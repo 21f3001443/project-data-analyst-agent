{
 "cells": [
  {
   "cell_type": "code",
   "execution_count": 3,
   "id": "16f93672",
   "metadata": {},
   "outputs": [
    {
     "data": {
      "text/plain": [
       "<duckdb.duckdb.DuckDBPyConnection at 0x105e27bb0>"
      ]
     },
     "execution_count": 3,
     "metadata": {},
     "output_type": "execute_result"
    }
   ],
   "source": [
    "import duckdb\n",
    "\n",
    "# In-memory DB\n",
    "con = duckdb.connect()\n",
    "\n",
    "con.execute(\"INSTALL httpfs; LOAD httpfs;\")\n",
    "con.execute(\"INSTALL parquet; LOAD parquet;\")\n",
    "\n",
    "con.execute(\"SET s3_region='ap-south-1';\")"
   ]
  },
  {
   "cell_type": "code",
   "execution_count": 4,
   "id": "41c910ca",
   "metadata": {},
   "outputs": [
    {
     "name": "stdout",
     "output_type": "stream",
     "text": [
      "[(15901854,)]\n"
     ]
    }
   ],
   "source": [
    "result = con.execute(\"\"\"\n",
    "SELECT COUNT(*) \n",
    "FROM read_parquet(\n",
    "    's3://indian-high-court-judgments/metadata/parquet/year=*/court=*/bench=*/metadata.parquet'\n",
    ")\n",
    "\"\"\").fetchall()\n",
    "\n",
    "print(result)"
   ]
  },
  {
   "cell_type": "code",
   "execution_count": 5,
   "id": "1356448f",
   "metadata": {},
   "outputs": [],
   "source": [
    "sql = \"\"\"\n",
    "WITH ranked AS (\n",
    "  SELECT\n",
    "    court,\n",
    "    COUNT(*) AS cases_disposed\n",
    "  FROM read_parquet(\n",
    "    's3://indian-high-court-judgments/metadata/parquet/year=*/court=*/bench=*/metadata.parquet'\n",
    "  )\n",
    "  WHERE\n",
    "    year BETWEEN 2019 AND 2022\n",
    "    AND decision_date BETWEEN DATE '2019-01-01' AND DATE '2022-12-31'\n",
    "  GROUP BY court\n",
    ")\n",
    "SELECT court, cases_disposed\n",
    "FROM ranked\n",
    "ORDER BY cases_disposed DESC\n",
    "LIMIT 1\n",
    "\"\"\""
   ]
  },
  {
   "cell_type": "code",
   "execution_count": 6,
   "id": "fd58f222",
   "metadata": {},
   "outputs": [
    {
     "name": "stdout",
     "output_type": "stream",
     "text": [
      "  court  cases_disposed\n",
      "0  9_13          817786\n"
     ]
    }
   ],
   "source": [
    "top_court = con.execute(sql).df()\n",
    "print(top_court) "
   ]
  },
  {
   "cell_type": "code",
   "execution_count": null,
   "id": "61483b57",
   "metadata": {},
   "outputs": [
    {
     "name": "stdout",
     "output_type": "stream",
     "text": [
      "{\"Which high court disposed the most cases from 2019 - 2022?\": \"9_13\", \"What's the regression slope of the date_of_registration - decision_date by year in the court=33_10?\": \"nan\", \"Plot the year and # of days of delay from the above question as a scatterplot with a regression line. Encode as a base64 data URI under 100,000 characters\": \"data:image/webp;base64,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\"}\n"
     ]
    }
   ],
   "source": [
    "# pip install duckdb matplotlib numpy pandas\n",
    "\n",
    "import duckdb\n",
    "import numpy as np\n",
    "import pandas as pd\n",
    "import matplotlib.pyplot as plt\n",
    "import base64\n",
    "from io import BytesIO\n",
    "import json\n",
    "\n",
    "# --- Connect & prepare DuckDB ---\n",
    "con = duckdb.connect()\n",
    "con.execute(\"INSTALL httpfs; LOAD httpfs;\")\n",
    "con.execute(\"INSTALL parquet; LOAD parquet;\")\n",
    "con.execute(\"SET s3_region='ap-south-1';\")  # bucket is public\n",
    "\n",
    "# --- 1) High court with most disposals (2019–2022) ---\n",
    "most_cases_df = con.execute(\"\"\"\n",
    "SELECT court, COUNT(*) AS cases_disposed\n",
    "FROM read_parquet(\n",
    "  's3://indian-high-court-judgments/metadata/parquet/year=*/court=*/bench=*/metadata.parquet'\n",
    ")\n",
    "WHERE year BETWEEN 2019 AND 2022\n",
    "  AND decision_date BETWEEN DATE '2019-01-01' AND DATE '2022-12-31'\n",
    "GROUP BY court\n",
    "ORDER BY cases_disposed DESC\n",
    "LIMIT 1\n",
    "\"\"\").df()\n",
    "\n",
    "most_cases_court = most_cases_df.iloc[0][\"court\"] if not most_cases_df.empty else None\n",
    "\n",
    "# --- 2) Regression slope of (decision_date - date_of_registration) by YEAR for court=33_10 ---\n",
    "# We compute per-year average delay (days), then regress avg_delay ~ year\n",
    "delay_by_year = con.execute(\"\"\"\n",
    "WITH delays AS (\n",
    "  SELECT\n",
    "    year,\n",
    "    DATE_DIFF('day', TRY_CAST(date_of_registration AS DATE), decision_date) AS delay_days\n",
    "  FROM read_parquet(\n",
    "    's3://indian-high-court-judgments/metadata/parquet/year=*/court=33_10/bench=*/metadata.parquet'\n",
    "  )\n",
    "  WHERE date_of_registration IS NOT NULL\n",
    "    AND decision_date IS NOT NULL\n",
    ")\n",
    "SELECT\n",
    "  year,\n",
    "  AVG(delay_days) AS avg_delay_days\n",
    "FROM delays\n",
    "WHERE delay_days IS NOT NULL\n",
    "GROUP BY year\n",
    "ORDER BY year\n",
    "\"\"\").df()\n",
    "\n",
    "if len(delay_by_year) >= 2:\n",
    "  x = delay_by_year[\"year\"].to_numpy(dtype=float)\n",
    "  y = delay_by_year[\"avg_delay_days\"].to_numpy(dtype=float)\n",
    "  slope, intercept = np.polyfit(x, y, 1)\n",
    "  slope_val = float(slope)\n",
    "else:\n",
    "  slope_val = float(\"nan\")  # not enough points\n",
    "\n",
    "# --- 3) Scatterplot (year vs avg delay) with dotted red regression line ---\n",
    "fig = plt.figure(figsize=(6, 4))\n",
    "plt.scatter(delay_by_year[\"year\"], delay_by_year[\"avg_delay_days\"], alpha=0.6, label=\"Average delay (days)\")\n",
    "if len(delay_by_year) >= 2:\n",
    "  xx = np.linspace(delay_by_year[\"year\"].min(), delay_by_year[\"year\"].max(), 200)\n",
    "  yy = slope_val * xx + intercept\n",
    "  plt.plot(xx, yy, \"r:\", label=\"Regression line\")\n",
    "plt.xlabel(\"Year\")\n",
    "plt.ylabel(\"Avg. days of delay (Decision - Registration)\")\n",
    "plt.title(\"court=33_10: Avg delay by year\")\n",
    "plt.legend()\n",
    "plt.tight_layout()\n",
    "\n",
    "buf = BytesIO()\n",
    "fig.savefig(buf, format=\"webp\")  # compact, stays well under 100k chars\n",
    "plt.close(fig)\n",
    "img_b64 = base64.b64encode(buf.getvalue()).decode(\"ascii\")\n",
    "data_uri = f\"data:image/webp;base64,{img_b64}\"\n",
    "\n",
    "# --- 4) Emit JSON result ---\n",
    "result = {\n",
    "  \"Which high court disposed the most cases from 2019 - 2022?\": str(most_cases_court),\n",
    "  \"What's the regression slope of the date_of_registration - decision_date by year in the court=33_10?\": str(slope_val),\n",
    "  \"Plot the year and # of days of delay from the above question as a scatterplot with a regression line. Encode as a base64 data URI under 100,000 characters\": data_uri\n",
    "}\n",
    "\n",
    "print(json.dumps(result, ensure_ascii=False))"
   ]
  },
  {
   "cell_type": "code",
   "execution_count": 26,
   "id": "744502c9",
   "metadata": {},
   "outputs": [
    {
     "data": {
      "text/html": [
       "<div>\n",
       "<style scoped>\n",
       "    .dataframe tbody tr th:only-of-type {\n",
       "        vertical-align: middle;\n",
       "    }\n",
       "\n",
       "    .dataframe tbody tr th {\n",
       "        vertical-align: top;\n",
       "    }\n",
       "\n",
       "    .dataframe thead th {\n",
       "        text-align: right;\n",
       "    }\n",
       "</style>\n",
       "<table border=\"1\" class=\"dataframe\">\n",
       "  <thead>\n",
       "    <tr style=\"text-align: right;\">\n",
       "      <th></th>\n",
       "      <th>year</th>\n",
       "      <th>avg_delay_days</th>\n",
       "    </tr>\n",
       "  </thead>\n",
       "  <tbody>\n",
       "  </tbody>\n",
       "</table>\n",
       "</div>"
      ],
      "text/plain": [
       "Empty DataFrame\n",
       "Columns: [year, avg_delay_days]\n",
       "Index: []"
      ]
     },
     "execution_count": 26,
     "metadata": {},
     "output_type": "execute_result"
    }
   ],
   "source": [
    "slope_val\n",
    "delay_by_year\n"
   ]
  },
  {
   "cell_type": "code",
   "execution_count": 9,
   "id": "baeaf697",
   "metadata": {},
   "outputs": [
    {
     "name": "stdout",
     "output_type": "stream",
     "text": [
      "Top court (2019–2022): 9_13\n",
      "{\n",
      "  \"Which high court disposed the most cases from 2019 - 2022?\": {\n",
      "    \"court\": \"9_13\",\n",
      "    \"cases_disposed\": 817786\n",
      "  }\n",
      "}\n"
     ]
    }
   ],
   "source": [
    "# pip install duckdb pandas\n",
    "\n",
    "import duckdb\n",
    "import pandas as pd\n",
    "import json\n",
    "\n",
    "# Connect to DuckDB (in-memory). Use duckdb.connect(\"mydb.duckdb\") to persist.\n",
    "con = duckdb.connect()\n",
    "\n",
    "# Enable S3/Parquet support\n",
    "con.execute(\"INSTALL httpfs; LOAD httpfs;\")\n",
    "con.execute(\"INSTALL parquet; LOAD parquet;\")\n",
    "con.execute(\"SET s3_region='ap-south-1';\")  # public bucket region\n",
    "\n",
    "# Query: court with most disposals between 2019 and 2022\n",
    "sql_top = \"\"\"\n",
    "SELECT court, COUNT(*) AS cases_disposed\n",
    "FROM read_parquet(\n",
    "  's3://indian-high-court-judgments/metadata/parquet/year=*/court=*/bench=*/metadata.parquet'\n",
    ")\n",
    "WHERE year BETWEEN 2019 AND 2022\n",
    "  AND decision_date BETWEEN DATE '2019-01-01' AND DATE '2022-12-31'\n",
    "GROUP BY court\n",
    "ORDER BY cases_disposed DESC\n",
    "LIMIT 1\n",
    "\"\"\"\n",
    "\n",
    "top_df = con.execute(sql_top).df()\n",
    "\n",
    "# Also get the full ranking (optional)\n",
    "sql_full = sql_top.replace(\"LIMIT 1\", \"\")\n",
    "full_df = con.execute(sql_full).df()\n",
    "\n",
    "# Print answers\n",
    "top_court = None if top_df.empty else top_df.iloc[0][\"court\"]\n",
    "print(\"Top court (2019–2022):\", top_court)\n",
    "\n",
    "# If you want JSON output:\n",
    "result = {\n",
    "    \"Which high court disposed the most cases from 2019 - 2022?\": None if top_df.empty else {\n",
    "        \"court\": top_df.iloc[0][\"court\"],\n",
    "        \"cases_disposed\": int(top_df.iloc[0][\"cases_disposed\"])\n",
    "    }\n",
    "}\n",
    "print(json.dumps(result, ensure_ascii=False, indent=2))\n",
    "\n",
    "# (Optional) Show full ranking as a table\n",
    "# print(full_df.head(25).to_string(index=False))"
   ]
  },
  {
   "cell_type": "code",
   "execution_count": 34,
   "id": "a38e8b98",
   "metadata": {},
   "outputs": [
    {
     "name": "stdout",
     "output_type": "stream",
     "text": [
      "{\"What's the regression slope of the date_of_registration - decision_date by year in the court=33_10?\": -21.07628484290379}\n"
     ]
    }
   ],
   "source": [
    "# pip install duckdb pandas numpy\n",
    "\n",
    "import duckdb\n",
    "import numpy as np\n",
    "import pandas as pd\n",
    "\n",
    "# Connect\n",
    "con = duckdb.connect()\n",
    "con.execute(\"INSTALL httpfs; LOAD httpfs;\")\n",
    "con.execute(\"INSTALL parquet; LOAD parquet;\")\n",
    "con.execute(\"SET s3_region='ap-south-1';\")  # public bucket\n",
    "\n",
    "# Query: average delay per year for court=33_10\n",
    "delay_by_year = con.execute(\"\"\"\n",
    "WITH delays AS (\n",
    "  SELECT\n",
    "    year,\n",
    "    DATE_DIFF('day', TRY_CAST(TRY_STRPTIME(date_of_registration, '%d-%m-%Y') AS DATE), decision_date) AS delay_days\n",
    "  FROM read_parquet(\n",
    "    's3://indian-high-court-judgments/metadata/parquet/year=*/court=33_10/bench=*/metadata.parquet'\n",
    "  )\n",
    "  WHERE date_of_registration IS NOT NULL\n",
    "    AND decision_date IS NOT NULL\n",
    ")\n",
    "SELECT\n",
    "  year,\n",
    "  AVG(delay_days) AS avg_delay_days\n",
    "FROM delays\n",
    "WHERE delay_days IS NOT NULL\n",
    "GROUP BY year\n",
    "ORDER BY year\n",
    "\"\"\").df()\n",
    "\n",
    "# Regression: avg_delay_days ~ year\n",
    "if len(delay_by_year) >= 2:\n",
    "    x = delay_by_year[\"year\"].to_numpy(dtype=float)\n",
    "    y = delay_by_year[\"avg_delay_days\"].to_numpy(dtype=float)\n",
    "    slope, intercept = np.polyfit(x, y, 1)\n",
    "    slope_val = float(slope)\n",
    "else:\n",
    "    slope_val = float(\"nan\")\n",
    "\n",
    "print({\n",
    "    \"What's the regression slope of the date_of_registration - decision_date by year in the court=33_10?\": slope_val\n",
    "})"
   ]
  },
  {
   "cell_type": "code",
   "execution_count": 14,
   "id": "268f7dd3",
   "metadata": {},
   "outputs": [
    {
     "data": {
      "text/plain": [
       "0"
      ]
     },
     "execution_count": 14,
     "metadata": {},
     "output_type": "execute_result"
    }
   ],
   "source": [
    "len(delay_by_year)"
   ]
  },
  {
   "cell_type": "code",
   "execution_count": 32,
   "id": "f6b7bf61",
   "metadata": {},
   "outputs": [],
   "source": [
    "# pip install duckdb pandas\n",
    "\n",
    "import duckdb\n",
    "import pandas as pd\n",
    "import json\n",
    "\n",
    "# Connect to DuckDB (in-memory). Use duckdb.connect(\"mydb.duckdb\") to persist.\n",
    "con = duckdb.connect()\n",
    "\n",
    "# Enable S3/Parquet support\n",
    "con.execute(\"INSTALL httpfs; LOAD httpfs;\")\n",
    "con.execute(\"INSTALL parquet; LOAD parquet;\")\n",
    "con.execute(\"SET s3_region='ap-south-1';\")  # public bucket region\n",
    "\n",
    "# Query: court with most disposals between 2019 and 2022\n",
    "sql_top = \"\"\"\n",
    "SELECT date_of_registration,\n",
    "       decision_date,\n",
    "       DATE_DIFF('day', TRY_CAST(TRY_STRPTIME(date_of_registration, '%d-%m-%Y') AS DATE), decision_date) AS delay_days\n",
    "FROM read_parquet(\n",
    "  's3://indian-high-court-judgments/metadata/parquet/year=*/court=33_10/bench=*/metadata.parquet?s3_region=ap-south-1'\n",
    ")\n",
    "LIMIT 10;\n",
    "\"\"\"\n",
    "\n",
    "top_df = con.execute(sql_top).df()"
   ]
  },
  {
   "cell_type": "code",
   "execution_count": 33,
   "id": "7c9de2ec",
   "metadata": {},
   "outputs": [
    {
     "data": {
      "text/html": [
       "<div>\n",
       "<style scoped>\n",
       "    .dataframe tbody tr th:only-of-type {\n",
       "        vertical-align: middle;\n",
       "    }\n",
       "\n",
       "    .dataframe tbody tr th {\n",
       "        vertical-align: top;\n",
       "    }\n",
       "\n",
       "    .dataframe thead th {\n",
       "        text-align: right;\n",
       "    }\n",
       "</style>\n",
       "<table border=\"1\" class=\"dataframe\">\n",
       "  <thead>\n",
       "    <tr style=\"text-align: right;\">\n",
       "      <th></th>\n",
       "      <th>date_of_registration</th>\n",
       "      <th>decision_date</th>\n",
       "      <th>delay_days</th>\n",
       "    </tr>\n",
       "  </thead>\n",
       "  <tbody>\n",
       "    <tr>\n",
       "      <th>0</th>\n",
       "      <td>01-01-1995</td>\n",
       "      <td>1995-12-14</td>\n",
       "      <td>347</td>\n",
       "    </tr>\n",
       "    <tr>\n",
       "      <th>1</th>\n",
       "      <td>01-01-1992</td>\n",
       "      <td>1996-12-06</td>\n",
       "      <td>1801</td>\n",
       "    </tr>\n",
       "    <tr>\n",
       "      <th>2</th>\n",
       "      <td>01-01-1988</td>\n",
       "      <td>1996-05-08</td>\n",
       "      <td>3050</td>\n",
       "    </tr>\n",
       "    <tr>\n",
       "      <th>3</th>\n",
       "      <td>01-01-1997</td>\n",
       "      <td>1997-07-29</td>\n",
       "      <td>209</td>\n",
       "    </tr>\n",
       "    <tr>\n",
       "      <th>4</th>\n",
       "      <td>23-05-2000</td>\n",
       "      <td>1999-01-25</td>\n",
       "      <td>-484</td>\n",
       "    </tr>\n",
       "    <tr>\n",
       "      <th>5</th>\n",
       "      <td>30-04-1998</td>\n",
       "      <td>2000-07-11</td>\n",
       "      <td>803</td>\n",
       "    </tr>\n",
       "    <tr>\n",
       "      <th>6</th>\n",
       "      <td>08-12-1987</td>\n",
       "      <td>2000-04-30</td>\n",
       "      <td>4527</td>\n",
       "    </tr>\n",
       "    <tr>\n",
       "      <th>7</th>\n",
       "      <td>29-11-2000</td>\n",
       "      <td>2000-01-12</td>\n",
       "      <td>-322</td>\n",
       "    </tr>\n",
       "    <tr>\n",
       "      <th>8</th>\n",
       "      <td>01-01-2000</td>\n",
       "      <td>2000-12-19</td>\n",
       "      <td>353</td>\n",
       "    </tr>\n",
       "    <tr>\n",
       "      <th>9</th>\n",
       "      <td>01-01-1999</td>\n",
       "      <td>2000-08-17</td>\n",
       "      <td>594</td>\n",
       "    </tr>\n",
       "  </tbody>\n",
       "</table>\n",
       "</div>"
      ],
      "text/plain": [
       "  date_of_registration decision_date  delay_days\n",
       "0           01-01-1995    1995-12-14         347\n",
       "1           01-01-1992    1996-12-06        1801\n",
       "2           01-01-1988    1996-05-08        3050\n",
       "3           01-01-1997    1997-07-29         209\n",
       "4           23-05-2000    1999-01-25        -484\n",
       "5           30-04-1998    2000-07-11         803\n",
       "6           08-12-1987    2000-04-30        4527\n",
       "7           29-11-2000    2000-01-12        -322\n",
       "8           01-01-2000    2000-12-19         353\n",
       "9           01-01-1999    2000-08-17         594"
      ]
     },
     "execution_count": 33,
     "metadata": {},
     "output_type": "execute_result"
    }
   ],
   "source": [
    "top_df"
   ]
  }
 ],
 "metadata": {
  "kernelspec": {
   "display_name": ".venv",
   "language": "python",
   "name": "python3"
  },
  "language_info": {
   "codemirror_mode": {
    "name": "ipython",
    "version": 3
   },
   "file_extension": ".py",
   "mimetype": "text/x-python",
   "name": "python",
   "nbconvert_exporter": "python",
   "pygments_lexer": "ipython3",
   "version": "3.11.11"
  }
 },
 "nbformat": 4,
 "nbformat_minor": 5
}
