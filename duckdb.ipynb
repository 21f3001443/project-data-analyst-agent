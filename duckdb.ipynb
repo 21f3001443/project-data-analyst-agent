{
 "cells": [
  {
   "cell_type": "code",
   "execution_count": 3,
   "id": "16f93672",
   "metadata": {},
   "outputs": [
    {
     "data": {
      "text/plain": [
       "<duckdb.duckdb.DuckDBPyConnection at 0x105e27bb0>"
      ]
     },
     "execution_count": 3,
     "metadata": {},
     "output_type": "execute_result"
    }
   ],
   "source": [
    "import duckdb\n",
    "\n",
    "# In-memory DB\n",
    "con = duckdb.connect()\n",
    "\n",
    "con.execute(\"INSTALL httpfs; LOAD httpfs;\")\n",
    "con.execute(\"INSTALL parquet; LOAD parquet;\")\n",
    "\n",
    "con.execute(\"SET s3_region='ap-south-1';\")"
   ]
  },
  {
   "cell_type": "code",
   "execution_count": 4,
   "id": "41c910ca",
   "metadata": {},
   "outputs": [
    {
     "name": "stdout",
     "output_type": "stream",
     "text": [
      "[(15901854,)]\n"
     ]
    }
   ],
   "source": [
    "result = con.execute(\"\"\"\n",
    "SELECT COUNT(*) \n",
    "FROM read_parquet(\n",
    "    's3://indian-high-court-judgments/metadata/parquet/year=*/court=*/bench=*/metadata.parquet'\n",
    ")\n",
    "\"\"\").fetchall()\n",
    "\n",
    "print(result)"
   ]
  },
  {
   "cell_type": "code",
   "execution_count": 5,
   "id": "1356448f",
   "metadata": {},
   "outputs": [],
   "source": [
    "sql = \"\"\"\n",
    "WITH ranked AS (\n",
    "  SELECT\n",
    "    court,\n",
    "    COUNT(*) AS cases_disposed\n",
    "  FROM read_parquet(\n",
    "    's3://indian-high-court-judgments/metadata/parquet/year=*/court=*/bench=*/metadata.parquet'\n",
    "  )\n",
    "  WHERE\n",
    "    year BETWEEN 2019 AND 2022\n",
    "    AND decision_date BETWEEN DATE '2019-01-01' AND DATE '2022-12-31'\n",
    "  GROUP BY court\n",
    ")\n",
    "SELECT court, cases_disposed\n",
    "FROM ranked\n",
    "ORDER BY cases_disposed DESC\n",
    "LIMIT 1\n",
    "\"\"\""
   ]
  },
  {
   "cell_type": "code",
   "execution_count": 6,
   "id": "fd58f222",
   "metadata": {},
   "outputs": [
    {
     "name": "stdout",
     "output_type": "stream",
     "text": [
      "  court  cases_disposed\n",
      "0  9_13          817786\n"
     ]
    }
   ],
   "source": [
    "top_court = con.execute(sql).df()\n",
    "print(top_court) "
   ]
  },
  {
   "cell_type": "code",
   "execution_count": null,
   "id": "61483b57",
   "metadata": {},
   "outputs": [
    {
     "name": "stdout",
     "output_type": "stream",
     "text": [
      "{\"Which high court disposed the most cases from 2019 - 2022?\": \"9_13\", \"What's the regression slope of the date_of_registration - decision_date by year in the court=33_10?\": \"nan\", \"Plot the year and # of days of delay from the above question as a scatterplot with a regression line. Encode as a base64 data URI under 100,000 characters\": \"data:image/webp;base64,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\"}\n"
     ]
    }
   ],
   "source": [
    "# pip install duckdb matplotlib numpy pandas\n",
    "\n",
    "import duckdb\n",
    "import numpy as np\n",
    "import pandas as pd\n",
    "import matplotlib.pyplot as plt\n",
    "import base64\n",
    "from io import BytesIO\n",
    "import json\n",
    "\n",
    "# --- Connect & prepare DuckDB ---\n",
    "con = duckdb.connect()\n",
    "con.execute(\"INSTALL httpfs; LOAD httpfs;\")\n",
    "con.execute(\"INSTALL parquet; LOAD parquet;\")\n",
    "con.execute(\"SET s3_region='ap-south-1';\")  # bucket is public\n",
    "\n",
    "# --- 1) High court with most disposals (2019–2022) ---\n",
    "most_cases_df = con.execute(\"\"\"\n",
    "SELECT court, COUNT(*) AS cases_disposed\n",
    "FROM read_parquet(\n",
    "  's3://indian-high-court-judgments/metadata/parquet/year=*/court=*/bench=*/metadata.parquet'\n",
    ")\n",
    "WHERE year BETWEEN 2019 AND 2022\n",
    "  AND decision_date BETWEEN DATE '2019-01-01' AND DATE '2022-12-31'\n",
    "GROUP BY court\n",
    "ORDER BY cases_disposed DESC\n",
    "LIMIT 1\n",
    "\"\"\").df()\n",
    "\n",
    "most_cases_court = most_cases_df.iloc[0][\"court\"] if not most_cases_df.empty else None\n",
    "\n",
    "# --- 2) Regression slope of (decision_date - date_of_registration) by YEAR for court=33_10 ---\n",
    "# We compute per-year average delay (days), then regress avg_delay ~ year\n",
    "delay_by_year = con.execute(\"\"\"\n",
    "WITH delays AS (\n",
    "  SELECT\n",
    "    year,\n",
    "    DATE_DIFF('day', TRY_CAST(date_of_registration AS DATE), decision_date) AS delay_days\n",
    "  FROM read_parquet(\n",
    "    's3://indian-high-court-judgments/metadata/parquet/year=*/court=33_10/bench=*/metadata.parquet'\n",
    "  )\n",
    "  WHERE date_of_registration IS NOT NULL\n",
    "    AND decision_date IS NOT NULL\n",
    ")\n",
    "SELECT\n",
    "  year,\n",
    "  AVG(delay_days) AS avg_delay_days\n",
    "FROM delays\n",
    "WHERE delay_days IS NOT NULL\n",
    "GROUP BY year\n",
    "ORDER BY year\n",
    "\"\"\").df()\n",
    "\n",
    "if len(delay_by_year) >= 2:\n",
    "  x = delay_by_year[\"year\"].to_numpy(dtype=float)\n",
    "  y = delay_by_year[\"avg_delay_days\"].to_numpy(dtype=float)\n",
    "  slope, intercept = np.polyfit(x, y, 1)\n",
    "  slope_val = float(slope)\n",
    "else:\n",
    "  slope_val = float(\"nan\")  # not enough points\n",
    "\n",
    "# --- 3) Scatterplot (year vs avg delay) with dotted red regression line ---\n",
    "fig = plt.figure(figsize=(6, 4))\n",
    "plt.scatter(delay_by_year[\"year\"], delay_by_year[\"avg_delay_days\"], alpha=0.6, label=\"Average delay (days)\")\n",
    "if len(delay_by_year) >= 2:\n",
    "  xx = np.linspace(delay_by_year[\"year\"].min(), delay_by_year[\"year\"].max(), 200)\n",
    "  yy = slope_val * xx + intercept\n",
    "  plt.plot(xx, yy, \"r:\", label=\"Regression line\")\n",
    "plt.xlabel(\"Year\")\n",
    "plt.ylabel(\"Avg. days of delay (Decision - Registration)\")\n",
    "plt.title(\"court=33_10: Avg delay by year\")\n",
    "plt.legend()\n",
    "plt.tight_layout()\n",
    "\n",
    "buf = BytesIO()\n",
    "fig.savefig(buf, format=\"webp\")  # compact, stays well under 100k chars\n",
    "plt.close(fig)\n",
    "img_b64 = base64.b64encode(buf.getvalue()).decode(\"ascii\")\n",
    "data_uri = f\"data:image/webp;base64,{img_b64}\"\n",
    "\n",
    "# --- 4) Emit JSON result ---\n",
    "result = {\n",
    "  \"Which high court disposed the most cases from 2019 - 2022?\": str(most_cases_court),\n",
    "  \"What's the regression slope of the date_of_registration - decision_date by year in the court=33_10?\": str(slope_val),\n",
    "  \"Plot the year and # of days of delay from the above question as a scatterplot with a regression line. Encode as a base64 data URI under 100,000 characters\": data_uri\n",
    "}\n",
    "\n",
    "print(json.dumps(result, ensure_ascii=False))"
   ]
  },
  {
   "cell_type": "code",
   "execution_count": 26,
   "id": "744502c9",
   "metadata": {},
   "outputs": [
    {
     "data": {
      "text/html": [
       "<div>\n",
       "<style scoped>\n",
       "    .dataframe tbody tr th:only-of-type {\n",
       "        vertical-align: middle;\n",
       "    }\n",
       "\n",
       "    .dataframe tbody tr th {\n",
       "        vertical-align: top;\n",
       "    }\n",
       "\n",
       "    .dataframe thead th {\n",
       "        text-align: right;\n",
       "    }\n",
       "</style>\n",
       "<table border=\"1\" class=\"dataframe\">\n",
       "  <thead>\n",
       "    <tr style=\"text-align: right;\">\n",
       "      <th></th>\n",
       "      <th>year</th>\n",
       "      <th>avg_delay_days</th>\n",
       "    </tr>\n",
       "  </thead>\n",
       "  <tbody>\n",
       "  </tbody>\n",
       "</table>\n",
       "</div>"
      ],
      "text/plain": [
       "Empty DataFrame\n",
       "Columns: [year, avg_delay_days]\n",
       "Index: []"
      ]
     },
     "execution_count": 26,
     "metadata": {},
     "output_type": "execute_result"
    }
   ],
   "source": [
    "slope_val\n",
    "delay_by_year\n"
   ]
  },
  {
   "cell_type": "code",
   "execution_count": 9,
   "id": "baeaf697",
   "metadata": {},
   "outputs": [
    {
     "name": "stdout",
     "output_type": "stream",
     "text": [
      "Top court (2019–2022): 9_13\n",
      "{\n",
      "  \"Which high court disposed the most cases from 2019 - 2022?\": {\n",
      "    \"court\": \"9_13\",\n",
      "    \"cases_disposed\": 817786\n",
      "  }\n",
      "}\n"
     ]
    }
   ],
   "source": [
    "# pip install duckdb pandas\n",
    "\n",
    "import duckdb\n",
    "import pandas as pd\n",
    "import json\n",
    "\n",
    "# Connect to DuckDB (in-memory). Use duckdb.connect(\"mydb.duckdb\") to persist.\n",
    "con = duckdb.connect()\n",
    "\n",
    "# Enable S3/Parquet support\n",
    "con.execute(\"INSTALL httpfs; LOAD httpfs;\")\n",
    "con.execute(\"INSTALL parquet; LOAD parquet;\")\n",
    "con.execute(\"SET s3_region='ap-south-1';\")  # public bucket region\n",
    "\n",
    "# Query: court with most disposals between 2019 and 2022\n",
    "sql_top = \"\"\"\n",
    "SELECT court, COUNT(*) AS cases_disposed\n",
    "FROM read_parquet(\n",
    "  's3://indian-high-court-judgments/metadata/parquet/year=*/court=*/bench=*/metadata.parquet'\n",
    ")\n",
    "WHERE year BETWEEN 2019 AND 2022\n",
    "  AND decision_date BETWEEN DATE '2019-01-01' AND DATE '2022-12-31'\n",
    "GROUP BY court\n",
    "ORDER BY cases_disposed DESC\n",
    "LIMIT 1\n",
    "\"\"\"\n",
    "\n",
    "top_df = con.execute(sql_top).df()\n",
    "\n",
    "# Also get the full ranking (optional)\n",
    "sql_full = sql_top.replace(\"LIMIT 1\", \"\")\n",
    "full_df = con.execute(sql_full).df()\n",
    "\n",
    "# Print answers\n",
    "top_court = None if top_df.empty else top_df.iloc[0][\"court\"]\n",
    "print(\"Top court (2019–2022):\", top_court)\n",
    "\n",
    "# If you want JSON output:\n",
    "result = {\n",
    "    \"Which high court disposed the most cases from 2019 - 2022?\": None if top_df.empty else {\n",
    "        \"court\": top_df.iloc[0][\"court\"],\n",
    "        \"cases_disposed\": int(top_df.iloc[0][\"cases_disposed\"])\n",
    "    }\n",
    "}\n",
    "print(json.dumps(result, ensure_ascii=False, indent=2))\n",
    "\n",
    "# (Optional) Show full ranking as a table\n",
    "# print(full_df.head(25).to_string(index=False))"
   ]
  },
  {
   "cell_type": "code",
   "execution_count": 34,
   "id": "a38e8b98",
   "metadata": {},
   "outputs": [
    {
     "name": "stdout",
     "output_type": "stream",
     "text": [
      "{\"What's the regression slope of the date_of_registration - decision_date by year in the court=33_10?\": -21.07628484290379}\n"
     ]
    }
   ],
   "source": [
    "# pip install duckdb pandas numpy\n",
    "\n",
    "import duckdb\n",
    "import numpy as np\n",
    "import pandas as pd\n",
    "\n",
    "# Connect\n",
    "con = duckdb.connect()\n",
    "con.execute(\"INSTALL httpfs; LOAD httpfs;\")\n",
    "con.execute(\"INSTALL parquet; LOAD parquet;\")\n",
    "con.execute(\"SET s3_region='ap-south-1';\")  # public bucket\n",
    "\n",
    "# Query: average delay per year for court=33_10\n",
    "delay_by_year = con.execute(\"\"\"\n",
    "WITH delays AS (\n",
    "  SELECT\n",
    "    year,\n",
    "    DATE_DIFF('day', TRY_CAST(TRY_STRPTIME(date_of_registration, '%d-%m-%Y') AS DATE), decision_date) AS delay_days\n",
    "  FROM read_parquet(\n",
    "    's3://indian-high-court-judgments/metadata/parquet/year=*/court=33_10/bench=*/metadata.parquet'\n",
    "  )\n",
    "  WHERE date_of_registration IS NOT NULL\n",
    "    AND decision_date IS NOT NULL\n",
    ")\n",
    "SELECT\n",
    "  year,\n",
    "  AVG(delay_days) AS avg_delay_days\n",
    "FROM delays\n",
    "WHERE delay_days IS NOT NULL\n",
    "GROUP BY year\n",
    "ORDER BY year\n",
    "\"\"\").df()\n",
    "\n",
    "# Regression: avg_delay_days ~ year\n",
    "if len(delay_by_year) >= 2:\n",
    "    x = delay_by_year[\"year\"].to_numpy(dtype=float)\n",
    "    y = delay_by_year[\"avg_delay_days\"].to_numpy(dtype=float)\n",
    "    slope, intercept = np.polyfit(x, y, 1)\n",
    "    slope_val = float(slope)\n",
    "else:\n",
    "    slope_val = float(\"nan\")\n",
    "\n",
    "print({\n",
    "    \"What's the regression slope of the date_of_registration - decision_date by year in the court=33_10?\": slope_val\n",
    "})"
   ]
  },
  {
   "cell_type": "code",
   "execution_count": 14,
   "id": "268f7dd3",
   "metadata": {},
   "outputs": [
    {
     "data": {
      "text/plain": [
       "0"
      ]
     },
     "execution_count": 14,
     "metadata": {},
     "output_type": "execute_result"
    }
   ],
   "source": [
    "len(delay_by_year)"
   ]
  },
  {
   "cell_type": "code",
   "execution_count": 1,
   "id": "f6b7bf61",
   "metadata": {},
   "outputs": [],
   "source": [
    "# pip install duckdb pandas\n",
    "\n",
    "import duckdb\n",
    "import pandas as pd\n",
    "import json\n",
    "\n",
    "# Connect to DuckDB (in-memory). Use duckdb.connect(\"mydb.duckdb\") to persist.\n",
    "con = duckdb.connect()\n",
    "\n",
    "# Enable S3/Parquet support\n",
    "# con.execute(\"INSTALL httpfs; LOAD httpfs;\")\n",
    "# con.execute(\"INSTALL parquet; LOAD parquet;\")\n",
    "# con.execute(\"SET s3_region='ap-south-1';\")  # public bucket region\n",
    "\n",
    "# Query: court with most disposals between 2019 and 2022\n",
    "sql_top = \"\"\"\n",
    "INSTALL httpfs; LOAD httpfs;\n",
    "INSTALL parquet; LOAD parquet;\n",
    "\n",
    "SELECT year, AVG(DATEDIFF(\\'day\\', TRY_CAST(TRY_STRPTIME(date_of_registration, \\'%d-%m-%Y\\') AS DATE), decision_date)) AS avg_delay_days FROM read_parquet(\\'s3://indian-high-court-judgments/metadata/parquet/year=*/court=*/bench=*/metadata.parquet?s3_region=ap-south-1\\') WHERE court = \\'33_10\\' GROUP BY year ORDER BY year;\n",
    "\"\"\"\n",
    "\n",
    "top_df = con.execute(sql_top).df()"
   ]
  },
  {
   "cell_type": "code",
   "execution_count": 2,
   "id": "7c9de2ec",
   "metadata": {},
   "outputs": [
    {
     "data": {
      "text/html": [
       "<div>\n",
       "<style scoped>\n",
       "    .dataframe tbody tr th:only-of-type {\n",
       "        vertical-align: middle;\n",
       "    }\n",
       "\n",
       "    .dataframe tbody tr th {\n",
       "        vertical-align: top;\n",
       "    }\n",
       "\n",
       "    .dataframe thead th {\n",
       "        text-align: right;\n",
       "    }\n",
       "</style>\n",
       "<table border=\"1\" class=\"dataframe\">\n",
       "  <thead>\n",
       "    <tr style=\"text-align: right;\">\n",
       "      <th></th>\n",
       "      <th>year</th>\n",
       "      <th>avg_delay_days</th>\n",
       "    </tr>\n",
       "  </thead>\n",
       "  <tbody>\n",
       "    <tr>\n",
       "      <th>0</th>\n",
       "      <td>1995</td>\n",
       "      <td>347.000000</td>\n",
       "    </tr>\n",
       "    <tr>\n",
       "      <th>1</th>\n",
       "      <td>1996</td>\n",
       "      <td>2425.500000</td>\n",
       "    </tr>\n",
       "    <tr>\n",
       "      <th>2</th>\n",
       "      <td>1997</td>\n",
       "      <td>209.000000</td>\n",
       "    </tr>\n",
       "    <tr>\n",
       "      <th>3</th>\n",
       "      <td>1999</td>\n",
       "      <td>-484.000000</td>\n",
       "    </tr>\n",
       "    <tr>\n",
       "      <th>4</th>\n",
       "      <td>2000</td>\n",
       "      <td>809.000000</td>\n",
       "    </tr>\n",
       "    <tr>\n",
       "      <th>5</th>\n",
       "      <td>2001</td>\n",
       "      <td>1024.350877</td>\n",
       "    </tr>\n",
       "    <tr>\n",
       "      <th>6</th>\n",
       "      <td>2002</td>\n",
       "      <td>1668.532683</td>\n",
       "    </tr>\n",
       "    <tr>\n",
       "      <th>7</th>\n",
       "      <td>2003</td>\n",
       "      <td>1228.799087</td>\n",
       "    </tr>\n",
       "    <tr>\n",
       "      <th>8</th>\n",
       "      <td>2004</td>\n",
       "      <td>1455.112920</td>\n",
       "    </tr>\n",
       "    <tr>\n",
       "      <th>9</th>\n",
       "      <td>2005</td>\n",
       "      <td>1477.061947</td>\n",
       "    </tr>\n",
       "    <tr>\n",
       "      <th>10</th>\n",
       "      <td>2006</td>\n",
       "      <td>960.846992</td>\n",
       "    </tr>\n",
       "    <tr>\n",
       "      <th>11</th>\n",
       "      <td>2007</td>\n",
       "      <td>1257.139396</td>\n",
       "    </tr>\n",
       "    <tr>\n",
       "      <th>12</th>\n",
       "      <td>2008</td>\n",
       "      <td>1320.023223</td>\n",
       "    </tr>\n",
       "    <tr>\n",
       "      <th>13</th>\n",
       "      <td>2009</td>\n",
       "      <td>912.451453</td>\n",
       "    </tr>\n",
       "    <tr>\n",
       "      <th>14</th>\n",
       "      <td>2010</td>\n",
       "      <td>1057.555556</td>\n",
       "    </tr>\n",
       "    <tr>\n",
       "      <th>15</th>\n",
       "      <td>2011</td>\n",
       "      <td>205.874047</td>\n",
       "    </tr>\n",
       "    <tr>\n",
       "      <th>16</th>\n",
       "      <td>2012</td>\n",
       "      <td>704.281327</td>\n",
       "    </tr>\n",
       "    <tr>\n",
       "      <th>17</th>\n",
       "      <td>2013</td>\n",
       "      <td>189.983861</td>\n",
       "    </tr>\n",
       "    <tr>\n",
       "      <th>18</th>\n",
       "      <td>2014</td>\n",
       "      <td>239.386033</td>\n",
       "    </tr>\n",
       "    <tr>\n",
       "      <th>19</th>\n",
       "      <td>2015</td>\n",
       "      <td>264.302053</td>\n",
       "    </tr>\n",
       "    <tr>\n",
       "      <th>20</th>\n",
       "      <td>2016</td>\n",
       "      <td>296.005830</td>\n",
       "    </tr>\n",
       "    <tr>\n",
       "      <th>21</th>\n",
       "      <td>2017</td>\n",
       "      <td>654.084600</td>\n",
       "    </tr>\n",
       "    <tr>\n",
       "      <th>22</th>\n",
       "      <td>2018</td>\n",
       "      <td>668.285408</td>\n",
       "    </tr>\n",
       "    <tr>\n",
       "      <th>23</th>\n",
       "      <td>2019</td>\n",
       "      <td>780.357086</td>\n",
       "    </tr>\n",
       "    <tr>\n",
       "      <th>24</th>\n",
       "      <td>2020</td>\n",
       "      <td>597.779433</td>\n",
       "    </tr>\n",
       "    <tr>\n",
       "      <th>25</th>\n",
       "      <td>2021</td>\n",
       "      <td>628.875959</td>\n",
       "    </tr>\n",
       "    <tr>\n",
       "      <th>26</th>\n",
       "      <td>2022</td>\n",
       "      <td>579.984528</td>\n",
       "    </tr>\n",
       "    <tr>\n",
       "      <th>27</th>\n",
       "      <td>2023</td>\n",
       "      <td>552.273924</td>\n",
       "    </tr>\n",
       "    <tr>\n",
       "      <th>28</th>\n",
       "      <td>2024</td>\n",
       "      <td>502.659532</td>\n",
       "    </tr>\n",
       "    <tr>\n",
       "      <th>29</th>\n",
       "      <td>2025</td>\n",
       "      <td>391.620998</td>\n",
       "    </tr>\n",
       "  </tbody>\n",
       "</table>\n",
       "</div>"
      ],
      "text/plain": [
       "    year  avg_delay_days\n",
       "0   1995      347.000000\n",
       "1   1996     2425.500000\n",
       "2   1997      209.000000\n",
       "3   1999     -484.000000\n",
       "4   2000      809.000000\n",
       "5   2001     1024.350877\n",
       "6   2002     1668.532683\n",
       "7   2003     1228.799087\n",
       "8   2004     1455.112920\n",
       "9   2005     1477.061947\n",
       "10  2006      960.846992\n",
       "11  2007     1257.139396\n",
       "12  2008     1320.023223\n",
       "13  2009      912.451453\n",
       "14  2010     1057.555556\n",
       "15  2011      205.874047\n",
       "16  2012      704.281327\n",
       "17  2013      189.983861\n",
       "18  2014      239.386033\n",
       "19  2015      264.302053\n",
       "20  2016      296.005830\n",
       "21  2017      654.084600\n",
       "22  2018      668.285408\n",
       "23  2019      780.357086\n",
       "24  2020      597.779433\n",
       "25  2021      628.875959\n",
       "26  2022      579.984528\n",
       "27  2023      552.273924\n",
       "28  2024      502.659532\n",
       "29  2025      391.620998"
      ]
     },
     "execution_count": 2,
     "metadata": {},
     "output_type": "execute_result"
    }
   ],
   "source": [
    "top_df"
   ]
  },
  {
   "cell_type": "code",
   "execution_count": 3,
   "id": "b43e137e",
   "metadata": {},
   "outputs": [],
   "source": [
    "from typing_extensions import Dict, List, TypedDict, Annotated, Optional, Any, Tuple\n",
    "from pydantic import BaseModel, Field, ConfigDict\n",
    "import re\n",
    "import subprocess\n",
    "import sys\n",
    "import os\n",
    "\n",
    "import pandas as pd\n",
    "import duckdb\n",
    "\n",
    "from langgraph.graph import StateGraph, START, END\n",
    "from langgraph.graph.message import add_messages\n",
    "from langgraph.prebuilt import ToolNode, tools_condition\n",
    "from langgraph.checkpoint.memory import MemorySaver\n",
    "from langchain.schema import BaseMessage\n",
    "\n",
    "from langchain.chat_models import init_chat_model\n",
    "from langchain_openai import ChatOpenAI\n",
    "from langchain_core.messages import HumanMessage, AnyMessage, SystemMessage, AIMessage, ToolMessage\n",
    "from langchain_core.tools import tool\n",
    "\n",
    "from fastapi import FastAPI, UploadFile, File, Form, HTTPException\n",
    "from fastapi.middleware.cors import CORSMiddleware\n",
    "from fastapi.responses import JSONResponse\n",
    "import uvicorn\n",
    "\n",
    "from agents.wikipedia import Wikipedia\n",
    "from agents.sessionstore import SessionStore\n",
    "from agents.plot import ScatterPlot\n",
    "\n"
   ]
  },
  {
   "cell_type": "code",
   "execution_count": 19,
   "id": "6b566339",
   "metadata": {},
   "outputs": [],
   "source": [
    "\n",
    "class ParsedBlocks(BaseModel):\n",
    "    model_config = ConfigDict(extra='forbid')\n",
    "    content: Dict[str, Any]"
   ]
  },
  {
   "cell_type": "code",
   "execution_count": 13,
   "id": "0581dfd1",
   "metadata": {},
   "outputs": [],
   "source": [
    "llm = ChatOpenAI(model=\"gpt-5-nano\", temperature=0)"
   ]
  },
  {
   "cell_type": "code",
   "execution_count": 22,
   "id": "3bc9717a",
   "metadata": {},
   "outputs": [],
   "source": [
    "prompt = \"\"\"content='{\\n  \"Which high court disposed the most cases from 2019 - 2022?\": \"9_13\",\\n  \"What\\'s the regression slope of the date_of_registration - decision_date by year in the court=33_10?\": 5.448544,\\n  \"Plot the year and # of days of delay from the above question as a scatterplot with a regression line. Encode as a base64 data URI under 100,000 characters\": \"data:image/png;base64,iVBORw0KGgoAAAANSUhEUgAAAeAAAAFoCAYAAACPNyggAAAAOnRFWHRTb2Z0d2FyZQBNYXRwbG90bGliIHZlcnNpb24zLjEwLjUsIGh0dHBzOi8vbWF0cGxvdGxpYi5vcmcvWftoOwAAAAlwSFlzAAASdAAAEnQB3mYfeAAAUohJREFUeJzt3Ql8DPf7B/BHQuKIJELiFsR9hqKl7lup1q11VauuVtXRS7VKVQ+ql/Kj7b/aoqqUUj0VrZu4r7jFLYmQCLkz/9fnm87abDan3Uw2+3m/XisyO7MzOzvZZ77X8y2gaZomRERElKtccnd3REREBAzAREREBmAAJiIiMgADMBERkQEYgImIiAzAAExERGQABmAiIiIDMAATEREZgAGYiIjIAAzAREREBmAAJiIiMgADMBERkQEYgImIiAzAAExERGQABmAiIiIDMAATEREZgAGYiIjIAAzAREREBmAAJiIiMgADMBERkQEYgImIiAzAAExERGQABmAiIiIDMAATERE5QwCOj4+XO3fu5PZuiYiInCMAL1++XCZMmJBq2fTp08XDw0O8vb2lV69eEh0dnaPXxnbTpk2Trl27io+PjxQoUEAWL16cZr2nnnpKPWf5qFWrVpb3tXbtWmncuLEULlxYKlWqpPabmJiYo+MmIiLSFRQ7+fDDD6VRo0am37dv364CcPfu3aV27dry2WefyTvvvCPvvvtutl87PDxcZsyYoQJiw4YNZfPmzemu6+7uLl9++WWqZV5eXlnaz2+//SaPP/64tG3bVh3v4cOHZebMmRIaGioLFizI9nETERHZPQCfOXNGhg0bZvp92bJlUqZMGVm9erUULFhQkpOTZdWqVTkKwGXLlpWrV6+q1wsKCpKmTZumuy72NXjw4By9h8mTJ0uDBg3kzz//VK8Dnp6d\"\\n}' additional_kwargs={'refusal': None} response_metadata={'token_usage': {'completion_tokens': 6389, 'prompt_tokens': 20959, 'total_tokens': 27348, 'completion_tokens_details': {'accepted_prediction_tokens': 0, 'audio_tokens': 0, 'reasoning_tokens': 5696, 'rejected_prediction_tokens': 0}, 'prompt_tokens_details': {'audio_tokens': 0, 'cached_tokens': 1408}}, 'model_name': 'gpt-5-nano-2025-08-07', 'system_fingerprint': None, 'id': 'chatcmpl-C59gfnCPxXhvV3pLkBR0YIa2yTNrA', 'service_tier': 'default', 'finish_reason': 'stop', 'logprobs': None} id='run--8d5e1c96-dab3-4047-9ab0-4f266bd9100d-0' usage_metadata={'input_tokens': 20959, 'output_tokens': 6389, 'total_tokens': 27348, 'input_token_details': {'audio': 0, 'cache_read': 1408}, 'output_token_details': {'audio': 0, 'reasoning': 5696}} \"\"\""
   ]
  },
  {
   "cell_type": "code",
   "execution_count": 23,
   "id": "5bc6904c",
   "metadata": {},
   "outputs": [
    {
     "name": "stdout",
     "output_type": "stream",
     "text": [
      "['9_13', 5.448544, 'data:image/png;base64,iVBORw0KGgoAAAANSUhEUgAAAeAAAAFoCAYAAACPNyggAAAAOnRFWHRTb2Z0d2FyZQBNYXRwbG90bGliIHZlcnNpb24zLjEwLjUsIGh0dHBzOi8vbWF0cGxvdGxpYi5vcmcvWftoOwAAAAlwSFlzAAASdAAAEnQB3mYfeAAAUohJREFUeJzt3Ql8DPf7B/BHQuKIJELiFsR9hqKl7lup1q11VauuVtXRS7VKVQ+ql/Kj7b/aoqqUUj0VrZu4r7jFLYmQCLkz/9fnm87abDan3Uw2+3m/XisyO7MzOzvZZ77X8y2gaZomRERElKtccnd3REREBAzAREREBmAAJiIiMgADMBERkQEYgImIiAzAAExERGQABmAiIiIDMAATEREZgAGYiIjIAAzAREREBmAAJiIiMgADMBERkQEYgImIiAzAAExERGQABmAiIiIDMAATEREZgAGYiIjIAAzAREREBmAAJiIiMgADMBERkQEYgImIiAzAAExERGQABmAiIiIDMAATERE5QwCOj4+XO3fu5PZuiYiInCMAL1++XCZMmJBq2fTp08XDw0O8vb2lV69eEh0dnaPXxnbTpk2Trl27io+PjxQoUEAWL16cZr2nnnpKPWf5qFWrVpb3tXbtWmncuLEULlxYKlWqpPabmJiYo+MmIiLSFRQ7+fDDD6VRo0am37dv364CcPfu3aV27dry2WefyTvvvCPvvvtutl87PDxcZsyYoQJiw4YNZfPmzemu6+7uLl9++WWqZV5eXlnaz2+//SaPP/64tG3bVh3v4cOHZebMmRIaGioLFizI9nETERHZPQCfOXNGhg0bZvp92bJlUqZMGVm9erUULFhQkpOTZdWqVTkKwGXLlpWrV6+q1wsKCpKmTZumuy72NXjw4By9h8mTJ0uDBg3kzz//VK8Dnp6d']\n"
     ]
    }
   ],
   "source": [
    "# Extract between content=' ... '\n",
    "match = re.search(r\"content='({.*?})'\", prompt, re.DOTALL)\n",
    "if match:\n",
    "    json_str = match.group(1)  # This is the JSON string\n",
    "    parsed = json.loads(json_str)\n",
    "    values = list(parsed.values())\n",
    "    print(values)"
   ]
  },
  {
   "cell_type": "code",
   "execution_count": 16,
   "id": "3c3886a6",
   "metadata": {},
   "outputs": [],
   "source": [
    "match = re.search(r\"content='(.*?)'\\s\", prompt, re.DOTALL)\n",
    "if not match:\n",
    "    raise ValueError(\"Could not find JSON content\")\n",
    "prompt = match.group(1)"
   ]
  },
  {
   "cell_type": "code",
   "execution_count": 21,
   "id": "5af90aa1",
   "metadata": {},
   "outputs": [],
   "source": [
    "parsed = ParsedBlocks(content=json.loads(prompt))"
   ]
  },
  {
   "cell_type": "code",
   "execution_count": 20,
   "id": "2fda8825",
   "metadata": {},
   "outputs": [
    {
     "name": "stderr",
     "output_type": "stream",
     "text": [
      "/Users/weigfhx/Library/CloudStorage/OneDrive-Allianz/GitHub/project-data-analyst-agent/.venv/lib/python3.11/site-packages/langchain_openai/chat_models/base.py:425: UserWarning: Invalid schema for OpenAI's structured output feature, which is the default method for `with_structured_output` as of langchain-openai==0.3. Specify `method=\"function_calling\"` instead or update your schema. See supported schemas: https://platform.openai.com/docs/guides/structured-outputs#supported-schemas\n",
      "  warnings.warn(message)\n"
     ]
    },
    {
     "ename": "BadRequestError",
     "evalue": "Error code: 400 - {'error': {'message': \"Invalid schema for response_format 'ParsedBlocks': In context=('properties', 'content'), 'additionalProperties' is required to be supplied and to be false.\", 'type': 'invalid_request_error', 'param': 'response_format', 'code': None}}",
     "output_type": "error",
     "traceback": [
      "\u001b[31m---------------------------------------------------------------------------\u001b[39m",
      "\u001b[31mBadRequestError\u001b[39m                           Traceback (most recent call last)",
      "\u001b[36mCell\u001b[39m\u001b[36m \u001b[39m\u001b[32mIn[20]\u001b[39m\u001b[32m, line 1\u001b[39m\n\u001b[32m----> \u001b[39m\u001b[32m1\u001b[39m parsed: ParsedBlocks = \u001b[43mllm\u001b[49m\u001b[43m.\u001b[49m\u001b[43mwith_structured_output\u001b[49m\u001b[43m(\u001b[49m\u001b[43mParsedBlocks\u001b[49m\u001b[43m)\u001b[49m\u001b[43m.\u001b[49m\u001b[43minvoke\u001b[49m\u001b[43m(\u001b[49m\u001b[43mprompt\u001b[49m\u001b[43m)\u001b[49m\n",
      "\u001b[36mFile \u001b[39m\u001b[32m~/Library/CloudStorage/OneDrive-Allianz/GitHub/project-data-analyst-agent/.venv/lib/python3.11/site-packages/langchain_core/runnables/base.py:3047\u001b[39m, in \u001b[36mRunnableSequence.invoke\u001b[39m\u001b[34m(self, input, config, **kwargs)\u001b[39m\n\u001b[32m   3045\u001b[39m \u001b[38;5;28;01mwith\u001b[39;00m set_config_context(config) \u001b[38;5;28;01mas\u001b[39;00m context:\n\u001b[32m   3046\u001b[39m     \u001b[38;5;28;01mif\u001b[39;00m i == \u001b[32m0\u001b[39m:\n\u001b[32m-> \u001b[39m\u001b[32m3047\u001b[39m         input_ = \u001b[43mcontext\u001b[49m\u001b[43m.\u001b[49m\u001b[43mrun\u001b[49m\u001b[43m(\u001b[49m\u001b[43mstep\u001b[49m\u001b[43m.\u001b[49m\u001b[43minvoke\u001b[49m\u001b[43m,\u001b[49m\u001b[43m \u001b[49m\u001b[43minput_\u001b[49m\u001b[43m,\u001b[49m\u001b[43m \u001b[49m\u001b[43mconfig\u001b[49m\u001b[43m,\u001b[49m\u001b[43m \u001b[49m\u001b[43m*\u001b[49m\u001b[43m*\u001b[49m\u001b[43mkwargs\u001b[49m\u001b[43m)\u001b[49m\n\u001b[32m   3048\u001b[39m     \u001b[38;5;28;01melse\u001b[39;00m:\n\u001b[32m   3049\u001b[39m         input_ = context.run(step.invoke, input_, config)\n",
      "\u001b[36mFile \u001b[39m\u001b[32m~/Library/CloudStorage/OneDrive-Allianz/GitHub/project-data-analyst-agent/.venv/lib/python3.11/site-packages/langchain_core/runnables/base.py:5441\u001b[39m, in \u001b[36mRunnableBindingBase.invoke\u001b[39m\u001b[34m(self, input, config, **kwargs)\u001b[39m\n\u001b[32m   5434\u001b[39m \u001b[38;5;129m@override\u001b[39m\n\u001b[32m   5435\u001b[39m \u001b[38;5;28;01mdef\u001b[39;00m\u001b[38;5;250m \u001b[39m\u001b[34minvoke\u001b[39m(\n\u001b[32m   5436\u001b[39m     \u001b[38;5;28mself\u001b[39m,\n\u001b[32m   (...)\u001b[39m\u001b[32m   5439\u001b[39m     **kwargs: Optional[Any],\n\u001b[32m   5440\u001b[39m ) -> Output:\n\u001b[32m-> \u001b[39m\u001b[32m5441\u001b[39m     \u001b[38;5;28;01mreturn\u001b[39;00m \u001b[38;5;28;43mself\u001b[39;49m\u001b[43m.\u001b[49m\u001b[43mbound\u001b[49m\u001b[43m.\u001b[49m\u001b[43minvoke\u001b[49m\u001b[43m(\u001b[49m\n\u001b[32m   5442\u001b[39m \u001b[43m        \u001b[49m\u001b[38;5;28;43minput\u001b[39;49m\u001b[43m,\u001b[49m\n\u001b[32m   5443\u001b[39m \u001b[43m        \u001b[49m\u001b[38;5;28;43mself\u001b[39;49m\u001b[43m.\u001b[49m\u001b[43m_merge_configs\u001b[49m\u001b[43m(\u001b[49m\u001b[43mconfig\u001b[49m\u001b[43m)\u001b[49m\u001b[43m,\u001b[49m\n\u001b[32m   5444\u001b[39m \u001b[43m        \u001b[49m\u001b[43m*\u001b[49m\u001b[43m*\u001b[49m\u001b[43m{\u001b[49m\u001b[43m*\u001b[49m\u001b[43m*\u001b[49m\u001b[38;5;28;43mself\u001b[39;49m\u001b[43m.\u001b[49m\u001b[43mkwargs\u001b[49m\u001b[43m,\u001b[49m\u001b[43m \u001b[49m\u001b[43m*\u001b[49m\u001b[43m*\u001b[49m\u001b[43mkwargs\u001b[49m\u001b[43m}\u001b[49m\u001b[43m,\u001b[49m\n\u001b[32m   5445\u001b[39m \u001b[43m    \u001b[49m\u001b[43m)\u001b[49m\n",
      "\u001b[36mFile \u001b[39m\u001b[32m~/Library/CloudStorage/OneDrive-Allianz/GitHub/project-data-analyst-agent/.venv/lib/python3.11/site-packages/langchain_core/language_models/chat_models.py:383\u001b[39m, in \u001b[36mBaseChatModel.invoke\u001b[39m\u001b[34m(self, input, config, stop, **kwargs)\u001b[39m\n\u001b[32m    371\u001b[39m \u001b[38;5;129m@override\u001b[39m\n\u001b[32m    372\u001b[39m \u001b[38;5;28;01mdef\u001b[39;00m\u001b[38;5;250m \u001b[39m\u001b[34minvoke\u001b[39m(\n\u001b[32m    373\u001b[39m     \u001b[38;5;28mself\u001b[39m,\n\u001b[32m   (...)\u001b[39m\u001b[32m    378\u001b[39m     **kwargs: Any,\n\u001b[32m    379\u001b[39m ) -> BaseMessage:\n\u001b[32m    380\u001b[39m     config = ensure_config(config)\n\u001b[32m    381\u001b[39m     \u001b[38;5;28;01mreturn\u001b[39;00m cast(\n\u001b[32m    382\u001b[39m         \u001b[33m\"\u001b[39m\u001b[33mChatGeneration\u001b[39m\u001b[33m\"\u001b[39m,\n\u001b[32m--> \u001b[39m\u001b[32m383\u001b[39m         \u001b[38;5;28;43mself\u001b[39;49m\u001b[43m.\u001b[49m\u001b[43mgenerate_prompt\u001b[49m\u001b[43m(\u001b[49m\n\u001b[32m    384\u001b[39m \u001b[43m            \u001b[49m\u001b[43m[\u001b[49m\u001b[38;5;28;43mself\u001b[39;49m\u001b[43m.\u001b[49m\u001b[43m_convert_input\u001b[49m\u001b[43m(\u001b[49m\u001b[38;5;28;43minput\u001b[39;49m\u001b[43m)\u001b[49m\u001b[43m]\u001b[49m\u001b[43m,\u001b[49m\n\u001b[32m    385\u001b[39m \u001b[43m            \u001b[49m\u001b[43mstop\u001b[49m\u001b[43m=\u001b[49m\u001b[43mstop\u001b[49m\u001b[43m,\u001b[49m\n\u001b[32m    386\u001b[39m \u001b[43m            \u001b[49m\u001b[43mcallbacks\u001b[49m\u001b[43m=\u001b[49m\u001b[43mconfig\u001b[49m\u001b[43m.\u001b[49m\u001b[43mget\u001b[49m\u001b[43m(\u001b[49m\u001b[33;43m\"\u001b[39;49m\u001b[33;43mcallbacks\u001b[39;49m\u001b[33;43m\"\u001b[39;49m\u001b[43m)\u001b[49m\u001b[43m,\u001b[49m\n\u001b[32m    387\u001b[39m \u001b[43m            \u001b[49m\u001b[43mtags\u001b[49m\u001b[43m=\u001b[49m\u001b[43mconfig\u001b[49m\u001b[43m.\u001b[49m\u001b[43mget\u001b[49m\u001b[43m(\u001b[49m\u001b[33;43m\"\u001b[39;49m\u001b[33;43mtags\u001b[39;49m\u001b[33;43m\"\u001b[39;49m\u001b[43m)\u001b[49m\u001b[43m,\u001b[49m\n\u001b[32m    388\u001b[39m \u001b[43m            \u001b[49m\u001b[43mmetadata\u001b[49m\u001b[43m=\u001b[49m\u001b[43mconfig\u001b[49m\u001b[43m.\u001b[49m\u001b[43mget\u001b[49m\u001b[43m(\u001b[49m\u001b[33;43m\"\u001b[39;49m\u001b[33;43mmetadata\u001b[39;49m\u001b[33;43m\"\u001b[39;49m\u001b[43m)\u001b[49m\u001b[43m,\u001b[49m\n\u001b[32m    389\u001b[39m \u001b[43m            \u001b[49m\u001b[43mrun_name\u001b[49m\u001b[43m=\u001b[49m\u001b[43mconfig\u001b[49m\u001b[43m.\u001b[49m\u001b[43mget\u001b[49m\u001b[43m(\u001b[49m\u001b[33;43m\"\u001b[39;49m\u001b[33;43mrun_name\u001b[39;49m\u001b[33;43m\"\u001b[39;49m\u001b[43m)\u001b[49m\u001b[43m,\u001b[49m\n\u001b[32m    390\u001b[39m \u001b[43m            \u001b[49m\u001b[43mrun_id\u001b[49m\u001b[43m=\u001b[49m\u001b[43mconfig\u001b[49m\u001b[43m.\u001b[49m\u001b[43mpop\u001b[49m\u001b[43m(\u001b[49m\u001b[33;43m\"\u001b[39;49m\u001b[33;43mrun_id\u001b[39;49m\u001b[33;43m\"\u001b[39;49m\u001b[43m,\u001b[49m\u001b[43m \u001b[49m\u001b[38;5;28;43;01mNone\u001b[39;49;00m\u001b[43m)\u001b[49m\u001b[43m,\u001b[49m\n\u001b[32m    391\u001b[39m \u001b[43m            \u001b[49m\u001b[43m*\u001b[49m\u001b[43m*\u001b[49m\u001b[43mkwargs\u001b[49m\u001b[43m,\u001b[49m\n\u001b[32m    392\u001b[39m \u001b[43m        \u001b[49m\u001b[43m)\u001b[49m.generations[\u001b[32m0\u001b[39m][\u001b[32m0\u001b[39m],\n\u001b[32m    393\u001b[39m     ).message\n",
      "\u001b[36mFile \u001b[39m\u001b[32m~/Library/CloudStorage/OneDrive-Allianz/GitHub/project-data-analyst-agent/.venv/lib/python3.11/site-packages/langchain_core/language_models/chat_models.py:1006\u001b[39m, in \u001b[36mBaseChatModel.generate_prompt\u001b[39m\u001b[34m(self, prompts, stop, callbacks, **kwargs)\u001b[39m\n\u001b[32m    997\u001b[39m \u001b[38;5;129m@override\u001b[39m\n\u001b[32m    998\u001b[39m \u001b[38;5;28;01mdef\u001b[39;00m\u001b[38;5;250m \u001b[39m\u001b[34mgenerate_prompt\u001b[39m(\n\u001b[32m    999\u001b[39m     \u001b[38;5;28mself\u001b[39m,\n\u001b[32m   (...)\u001b[39m\u001b[32m   1003\u001b[39m     **kwargs: Any,\n\u001b[32m   1004\u001b[39m ) -> LLMResult:\n\u001b[32m   1005\u001b[39m     prompt_messages = [p.to_messages() \u001b[38;5;28;01mfor\u001b[39;00m p \u001b[38;5;129;01min\u001b[39;00m prompts]\n\u001b[32m-> \u001b[39m\u001b[32m1006\u001b[39m     \u001b[38;5;28;01mreturn\u001b[39;00m \u001b[38;5;28;43mself\u001b[39;49m\u001b[43m.\u001b[49m\u001b[43mgenerate\u001b[49m\u001b[43m(\u001b[49m\u001b[43mprompt_messages\u001b[49m\u001b[43m,\u001b[49m\u001b[43m \u001b[49m\u001b[43mstop\u001b[49m\u001b[43m=\u001b[49m\u001b[43mstop\u001b[49m\u001b[43m,\u001b[49m\u001b[43m \u001b[49m\u001b[43mcallbacks\u001b[49m\u001b[43m=\u001b[49m\u001b[43mcallbacks\u001b[49m\u001b[43m,\u001b[49m\u001b[43m \u001b[49m\u001b[43m*\u001b[49m\u001b[43m*\u001b[49m\u001b[43mkwargs\u001b[49m\u001b[43m)\u001b[49m\n",
      "\u001b[36mFile \u001b[39m\u001b[32m~/Library/CloudStorage/OneDrive-Allianz/GitHub/project-data-analyst-agent/.venv/lib/python3.11/site-packages/langchain_core/language_models/chat_models.py:825\u001b[39m, in \u001b[36mBaseChatModel.generate\u001b[39m\u001b[34m(self, messages, stop, callbacks, tags, metadata, run_name, run_id, **kwargs)\u001b[39m\n\u001b[32m    822\u001b[39m \u001b[38;5;28;01mfor\u001b[39;00m i, m \u001b[38;5;129;01min\u001b[39;00m \u001b[38;5;28menumerate\u001b[39m(input_messages):\n\u001b[32m    823\u001b[39m     \u001b[38;5;28;01mtry\u001b[39;00m:\n\u001b[32m    824\u001b[39m         results.append(\n\u001b[32m--> \u001b[39m\u001b[32m825\u001b[39m             \u001b[38;5;28;43mself\u001b[39;49m\u001b[43m.\u001b[49m\u001b[43m_generate_with_cache\u001b[49m\u001b[43m(\u001b[49m\n\u001b[32m    826\u001b[39m \u001b[43m                \u001b[49m\u001b[43mm\u001b[49m\u001b[43m,\u001b[49m\n\u001b[32m    827\u001b[39m \u001b[43m                \u001b[49m\u001b[43mstop\u001b[49m\u001b[43m=\u001b[49m\u001b[43mstop\u001b[49m\u001b[43m,\u001b[49m\n\u001b[32m    828\u001b[39m \u001b[43m                \u001b[49m\u001b[43mrun_manager\u001b[49m\u001b[43m=\u001b[49m\u001b[43mrun_managers\u001b[49m\u001b[43m[\u001b[49m\u001b[43mi\u001b[49m\u001b[43m]\u001b[49m\u001b[43m \u001b[49m\u001b[38;5;28;43;01mif\u001b[39;49;00m\u001b[43m \u001b[49m\u001b[43mrun_managers\u001b[49m\u001b[43m \u001b[49m\u001b[38;5;28;43;01melse\u001b[39;49;00m\u001b[43m \u001b[49m\u001b[38;5;28;43;01mNone\u001b[39;49;00m\u001b[43m,\u001b[49m\n\u001b[32m    829\u001b[39m \u001b[43m                \u001b[49m\u001b[43m*\u001b[49m\u001b[43m*\u001b[49m\u001b[43mkwargs\u001b[49m\u001b[43m,\u001b[49m\n\u001b[32m    830\u001b[39m \u001b[43m            \u001b[49m\u001b[43m)\u001b[49m\n\u001b[32m    831\u001b[39m         )\n\u001b[32m    832\u001b[39m     \u001b[38;5;28;01mexcept\u001b[39;00m \u001b[38;5;167;01mBaseException\u001b[39;00m \u001b[38;5;28;01mas\u001b[39;00m e:\n\u001b[32m    833\u001b[39m         \u001b[38;5;28;01mif\u001b[39;00m run_managers:\n",
      "\u001b[36mFile \u001b[39m\u001b[32m~/Library/CloudStorage/OneDrive-Allianz/GitHub/project-data-analyst-agent/.venv/lib/python3.11/site-packages/langchain_core/language_models/chat_models.py:1072\u001b[39m, in \u001b[36mBaseChatModel._generate_with_cache\u001b[39m\u001b[34m(self, messages, stop, run_manager, **kwargs)\u001b[39m\n\u001b[32m   1070\u001b[39m     result = generate_from_stream(\u001b[38;5;28miter\u001b[39m(chunks))\n\u001b[32m   1071\u001b[39m \u001b[38;5;28;01melif\u001b[39;00m inspect.signature(\u001b[38;5;28mself\u001b[39m._generate).parameters.get(\u001b[33m\"\u001b[39m\u001b[33mrun_manager\u001b[39m\u001b[33m\"\u001b[39m):\n\u001b[32m-> \u001b[39m\u001b[32m1072\u001b[39m     result = \u001b[38;5;28;43mself\u001b[39;49m\u001b[43m.\u001b[49m\u001b[43m_generate\u001b[49m\u001b[43m(\u001b[49m\n\u001b[32m   1073\u001b[39m \u001b[43m        \u001b[49m\u001b[43mmessages\u001b[49m\u001b[43m,\u001b[49m\u001b[43m \u001b[49m\u001b[43mstop\u001b[49m\u001b[43m=\u001b[49m\u001b[43mstop\u001b[49m\u001b[43m,\u001b[49m\u001b[43m \u001b[49m\u001b[43mrun_manager\u001b[49m\u001b[43m=\u001b[49m\u001b[43mrun_manager\u001b[49m\u001b[43m,\u001b[49m\u001b[43m \u001b[49m\u001b[43m*\u001b[49m\u001b[43m*\u001b[49m\u001b[43mkwargs\u001b[49m\n\u001b[32m   1074\u001b[39m \u001b[43m    \u001b[49m\u001b[43m)\u001b[49m\n\u001b[32m   1075\u001b[39m \u001b[38;5;28;01melse\u001b[39;00m:\n\u001b[32m   1076\u001b[39m     result = \u001b[38;5;28mself\u001b[39m._generate(messages, stop=stop, **kwargs)\n",
      "\u001b[36mFile \u001b[39m\u001b[32m~/Library/CloudStorage/OneDrive-Allianz/GitHub/project-data-analyst-agent/.venv/lib/python3.11/site-packages/langchain_openai/chat_models/base.py:1152\u001b[39m, in \u001b[36mBaseChatOpenAI._generate\u001b[39m\u001b[34m(self, messages, stop, run_manager, **kwargs)\u001b[39m\n\u001b[32m   1150\u001b[39m         response = \u001b[38;5;28mself\u001b[39m.root_client.beta.chat.completions.parse(**payload)\n\u001b[32m   1151\u001b[39m     \u001b[38;5;28;01mexcept\u001b[39;00m openai.BadRequestError \u001b[38;5;28;01mas\u001b[39;00m e:\n\u001b[32m-> \u001b[39m\u001b[32m1152\u001b[39m         \u001b[43m_handle_openai_bad_request\u001b[49m\u001b[43m(\u001b[49m\u001b[43me\u001b[49m\u001b[43m)\u001b[49m\n\u001b[32m   1153\u001b[39m \u001b[38;5;28;01melif\u001b[39;00m \u001b[38;5;28mself\u001b[39m._use_responses_api(payload):\n\u001b[32m   1154\u001b[39m     original_schema_obj = kwargs.get(\u001b[33m\"\u001b[39m\u001b[33mresponse_format\u001b[39m\u001b[33m\"\u001b[39m)\n",
      "\u001b[36mFile \u001b[39m\u001b[32m~/Library/CloudStorage/OneDrive-Allianz/GitHub/project-data-analyst-agent/.venv/lib/python3.11/site-packages/langchain_openai/chat_models/base.py:426\u001b[39m, in \u001b[36m_handle_openai_bad_request\u001b[39m\u001b[34m(e)\u001b[39m\n\u001b[32m    418\u001b[39m     message = (\n\u001b[32m    419\u001b[39m         \u001b[33m\"\u001b[39m\u001b[33mInvalid schema for OpenAI\u001b[39m\u001b[33m'\u001b[39m\u001b[33ms structured output feature, which is the \u001b[39m\u001b[33m\"\u001b[39m\n\u001b[32m    420\u001b[39m         \u001b[33m\"\u001b[39m\u001b[33mdefault method for `with_structured_output` as of langchain-openai==0.3. \u001b[39m\u001b[33m\"\u001b[39m\n\u001b[32m   (...)\u001b[39m\u001b[32m    423\u001b[39m         \u001b[33m\"\u001b[39m\u001b[33mhttps://platform.openai.com/docs/guides/structured-outputs#supported-schemas\u001b[39m\u001b[33m\"\u001b[39m  \u001b[38;5;66;03m# noqa: E501\u001b[39;00m\n\u001b[32m    424\u001b[39m     )\n\u001b[32m    425\u001b[39m     warnings.warn(message)\n\u001b[32m--> \u001b[39m\u001b[32m426\u001b[39m     \u001b[38;5;28;01mraise\u001b[39;00m e\n\u001b[32m    427\u001b[39m \u001b[38;5;28;01melse\u001b[39;00m:\n\u001b[32m    428\u001b[39m     \u001b[38;5;28;01mraise\u001b[39;00m\n",
      "\u001b[36mFile \u001b[39m\u001b[32m~/Library/CloudStorage/OneDrive-Allianz/GitHub/project-data-analyst-agent/.venv/lib/python3.11/site-packages/langchain_openai/chat_models/base.py:1150\u001b[39m, in \u001b[36mBaseChatOpenAI._generate\u001b[39m\u001b[34m(self, messages, stop, run_manager, **kwargs)\u001b[39m\n\u001b[32m   1148\u001b[39m payload.pop(\u001b[33m\"\u001b[39m\u001b[33mstream\u001b[39m\u001b[33m\"\u001b[39m)\n\u001b[32m   1149\u001b[39m \u001b[38;5;28;01mtry\u001b[39;00m:\n\u001b[32m-> \u001b[39m\u001b[32m1150\u001b[39m     response = \u001b[38;5;28;43mself\u001b[39;49m\u001b[43m.\u001b[49m\u001b[43mroot_client\u001b[49m\u001b[43m.\u001b[49m\u001b[43mbeta\u001b[49m\u001b[43m.\u001b[49m\u001b[43mchat\u001b[49m\u001b[43m.\u001b[49m\u001b[43mcompletions\u001b[49m\u001b[43m.\u001b[49m\u001b[43mparse\u001b[49m\u001b[43m(\u001b[49m\u001b[43m*\u001b[49m\u001b[43m*\u001b[49m\u001b[43mpayload\u001b[49m\u001b[43m)\u001b[49m\n\u001b[32m   1151\u001b[39m \u001b[38;5;28;01mexcept\u001b[39;00m openai.BadRequestError \u001b[38;5;28;01mas\u001b[39;00m e:\n\u001b[32m   1152\u001b[39m     _handle_openai_bad_request(e)\n",
      "\u001b[36mFile \u001b[39m\u001b[32m~/Library/CloudStorage/OneDrive-Allianz/GitHub/project-data-analyst-agent/.venv/lib/python3.11/site-packages/openai/resources/chat/completions/completions.py:183\u001b[39m, in \u001b[36mCompletions.parse\u001b[39m\u001b[34m(self, messages, model, audio, response_format, frequency_penalty, function_call, functions, logit_bias, logprobs, max_completion_tokens, max_tokens, metadata, modalities, n, parallel_tool_calls, prediction, presence_penalty, prompt_cache_key, reasoning_effort, safety_identifier, seed, service_tier, stop, store, stream_options, temperature, tool_choice, tools, top_logprobs, top_p, user, verbosity, web_search_options, extra_headers, extra_query, extra_body, timeout)\u001b[39m\n\u001b[32m    176\u001b[39m \u001b[38;5;28;01mdef\u001b[39;00m\u001b[38;5;250m \u001b[39m\u001b[34mparser\u001b[39m(raw_completion: ChatCompletion) -> ParsedChatCompletion[ResponseFormatT]:\n\u001b[32m    177\u001b[39m     \u001b[38;5;28;01mreturn\u001b[39;00m _parse_chat_completion(\n\u001b[32m    178\u001b[39m         response_format=response_format,\n\u001b[32m    179\u001b[39m         chat_completion=raw_completion,\n\u001b[32m    180\u001b[39m         input_tools=chat_completion_tools,\n\u001b[32m    181\u001b[39m     )\n\u001b[32m--> \u001b[39m\u001b[32m183\u001b[39m \u001b[38;5;28;01mreturn\u001b[39;00m \u001b[38;5;28;43mself\u001b[39;49m\u001b[43m.\u001b[49m\u001b[43m_post\u001b[49m\u001b[43m(\u001b[49m\n\u001b[32m    184\u001b[39m \u001b[43m    \u001b[49m\u001b[33;43m\"\u001b[39;49m\u001b[33;43m/chat/completions\u001b[39;49m\u001b[33;43m\"\u001b[39;49m\u001b[43m,\u001b[49m\n\u001b[32m    185\u001b[39m \u001b[43m    \u001b[49m\u001b[43mbody\u001b[49m\u001b[43m=\u001b[49m\u001b[43mmaybe_transform\u001b[49m\u001b[43m(\u001b[49m\n\u001b[32m    186\u001b[39m \u001b[43m        \u001b[49m\u001b[43m{\u001b[49m\n\u001b[32m    187\u001b[39m \u001b[43m            \u001b[49m\u001b[33;43m\"\u001b[39;49m\u001b[33;43mmessages\u001b[39;49m\u001b[33;43m\"\u001b[39;49m\u001b[43m:\u001b[49m\u001b[43m \u001b[49m\u001b[43mmessages\u001b[49m\u001b[43m,\u001b[49m\n\u001b[32m    188\u001b[39m \u001b[43m            \u001b[49m\u001b[33;43m\"\u001b[39;49m\u001b[33;43mmodel\u001b[39;49m\u001b[33;43m\"\u001b[39;49m\u001b[43m:\u001b[49m\u001b[43m \u001b[49m\u001b[43mmodel\u001b[49m\u001b[43m,\u001b[49m\n\u001b[32m    189\u001b[39m \u001b[43m            \u001b[49m\u001b[33;43m\"\u001b[39;49m\u001b[33;43maudio\u001b[39;49m\u001b[33;43m\"\u001b[39;49m\u001b[43m:\u001b[49m\u001b[43m \u001b[49m\u001b[43maudio\u001b[49m\u001b[43m,\u001b[49m\n\u001b[32m    190\u001b[39m \u001b[43m            \u001b[49m\u001b[33;43m\"\u001b[39;49m\u001b[33;43mfrequency_penalty\u001b[39;49m\u001b[33;43m\"\u001b[39;49m\u001b[43m:\u001b[49m\u001b[43m \u001b[49m\u001b[43mfrequency_penalty\u001b[49m\u001b[43m,\u001b[49m\n\u001b[32m    191\u001b[39m \u001b[43m            \u001b[49m\u001b[33;43m\"\u001b[39;49m\u001b[33;43mfunction_call\u001b[39;49m\u001b[33;43m\"\u001b[39;49m\u001b[43m:\u001b[49m\u001b[43m \u001b[49m\u001b[43mfunction_call\u001b[49m\u001b[43m,\u001b[49m\n\u001b[32m    192\u001b[39m \u001b[43m            \u001b[49m\u001b[33;43m\"\u001b[39;49m\u001b[33;43mfunctions\u001b[39;49m\u001b[33;43m\"\u001b[39;49m\u001b[43m:\u001b[49m\u001b[43m \u001b[49m\u001b[43mfunctions\u001b[49m\u001b[43m,\u001b[49m\n\u001b[32m    193\u001b[39m \u001b[43m            \u001b[49m\u001b[33;43m\"\u001b[39;49m\u001b[33;43mlogit_bias\u001b[39;49m\u001b[33;43m\"\u001b[39;49m\u001b[43m:\u001b[49m\u001b[43m \u001b[49m\u001b[43mlogit_bias\u001b[49m\u001b[43m,\u001b[49m\n\u001b[32m    194\u001b[39m \u001b[43m            \u001b[49m\u001b[33;43m\"\u001b[39;49m\u001b[33;43mlogprobs\u001b[39;49m\u001b[33;43m\"\u001b[39;49m\u001b[43m:\u001b[49m\u001b[43m \u001b[49m\u001b[43mlogprobs\u001b[49m\u001b[43m,\u001b[49m\n\u001b[32m    195\u001b[39m \u001b[43m            \u001b[49m\u001b[33;43m\"\u001b[39;49m\u001b[33;43mmax_completion_tokens\u001b[39;49m\u001b[33;43m\"\u001b[39;49m\u001b[43m:\u001b[49m\u001b[43m \u001b[49m\u001b[43mmax_completion_tokens\u001b[49m\u001b[43m,\u001b[49m\n\u001b[32m    196\u001b[39m \u001b[43m            \u001b[49m\u001b[33;43m\"\u001b[39;49m\u001b[33;43mmax_tokens\u001b[39;49m\u001b[33;43m\"\u001b[39;49m\u001b[43m:\u001b[49m\u001b[43m \u001b[49m\u001b[43mmax_tokens\u001b[49m\u001b[43m,\u001b[49m\n\u001b[32m    197\u001b[39m \u001b[43m            \u001b[49m\u001b[33;43m\"\u001b[39;49m\u001b[33;43mmetadata\u001b[39;49m\u001b[33;43m\"\u001b[39;49m\u001b[43m:\u001b[49m\u001b[43m \u001b[49m\u001b[43mmetadata\u001b[49m\u001b[43m,\u001b[49m\n\u001b[32m    198\u001b[39m \u001b[43m            \u001b[49m\u001b[33;43m\"\u001b[39;49m\u001b[33;43mmodalities\u001b[39;49m\u001b[33;43m\"\u001b[39;49m\u001b[43m:\u001b[49m\u001b[43m \u001b[49m\u001b[43mmodalities\u001b[49m\u001b[43m,\u001b[49m\n\u001b[32m    199\u001b[39m \u001b[43m            \u001b[49m\u001b[33;43m\"\u001b[39;49m\u001b[33;43mn\u001b[39;49m\u001b[33;43m\"\u001b[39;49m\u001b[43m:\u001b[49m\u001b[43m \u001b[49m\u001b[43mn\u001b[49m\u001b[43m,\u001b[49m\n\u001b[32m    200\u001b[39m \u001b[43m            \u001b[49m\u001b[33;43m\"\u001b[39;49m\u001b[33;43mparallel_tool_calls\u001b[39;49m\u001b[33;43m\"\u001b[39;49m\u001b[43m:\u001b[49m\u001b[43m \u001b[49m\u001b[43mparallel_tool_calls\u001b[49m\u001b[43m,\u001b[49m\n\u001b[32m    201\u001b[39m \u001b[43m            \u001b[49m\u001b[33;43m\"\u001b[39;49m\u001b[33;43mprediction\u001b[39;49m\u001b[33;43m\"\u001b[39;49m\u001b[43m:\u001b[49m\u001b[43m \u001b[49m\u001b[43mprediction\u001b[49m\u001b[43m,\u001b[49m\n\u001b[32m    202\u001b[39m \u001b[43m            \u001b[49m\u001b[33;43m\"\u001b[39;49m\u001b[33;43mpresence_penalty\u001b[39;49m\u001b[33;43m\"\u001b[39;49m\u001b[43m:\u001b[49m\u001b[43m \u001b[49m\u001b[43mpresence_penalty\u001b[49m\u001b[43m,\u001b[49m\n\u001b[32m    203\u001b[39m \u001b[43m            \u001b[49m\u001b[33;43m\"\u001b[39;49m\u001b[33;43mprompt_cache_key\u001b[39;49m\u001b[33;43m\"\u001b[39;49m\u001b[43m:\u001b[49m\u001b[43m \u001b[49m\u001b[43mprompt_cache_key\u001b[49m\u001b[43m,\u001b[49m\n\u001b[32m    204\u001b[39m \u001b[43m            \u001b[49m\u001b[33;43m\"\u001b[39;49m\u001b[33;43mreasoning_effort\u001b[39;49m\u001b[33;43m\"\u001b[39;49m\u001b[43m:\u001b[49m\u001b[43m \u001b[49m\u001b[43mreasoning_effort\u001b[49m\u001b[43m,\u001b[49m\n\u001b[32m    205\u001b[39m \u001b[43m            \u001b[49m\u001b[33;43m\"\u001b[39;49m\u001b[33;43mresponse_format\u001b[39;49m\u001b[33;43m\"\u001b[39;49m\u001b[43m:\u001b[49m\u001b[43m \u001b[49m\u001b[43m_type_to_response_format\u001b[49m\u001b[43m(\u001b[49m\u001b[43mresponse_format\u001b[49m\u001b[43m)\u001b[49m\u001b[43m,\u001b[49m\n\u001b[32m    206\u001b[39m \u001b[43m            \u001b[49m\u001b[33;43m\"\u001b[39;49m\u001b[33;43msafety_identifier\u001b[39;49m\u001b[33;43m\"\u001b[39;49m\u001b[43m:\u001b[49m\u001b[43m \u001b[49m\u001b[43msafety_identifier\u001b[49m\u001b[43m,\u001b[49m\n\u001b[32m    207\u001b[39m \u001b[43m            \u001b[49m\u001b[33;43m\"\u001b[39;49m\u001b[33;43mseed\u001b[39;49m\u001b[33;43m\"\u001b[39;49m\u001b[43m:\u001b[49m\u001b[43m \u001b[49m\u001b[43mseed\u001b[49m\u001b[43m,\u001b[49m\n\u001b[32m    208\u001b[39m \u001b[43m            \u001b[49m\u001b[33;43m\"\u001b[39;49m\u001b[33;43mservice_tier\u001b[39;49m\u001b[33;43m\"\u001b[39;49m\u001b[43m:\u001b[49m\u001b[43m \u001b[49m\u001b[43mservice_tier\u001b[49m\u001b[43m,\u001b[49m\n\u001b[32m    209\u001b[39m \u001b[43m            \u001b[49m\u001b[33;43m\"\u001b[39;49m\u001b[33;43mstop\u001b[39;49m\u001b[33;43m\"\u001b[39;49m\u001b[43m:\u001b[49m\u001b[43m \u001b[49m\u001b[43mstop\u001b[49m\u001b[43m,\u001b[49m\n\u001b[32m    210\u001b[39m \u001b[43m            \u001b[49m\u001b[33;43m\"\u001b[39;49m\u001b[33;43mstore\u001b[39;49m\u001b[33;43m\"\u001b[39;49m\u001b[43m:\u001b[49m\u001b[43m \u001b[49m\u001b[43mstore\u001b[49m\u001b[43m,\u001b[49m\n\u001b[32m    211\u001b[39m \u001b[43m            \u001b[49m\u001b[33;43m\"\u001b[39;49m\u001b[33;43mstream\u001b[39;49m\u001b[33;43m\"\u001b[39;49m\u001b[43m:\u001b[49m\u001b[43m \u001b[49m\u001b[38;5;28;43;01mFalse\u001b[39;49;00m\u001b[43m,\u001b[49m\n\u001b[32m    212\u001b[39m \u001b[43m            \u001b[49m\u001b[33;43m\"\u001b[39;49m\u001b[33;43mstream_options\u001b[39;49m\u001b[33;43m\"\u001b[39;49m\u001b[43m:\u001b[49m\u001b[43m \u001b[49m\u001b[43mstream_options\u001b[49m\u001b[43m,\u001b[49m\n\u001b[32m    213\u001b[39m \u001b[43m            \u001b[49m\u001b[33;43m\"\u001b[39;49m\u001b[33;43mtemperature\u001b[39;49m\u001b[33;43m\"\u001b[39;49m\u001b[43m:\u001b[49m\u001b[43m \u001b[49m\u001b[43mtemperature\u001b[49m\u001b[43m,\u001b[49m\n\u001b[32m    214\u001b[39m \u001b[43m            \u001b[49m\u001b[33;43m\"\u001b[39;49m\u001b[33;43mtool_choice\u001b[39;49m\u001b[33;43m\"\u001b[39;49m\u001b[43m:\u001b[49m\u001b[43m \u001b[49m\u001b[43mtool_choice\u001b[49m\u001b[43m,\u001b[49m\n\u001b[32m    215\u001b[39m \u001b[43m            \u001b[49m\u001b[33;43m\"\u001b[39;49m\u001b[33;43mtools\u001b[39;49m\u001b[33;43m\"\u001b[39;49m\u001b[43m:\u001b[49m\u001b[43m \u001b[49m\u001b[43mtools\u001b[49m\u001b[43m,\u001b[49m\n\u001b[32m    216\u001b[39m \u001b[43m            \u001b[49m\u001b[33;43m\"\u001b[39;49m\u001b[33;43mtop_logprobs\u001b[39;49m\u001b[33;43m\"\u001b[39;49m\u001b[43m:\u001b[49m\u001b[43m \u001b[49m\u001b[43mtop_logprobs\u001b[49m\u001b[43m,\u001b[49m\n\u001b[32m    217\u001b[39m \u001b[43m            \u001b[49m\u001b[33;43m\"\u001b[39;49m\u001b[33;43mtop_p\u001b[39;49m\u001b[33;43m\"\u001b[39;49m\u001b[43m:\u001b[49m\u001b[43m \u001b[49m\u001b[43mtop_p\u001b[49m\u001b[43m,\u001b[49m\n\u001b[32m    218\u001b[39m \u001b[43m            \u001b[49m\u001b[33;43m\"\u001b[39;49m\u001b[33;43muser\u001b[39;49m\u001b[33;43m\"\u001b[39;49m\u001b[43m:\u001b[49m\u001b[43m \u001b[49m\u001b[43muser\u001b[49m\u001b[43m,\u001b[49m\n\u001b[32m    219\u001b[39m \u001b[43m            \u001b[49m\u001b[33;43m\"\u001b[39;49m\u001b[33;43mverbosity\u001b[39;49m\u001b[33;43m\"\u001b[39;49m\u001b[43m:\u001b[49m\u001b[43m \u001b[49m\u001b[43mverbosity\u001b[49m\u001b[43m,\u001b[49m\n\u001b[32m    220\u001b[39m \u001b[43m            \u001b[49m\u001b[33;43m\"\u001b[39;49m\u001b[33;43mweb_search_options\u001b[39;49m\u001b[33;43m\"\u001b[39;49m\u001b[43m:\u001b[49m\u001b[43m \u001b[49m\u001b[43mweb_search_options\u001b[49m\u001b[43m,\u001b[49m\n\u001b[32m    221\u001b[39m \u001b[43m        \u001b[49m\u001b[43m}\u001b[49m\u001b[43m,\u001b[49m\n\u001b[32m    222\u001b[39m \u001b[43m        \u001b[49m\u001b[43mcompletion_create_params\u001b[49m\u001b[43m.\u001b[49m\u001b[43mCompletionCreateParams\u001b[49m\u001b[43m,\u001b[49m\n\u001b[32m    223\u001b[39m \u001b[43m    \u001b[49m\u001b[43m)\u001b[49m\u001b[43m,\u001b[49m\n\u001b[32m    224\u001b[39m \u001b[43m    \u001b[49m\u001b[43moptions\u001b[49m\u001b[43m=\u001b[49m\u001b[43mmake_request_options\u001b[49m\u001b[43m(\u001b[49m\n\u001b[32m    225\u001b[39m \u001b[43m        \u001b[49m\u001b[43mextra_headers\u001b[49m\u001b[43m=\u001b[49m\u001b[43mextra_headers\u001b[49m\u001b[43m,\u001b[49m\n\u001b[32m    226\u001b[39m \u001b[43m        \u001b[49m\u001b[43mextra_query\u001b[49m\u001b[43m=\u001b[49m\u001b[43mextra_query\u001b[49m\u001b[43m,\u001b[49m\n\u001b[32m    227\u001b[39m \u001b[43m        \u001b[49m\u001b[43mextra_body\u001b[49m\u001b[43m=\u001b[49m\u001b[43mextra_body\u001b[49m\u001b[43m,\u001b[49m\n\u001b[32m    228\u001b[39m \u001b[43m        \u001b[49m\u001b[43mtimeout\u001b[49m\u001b[43m=\u001b[49m\u001b[43mtimeout\u001b[49m\u001b[43m,\u001b[49m\n\u001b[32m    229\u001b[39m \u001b[43m        \u001b[49m\u001b[43mpost_parser\u001b[49m\u001b[43m=\u001b[49m\u001b[43mparser\u001b[49m\u001b[43m,\u001b[49m\n\u001b[32m    230\u001b[39m \u001b[43m    \u001b[49m\u001b[43m)\u001b[49m\u001b[43m,\u001b[49m\n\u001b[32m    231\u001b[39m \u001b[43m    \u001b[49m\u001b[38;5;66;43;03m# we turn the `ChatCompletion` instance into a `ParsedChatCompletion`\u001b[39;49;00m\n\u001b[32m    232\u001b[39m \u001b[43m    \u001b[49m\u001b[38;5;66;43;03m# in the `parser` function above\u001b[39;49;00m\n\u001b[32m    233\u001b[39m \u001b[43m    \u001b[49m\u001b[43mcast_to\u001b[49m\u001b[43m=\u001b[49m\u001b[43mcast\u001b[49m\u001b[43m(\u001b[49m\u001b[43mType\u001b[49m\u001b[43m[\u001b[49m\u001b[43mParsedChatCompletion\u001b[49m\u001b[43m[\u001b[49m\u001b[43mResponseFormatT\u001b[49m\u001b[43m]\u001b[49m\u001b[43m]\u001b[49m\u001b[43m,\u001b[49m\u001b[43m \u001b[49m\u001b[43mChatCompletion\u001b[49m\u001b[43m)\u001b[49m\u001b[43m,\u001b[49m\n\u001b[32m    234\u001b[39m \u001b[43m    \u001b[49m\u001b[43mstream\u001b[49m\u001b[43m=\u001b[49m\u001b[38;5;28;43;01mFalse\u001b[39;49;00m\u001b[43m,\u001b[49m\n\u001b[32m    235\u001b[39m \u001b[43m\u001b[49m\u001b[43m)\u001b[49m\n",
      "\u001b[36mFile \u001b[39m\u001b[32m~/Library/CloudStorage/OneDrive-Allianz/GitHub/project-data-analyst-agent/.venv/lib/python3.11/site-packages/openai/_base_client.py:1259\u001b[39m, in \u001b[36mSyncAPIClient.post\u001b[39m\u001b[34m(self, path, cast_to, body, options, files, stream, stream_cls)\u001b[39m\n\u001b[32m   1245\u001b[39m \u001b[38;5;28;01mdef\u001b[39;00m\u001b[38;5;250m \u001b[39m\u001b[34mpost\u001b[39m(\n\u001b[32m   1246\u001b[39m     \u001b[38;5;28mself\u001b[39m,\n\u001b[32m   1247\u001b[39m     path: \u001b[38;5;28mstr\u001b[39m,\n\u001b[32m   (...)\u001b[39m\u001b[32m   1254\u001b[39m     stream_cls: \u001b[38;5;28mtype\u001b[39m[_StreamT] | \u001b[38;5;28;01mNone\u001b[39;00m = \u001b[38;5;28;01mNone\u001b[39;00m,\n\u001b[32m   1255\u001b[39m ) -> ResponseT | _StreamT:\n\u001b[32m   1256\u001b[39m     opts = FinalRequestOptions.construct(\n\u001b[32m   1257\u001b[39m         method=\u001b[33m\"\u001b[39m\u001b[33mpost\u001b[39m\u001b[33m\"\u001b[39m, url=path, json_data=body, files=to_httpx_files(files), **options\n\u001b[32m   1258\u001b[39m     )\n\u001b[32m-> \u001b[39m\u001b[32m1259\u001b[39m     \u001b[38;5;28;01mreturn\u001b[39;00m cast(ResponseT, \u001b[38;5;28;43mself\u001b[39;49m\u001b[43m.\u001b[49m\u001b[43mrequest\u001b[49m\u001b[43m(\u001b[49m\u001b[43mcast_to\u001b[49m\u001b[43m,\u001b[49m\u001b[43m \u001b[49m\u001b[43mopts\u001b[49m\u001b[43m,\u001b[49m\u001b[43m \u001b[49m\u001b[43mstream\u001b[49m\u001b[43m=\u001b[49m\u001b[43mstream\u001b[49m\u001b[43m,\u001b[49m\u001b[43m \u001b[49m\u001b[43mstream_cls\u001b[49m\u001b[43m=\u001b[49m\u001b[43mstream_cls\u001b[49m\u001b[43m)\u001b[49m)\n",
      "\u001b[36mFile \u001b[39m\u001b[32m~/Library/CloudStorage/OneDrive-Allianz/GitHub/project-data-analyst-agent/.venv/lib/python3.11/site-packages/openai/_base_client.py:1047\u001b[39m, in \u001b[36mSyncAPIClient.request\u001b[39m\u001b[34m(self, cast_to, options, stream, stream_cls)\u001b[39m\n\u001b[32m   1044\u001b[39m             err.response.read()\n\u001b[32m   1046\u001b[39m         log.debug(\u001b[33m\"\u001b[39m\u001b[33mRe-raising status error\u001b[39m\u001b[33m\"\u001b[39m)\n\u001b[32m-> \u001b[39m\u001b[32m1047\u001b[39m         \u001b[38;5;28;01mraise\u001b[39;00m \u001b[38;5;28mself\u001b[39m._make_status_error_from_response(err.response) \u001b[38;5;28;01mfrom\u001b[39;00m\u001b[38;5;250m \u001b[39m\u001b[38;5;28;01mNone\u001b[39;00m\n\u001b[32m   1049\u001b[39m     \u001b[38;5;28;01mbreak\u001b[39;00m\n\u001b[32m   1051\u001b[39m \u001b[38;5;28;01massert\u001b[39;00m response \u001b[38;5;129;01mis\u001b[39;00m \u001b[38;5;129;01mnot\u001b[39;00m \u001b[38;5;28;01mNone\u001b[39;00m, \u001b[33m\"\u001b[39m\u001b[33mcould not resolve response (should never happen)\u001b[39m\u001b[33m\"\u001b[39m\n",
      "\u001b[31mBadRequestError\u001b[39m: Error code: 400 - {'error': {'message': \"Invalid schema for response_format 'ParsedBlocks': In context=('properties', 'content'), 'additionalProperties' is required to be supplied and to be false.\", 'type': 'invalid_request_error', 'param': 'response_format', 'code': None}}"
     ]
    }
   ],
   "source": [
    "parsed: ParsedBlocks = llm.with_structured_output(ParsedBlocks).invoke(prompt)"
   ]
  },
  {
   "cell_type": "code",
   "execution_count": 25,
   "id": "ca156d02",
   "metadata": {},
   "outputs": [],
   "source": [
    "text = \"\"\"{\\n  \"Which high court disposed the most cases from 2019 - 2022?\": \"9_13\",\\n  \"What\\'s the regression slope of the date_of_registration - decision_date by year in the court=33_10?\": 5.448544,\\n  \"Plot the year and # of days of delay from the above question as a scatterplot with a regression line. Encode as a base64 data URI under 100,000 characters\": \"data:image/webp;base64,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...\" \\n}\"\"\""
   ]
  },
  {
   "cell_type": "code",
   "execution_count": 26,
   "id": "430c89a1",
   "metadata": {},
   "outputs": [],
   "source": [
    "pattern = re.compile(\n",
    "        r'(:\\s*)'                              # group 1: colon + spaces\n",
    "        r'(-?(?:\\d+(?:\\.\\d+)?(?:[eE][+\\-]?\\d+)?'  # number (int/float/exp)\n",
    "        r'|true|false|null))'                  # or booleans/null\n",
    "        r'(\\s*[,}\\]])'                         # group 3: terminator\n",
    "    )\n",
    "fixed = pattern.sub(r'\\1\"\\2\"\\3', text)"
   ]
  },
  {
   "cell_type": "code",
   "execution_count": 29,
   "id": "740c2031",
   "metadata": {},
   "outputs": [
    {
     "data": {
      "text/plain": [
       "'{\\n  \"Which high court disposed the most cases from 2019 - 2022?\": \"9_13\",\\n  \"What\\'s the regression slope of the date_of_registration - decision_date by year in the court=33_10?\": \"5.448544\",\\n  \"Plot the year and # of days of delay from the above question as a scatterplot with a regression line. Encode as a base64 data URI under 100,000 characters\": \"data:image/webp;base64,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...\" \\n}'"
      ]
     },
     "execution_count": 29,
     "metadata": {},
     "output_type": "execute_result"
    }
   ],
   "source": [
    "fixed"
   ]
  },
  {
   "cell_type": "code",
   "execution_count": 27,
   "id": "bf5ab363",
   "metadata": {},
   "outputs": [],
   "source": [
    "data = json.loads(fixed)"
   ]
  },
  {
   "cell_type": "code",
   "execution_count": 28,
   "id": "a644c475",
   "metadata": {},
   "outputs": [
    {
     "data": {
      "text/plain": [
       "{'Which high court disposed the most cases from 2019 - 2022?': '9_13',\n",
       " \"What's the regression slope of the date_of_registration - decision_date by year in the court=33_10?\": '5.448544',\n",
       " 'Plot the year and # of days of delay from the above question as a scatterplot with a regression line. Encode as a base64 data URI under 100,000 characters': 'data:image/webp;base64,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...'}"
      ]
     },
     "execution_count": 28,
     "metadata": {},
     "output_type": "execute_result"
    }
   ],
   "source": [
    "data"
   ]
  },
  {
   "cell_type": "code",
   "execution_count": 36,
   "id": "ec2b4bd9",
   "metadata": {},
   "outputs": [],
   "source": [
    "text = \"\"\"messages [HumanMessage(content='Scrape the list of highest grossing films from Wikipedia. It is at the URL:\\nhttps://en.wikipedia.org/wiki/List_of_highest-grossing_films\\n\\nAnswer the following questions and respond with a JSON array of strings containing the answer.\\n\\n1. How many $2 bn movies were released before 2000?\\n2. Which is the earliest film that grossed over $1.5 bn?\\n3. What\\'s the correlation between the Rank and Peak?\\n4. Draw a scatterplot of Rank and Peak along with a dotted red regression line through it.\\n   Return as a base-64 encoded data URI, `\"data:image/png;base64,iVBORw0KG...\"` under 100,000 bytes.', additional_kwargs={}, response_metadata={}, id='34dc06b3-a5cc-4a1a-a190-d88dca50a372'), AIMessage(content='', additional_kwargs={'tool_calls': [{'id': 'call_KOkoSxhejxA95A1Kd42j3ph2', 'function': {'arguments': '{\"url\":\"https://en.wikipedia.org/wiki/List_of_highest-grossing_films\"}', 'name': 'search_wikipedia_by_url'}, 'type': 'function'}], 'refusal': None}, response_metadata={'token_usage': {'completion_tokens': 2792, 'prompt_tokens': 969, 'total_tokens': 3761, 'completion_tokens_details': {'accepted_prediction_tokens': 0, 'audio_tokens': 0, 'reasoning_tokens': 2752, 'rejected_prediction_tokens': 0}, 'prompt_tokens_details': {'audio_tokens': 0, 'cached_tokens': 0}}, 'model_name': 'gpt-5-nano-2025-08-07', 'system_fingerprint': None, 'id': 'chatcmpl-C5R15PMXJnK9DedDgxhBhdFd2RE5h', 'service_tier': 'default', 'finish_reason': 'tool_calls', 'logprobs': None}, id='run--951f71bb-94b5-4ddd-8021-cead5a2e3788-0', tool_calls=[{'name': 'search_wikipedia_by_url', 'args': {'url': 'https://en.wikipedia.org/wiki/List_of_highest-grossing_films'}, 'id': 'call_KOkoSxhejxA95A1Kd42j3ph2', 'type': 'tool_call'}], usage_metadata={'input_tokens': 969, 'output_tokens': 2792, 'total_tokens': 3761, 'input_token_details': {'audio': 0, 'cache_read': 0}, 'output_token_details': {'audio': 0, 'reasoning': 2752}}), ToolMessage(content=\"{'Rank:Peak:Title:Worldwide gross:Year:Ref':     Rank  Peak                                          Title Worldwide gross  Year  Ref\\n0      1     1                                         Avatar  $2,923,706,026  2009  NaN\\n1      2     1                              Avengers: Endgame  $2,797,501,328  2019  NaN\\n2      3     3                       Avatar: The Way of Water  $2,320,250,281  2022  NaN\\n3      4     1                                        Titanic  $2,257,844,554  1997  NaN\\n4      5     5                                       Ne Zha 2  $2,212,300,000  2025  NaN\\n5      6     3                   Star Wars: The Force Awakens  $2,068,223,624  2015  NaN\\n6      7     4                         Avengers: Infinity War  $2,048,359,754  2018  NaN\\n7      8     6                        Spider-Man: No Way Home  $1,922,598,800  2021  NaN\\n8      9     8                                   Inside Out 2  $1,698,863,816  2024  NaN\\n9     10     3                                 Jurassic World  $1,671,537,444  2015  NaN\\n10    11     7                                  The Lion King  $1,656,943,394  2019  NaN\\n11    12     3                                   The Avengers  $1,518,815,515  2012  NaN\\n12    13     4                                      Furious 7  $1,515,341,399  2015  NaN\\n13    14    11                              Top Gun: Maverick  $1,495,696,292  2022  NaN\\n14    15    10                                       Frozen 2  $1,450,026,933  2019  NaN\\n15    16    14                                         Barbie  $1,447,038,421  2023  NaN\\n16    17     5                        Avengers: Age of Ultron  $1,402,809,540  2015  NaN\\n17    18    15                    The Super Mario Bros. Movie  $1,360,847,665  2023  NaN\\n18    19     9                                  Black Panther  $1,347,280,838  2018  NaN\\n19    20     3  Harry Potter and the Deathly Hallows – Part 2  $1,342,139,727  2011  NaN\\n20    21    20                           Deadpool & Wolverine  $1,338,073,645  2024  NaN\\n21    22     9                       Star Wars: The Last Jedi  $1,332,539,889  2017  NaN\\n22    23    12                 Jurassic World: Fallen Kingdom  $1,308,473,425  2018  NaN\\n23    24     5                                         Frozen  $1,290,000,000  2013  NaN\\n24    25    10                           Beauty and the Beast  $1,263,521,126  2017  NaN\\n25    26    15                                  Incredibles 2  $1,242,805,359  2018  NaN\\n26    27    11                        The Fate of the Furious  $1,238,764,765  2017  NaN\\n27    28     5                                     Iron Man 3  $1,214,811,252  2013  NaN\\n28    29    10                                        Minions  $1,159,444,662  2015  NaN\\n29    30    12                     Captain America: Civil War  $1,153,337,496  2016  NaN\\n30    31    20                                        Aquaman  $1,148,528,393  2018  NaN\\n31    32     2  The Lord of the Rings: The Return of the King  $1,147,997,407  2003  NaN\\n32    33    24                      Spider-Man: Far From Home  $1,132,679,685  2019  NaN\\n33    34    23                                 Captain Marvel  $1,128,274,794  2019  NaN\\n34    35     5                 Transformers: Dark of the Moon  $1,123,794,079  2011  NaN\\n35    36     7                                        Skyfall  $1,108,594,137  2012  NaN\\n36    37    10                Transformers: Age of Extinction  $1,104,054,072  2014  NaN\\n37    38     7                          The Dark Knight Rises  $1,081,169,825  2012  NaN\\n38    39    31                                          Joker  $1,074,458,282  2019  NaN\\n39    40    32               Star Wars: The Rise of Skywalker  $1,074,144,248  2019  NaN\\n40    41    30                                    Toy Story 4  $1,073,394,593  2019  NaN\\n41    42     4                                    Toy Story 3  $1,066,970,811  2010  NaN\\n42    43     3     Pirates of the Caribbean: Dead Man's Chest  $1,066,179,747  2006  NaN\\n43    44    44                                        Moana 2  $1,059,242,164  2024  NaN\\n44    45    20                   Rogue One: A Star Wars Story  $1,057,420,387  2016  NaN\\n45    46    34                                        Aladdin  $1,050,693,953  2019  NaN\\n46    47     2      Star Wars: Episode I – The Phantom Menace  $1,046,515,409  1999  NaN\\n47    48     6    Pirates of the Caribbean: On Stranger Tides  $1,045,713,802  2011  NaN\\n48    49     1                                  Jurassic Park  $1,037,535,230  1993  NaN\\n49    50    24                                Despicable Me 3  $1,034,800,131  2017  NaN, 'Rank:Title:Worldwide gross (2024 $):Year':    Rank                         Title Worldwide gross (2024 $)  Year\\n0     1            Gone with the Wind           $4,450,000,000  1939\\n1     2                        Avatar           $4,056,000,000  2009\\n2     3                       Titanic           $3,769,000,000  1997\\n3     4                     Star Wars           $3,652,000,000  1977\\n4     5             Avengers: Endgame           $3,357,000,000  2019\\n5     6            The Sound of Music           $3,059,000,000  1965\\n6     7    E.T. the Extra-Terrestrial           $2,990,000,000  1982\\n7     8          The Ten Commandments           $2,827,000,000  1956\\n8     9                Doctor Zhivago           $2,680,000,000  1965\\n9    10  Star Wars: The Force Awakens           $2,642,000,000  2015, 'Year:Title:Worldwide gross:Budget:Ref':      Year                     Title Worldwide gross        Budget  Ref\\n0    1915     The Birth of a Nation     $50,000,000      $110,000  NaN\\n1    1916               Intolerance      $1,750,000      $385,907  NaN\\n2    1917                 Cleopatra        $500,000      $300,000  NaN\\n3    1918                    Mickey      $8,000,000      $250,000  NaN\\n4    1919           The Miracle Man      $3,000,000      $120,000  NaN\\n..    ...                       ...             ...           ...  ...\\n147  2021   Spider-Man: No Way Home  $1,922,598,800  $200,000,000  NaN\\n148  2022  Avatar: The Way of Water  $2,320,250,281  $350,000,000  NaN\\n149  2023                    Barbie  $1,447,038,421  $128,000,000  NaN\\n150  2024              Inside Out 2  $1,698,863,816  $200,000,000  NaN\\n151  2025                  Ne Zha 2  $2,212,300,000   $80,000,000  NaN\\n\\n[152 rows x 5 columns], 'Established:Title:Record-setting gross:Ref':     Established                       Title Record-setting gross  Ref\\n0          1915       The Birth of a Nation           $5,200,000  NaN\\n1          1940       The Birth of a Nation          $15,000,000  NaN\\n2          1940          Gone with the Wind          $32,000,000  NaN\\n3          1963          Gone with the Wind          $67,000,000  NaN\\n4          1966          The Sound of Music         $114,600,000  NaN\\n5          1971          Gone with the Wind         $116,000,000  NaN\\n6          1972               The Godfather         $127,600,000  NaN\\n7          1976                        Jaws         $193,700,000  NaN\\n8          1978                   Star Wars         $410,000,000  NaN\\n9          1982                   Star Wars         $530,000,000  NaN\\n10         1983  E.T. the Extra-Terrestrial         $619,000,000  NaN\\n11         1993  E.T. the Extra-Terrestrial         $701,000,000  NaN\\n12         1993               Jurassic Park         $912,667,947  NaN\\n13         1998                     Titanic       $1,843,373,318  NaN\\n14         2010                      Avatar       $2,743,577,587  NaN\\n15         2010                      Avatar       $2,788,416,135  NaN\\n16         2019           Avengers: Endgame       $2,797,501,328  NaN\\n17         2021                      Avatar       $2,847,397,339  NaN\\n18         2022                      Avatar       $2,923,706,026  NaN, 'Rank:Series:Total worldwide gross:No. of films:Average of films:Highest-grossing film': Empty DataFrame\\nColumns: [Rank, Series, Total worldwide gross, No. of films, Average of films, Highest-grossing film]\\nIndex: [], 'vteBox office:vteBox office.1':        vteBox office                                    vteBox office.1\\n0             Topics  Box office territory Box-office bomb list Fast...\\n1   Highest-grossing  General Highest-grossing films worldwide Box o...\\n2            General  Highest-grossing films worldwide Box office ad...\\n3           Animated  Decades 1980s 1990s 2000s 2010s 2020s Live-act...\\n4           By genre  Action Christmas Documentaries Fantasy Horror ...\\n5          By origin  Bangladeshi Czech Filipino Greek Mexican India...\\n6          By region  Australia Austria China France Germany Hong Ko...\\n7          By person                         Actors Directors Producers\\n8            Records  Avatar Star Wars: The Force Awakens Avengers: ...\\n9             Awards  Box Office Entertainment Awards Crystal Film D...\\n10          Websites  Box Office Mojo The Numbers ShowBIZ Data Box O...\\n11             Other  Box office futures Box Office Poison Boxoffice...\\n12           Related  Blockbuster 100 Crore Club 1000 Crore Club Bes...\\n13          Category                                           Category, 'vteMedia franchises:vteMedia franchises.1':   vteMedia franchises                              vteMedia franchises.1\\n0        Media series  Animated series anime series Book series Partw...\\n1         Media lists  Multimedia franchises print television series ...\\n2    Highest-grossing                       Media franchises Film series\\n3        Best-selling  Comic book series manga series Video game fran...\\n4            Category                                           Category}\", name='search_wikipedia_by_url', id='484bc59b-1996-4855-886d-a88cd725d1ca', tool_call_id='call_KOkoSxhejxA95A1Kd42j3ph2'), AIMessage(content='', additional_kwargs={'tool_calls': [{'id': 'call_RNemxyojZ54yqgkFmuiZY36k', 'function': {'arguments': '{\"data\": [{\"Rank\": 1, \"Peak\": 1}, {\"Rank\": 2, \"Peak\": 1}, {\"Rank\": 3, \"Peak\": 3}, {\"Rank\": 4, \"Peak\": 1}, {\"Rank\": 5, \"Peak\": 5}, {\"Rank\": 6, \"Peak\": 3}, {\"Rank\": 7, \"Peak\": 4}, {\"Rank\": 8, \"Peak\": 6}, {\"Rank\": 9, \"Peak\": 8}, {\"Rank\": 10, \"Peak\": 3}, {\"Rank\": 11, \"Peak\": 7}, {\"Rank\": 12, \"Peak\": 3}, {\"Rank\": 13, \"Peak\": 4}, {\"Rank\": 14, \"Peak\": 11}, {\"Rank\": 15, \"Peak\": 10}, {\"Rank\": 16, \"Peak\": 14}, {\"Rank\": 17, \"Peak\": 5}, {\"Rank\": 18, \"Peak\": 15}, {\"Rank\": 19, \"Peak\": 9}, {\"Rank\": 20, \"Peak\": 3}, {\"Rank\": 21, \"Peak\": 20}, {\"Rank\": 22, \"Peak\": 9}, {\"Rank\": 23, \"Peak\": 12}, {\"Rank\": 24, \"Peak\": 5}, {\"Rank\": 25, \"Peak\": 10}, {\"Rank\": 26, \"Peak\": 15}, {\"Rank\": 27, \"Peak\": 11}, {\"Rank\": 28, \"Peak\": 5}, {\"Rank\": 29, \"Peak\": 10}, {\"Rank\": 30, \"Peak\": 12}, {\"Rank\": 31, \"Peak\": 20}, {\"Rank\": 32, \"Peak\": 2}, {\"Rank\": 33, \"Peak\": 24}, {\"Rank\": 34, \"Peak\": 23}, {\"Rank\": 35, \"Peak\": 5}, {\"Rank\": 36, \"Peak\": 7}, {\"Rank\": 37, \"Peak\": 10}, {\"Rank\": 38, \"Peak\": 7}, {\"Rank\": 39, \"Peak\": 31}, {\"Rank\": 40, \"Peak\": 32}, {\"Rank\": 41, \"Peak\": 30}, {\"Rank\": 42, \"Peak\": 4}, {\"Rank\": 43, \"Peak\": 3}, {\"Rank\": 44, \"Peak\": 44}, {\"Rank\": 45, \"Peak\": 20}, {\"Rank\": 46, \"Peak\": 34}, {\"Rank\": 47, \"Peak\": 2}, {\"Rank\": 48, \"Peak\": 6}, {\"Rank\": 49, \"Peak\": 1}, {\"Rank\": 50, \"Peak\": 24}], \"xlabel\": \"Rank\", \"ylabel\": \"Peak\", \"title\": \"Rank vs Peak\", \"fmt\": \"png\"}', 'name': 'scatter_plot'}, 'type': 'function'}, {'id': 'call_QeBl3yz2PyMIXodxMtmrZnms', 'function': {'arguments': '{\"data\": [{\"Rank\": 1, \"Peak\": 1}, {\"Rank\": 2, \"Peak\": 1}, {\"Rank\": 3, \"Peak\": 3}, {\"Rank\": 4, \"Peak\": 1}, {\"Rank\": 5, \"Peak\": 5}, {\"Rank\": 6, \"Peak\": 3}, {\"Rank\": 7, \"Peak\": 4}, {\"Rank\": 8, \"Peak\": 6}, {\"Rank\": 9, \"Peak\": 8}, {\"Rank\": 10, \"Peak\": 3}, {\"Rank\": 11, \"Peak\": 7}, {\"Rank\": 12, \"Peak\": 3}, {\"Rank\": 13, \"Peak\": 4}, {\"Rank\": 14, \"Peak\": 11}, {\"Rank\": 15, \"Peak\": 10}, {\"Rank\": 16, \"Peak\": 14}, {\"Rank\": 17, \"Peak\": 5}, {\"Rank\": 18, \"Peak\": 15}, {\"Rank\": 19, \"Peak\": 9}, {\"Rank\": 20, \"Peak\": 3}, {\"Rank\": 21, \"Peak\": 20}, {\"Rank\": 22, \"Peak\": 9}, {\"Rank\": 23, \"Peak\": 12}, {\"Rank\": 24, \"Peak\": 5}, {\"Rank\": 25, \"Peak\": 10}, {\"Rank\": 26, \"Peak\": 15}, {\"Rank\": 27, \"Peak\": 11}, {\"Rank\": 28, \"Peak\": 5}, {\"Rank\": 29, \"Peak\": 10}, {\"Rank\": 30, \"Peak\": 12}, {\"Rank\": 31, \"Peak\": 20}, {\"Rank\": 32, \"Peak\": 2}, {\"Rank\": 33, \"Peak\": 24}, {\"Rank\": 34, \"Peak\": 23}, {\"Rank\": 35, \"Peak\": 5}, {\"Rank\": 36, \"Peak\": 7}, {\"Rank\": 37, \"Peak\": 10}, {\"Rank\": 38, \"Peak\": 7}, {\"Rank\": 39, \"Peak\": 31}, {\"Rank\": 40, \"Peak\": 32}, {\"Rank\": 41, \"Peak\": 30}, {\"Rank\": 42, \"Peak\": 4}, {\"Rank\": 43, \"Peak\": 3}, {\"Rank\": 44, \"Peak\": 44}, {\"Rank\": 45, \"Peak\": 20}, {\"Rank\": 46, \"Peak\": 34}, {\"Rank\": 47, \"Peak\": 2}, {\"Rank\": 48, \"Peak\": 6}, {\"Rank\": 49, \"Peak\": 1}, {\"Rank\": 50, \"Peak\": 24}], \"xlabel\": \"Rank\", \"ylabel\": \"Peak\", \"title\": \"Rank vs Peak (regression)\", \"fmt\": \"png\"}', 'name': 'scatter_plot_regression'}, 'type': 'function'}], 'refusal': None}, response_metadata={'token_usage': {'completion_tokens': 9343, 'prompt_tokens': 3880, 'total_tokens': 13223, 'completion_tokens_details': {'accepted_prediction_tokens': 0, 'audio_tokens': 0, 'reasoning_tokens': 8448, 'rejected_prediction_tokens': 0}, 'prompt_tokens_details': {'audio_tokens': 0, 'cached_tokens': 0}}, 'model_name': 'gpt-5-nano-2025-08-07', 'system_fingerprint': None, 'id': 'chatcmpl-C5R1K6xB6EqZfXvR3FXZ67nMpb71O', 'service_tier': 'default', 'finish_reason': 'tool_calls', 'logprobs': None}, id='run--58d143c3-1fbc-460b-8564-c07eeb3163e7-0', tool_calls=[{'name': 'scatter_plot', 'args': {'data': [{'Rank': 1, 'Peak': 1}, {'Rank': 2, 'Peak': 1}, {'Rank': 3, 'Peak': 3}, {'Rank': 4, 'Peak': 1}, {'Rank': 5, 'Peak': 5}, {'Rank': 6, 'Peak': 3}, {'Rank': 7, 'Peak': 4}, {'Rank': 8, 'Peak': 6}, {'Rank': 9, 'Peak': 8}, {'Rank': 10, 'Peak': 3}, {'Rank': 11, 'Peak': 7}, {'Rank': 12, 'Peak': 3}, {'Rank': 13, 'Peak': 4}, {'Rank': 14, 'Peak': 11}, {'Rank': 15, 'Peak': 10}, {'Rank': 16, 'Peak': 14}, {'Rank': 17, 'Peak': 5}, {'Rank': 18, 'Peak': 15}, {'Rank': 19, 'Peak': 9}, {'Rank': 20, 'Peak': 3}, {'Rank': 21, 'Peak': 20}, {'Rank': 22, 'Peak': 9}, {'Rank': 23, 'Peak': 12}, {'Rank': 24, 'Peak': 5}, {'Rank': 25, 'Peak': 10}, {'Rank': 26, 'Peak': 15}, {'Rank': 27, 'Peak': 11}, {'Rank': 28, 'Peak': 5}, {'Rank': 29, 'Peak': 10}, {'Rank': 30, 'Peak': 12}, {'Rank': 31, 'Peak': 20}, {'Rank': 32, 'Peak': 2}, {'Rank': 33, 'Peak': 24}, {'Rank': 34, 'Peak': 23}, {'Rank': 35, 'Peak': 5}, {'Rank': 36, 'Peak': 7}, {'Rank': 37, 'Peak': 10}, {'Rank': 38, 'Peak': 7}, {'Rank': 39, 'Peak': 31}, {'Rank': 40, 'Peak': 32}, {'Rank': 41, 'Peak': 30}, {'Rank': 42, 'Peak': 4}, {'Rank': 43, 'Peak': 3}, {'Rank': 44, 'Peak': 44}, {'Rank': 45, 'Peak': 20}, {'Rank': 46, 'Peak': 34}, {'Rank': 47, 'Peak': 2}, {'Rank': 48, 'Peak': 6}, {'Rank': 49, 'Peak': 1}, {'Rank': 50, 'Peak': 24}], 'xlabel': 'Rank', 'ylabel': 'Peak', 'title': 'Rank vs Peak', 'fmt': 'png'}, 'id': 'call_RNemxyojZ54yqgkFmuiZY36k', 'type': 'tool_call'}, {'name': 'scatter_plot_regression', 'args': {'data': [{'Rank': 1, 'Peak': 1}, {'Rank': 2, 'Peak': 1}, {'Rank': 3, 'Peak': 3}, {'Rank': 4, 'Peak': 1}, {'Rank': 5, 'Peak': 5}, {'Rank': 6, 'Peak': 3}, {'Rank': 7, 'Peak': 4}, {'Rank': 8, 'Peak': 6}, {'Rank': 9, 'Peak': 8}, {'Rank': 10, 'Peak': 3}, {'Rank': 11, 'Peak': 7}, {'Rank': 12, 'Peak': 3}, {'Rank': 13, 'Peak': 4}, {'Rank': 14, 'Peak': 11}, {'Rank': 15, 'Peak': 10}, {'Rank': 16, 'Peak': 14}, {'Rank': 17, 'Peak': 5}, {'Rank': 18, 'Peak': 15}, {'Rank': 19, 'Peak': 9}, {'Rank': 20, 'Peak': 3}, {'Rank': 21, 'Peak': 20}, {'Rank': 22, 'Peak': 9}, {'Rank': 23, 'Peak': 12}, {'Rank': 24, 'Peak': 5}, {'Rank': 25, 'Peak': 10}, {'Rank': 26, 'Peak': 15}, {'Rank': 27, 'Peak': 11}, {'Rank': 28, 'Peak': 5}, {'Rank': 29, 'Peak': 10}, {'Rank': 30, 'Peak': 12}, {'Rank': 31, 'Peak': 20}, {'Rank': 32, 'Peak': 2}, {'Rank': 33, 'Peak': 24}, {'Rank': 34, 'Peak': 23}, {'Rank': 35, 'Peak': 5}, {'Rank': 36, 'Peak': 7}, {'Rank': 37, 'Peak': 10}, {'Rank': 38, 'Peak': 7}, {'Rank': 39, 'Peak': 31}, {'Rank': 40, 'Peak': 32}, {'Rank': 41, 'Peak': 30}, {'Rank': 42, 'Peak': 4}, {'Rank': 43, 'Peak': 3}, {'Rank': 44, 'Peak': 44}, {'Rank': 45, 'Peak': 20}, {'Rank': 46, 'Peak': 34}, {'Rank': 47, 'Peak': 2}, {'Rank': 48, 'Peak': 6}, {'Rank': 49, 'Peak': 1}, {'Rank': 50, 'Peak': 24}], 'xlabel': 'Rank', 'ylabel': 'Peak', 'title': 'Rank vs Peak (regression)', 'fmt': 'png'}, 'id': 'call_QeBl3yz2PyMIXodxMtmrZnms', 'type': 'tool_call'}], usage_metadata={'input_tokens': 3880, 'output_tokens': 9343, 'total_tokens': 13223, 'input_token_details': {'audio': 0, 'cache_read': 0}, 'output_token_details': {'audio': 0, 'reasoning': 8448}}), ToolMessage(content='Argument must be an image or collection in this Axes', name='scatter_plot', id='1dc2b68a-9e88-4b12-8e90-8b0b02904e18', tool_call_id='call_RNemxyojZ54yqgkFmuiZY36k'), ToolMessage(content='data:image/png;base64,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', name='scatter_plot_regression', id='fe7a5ea6-0bd0-48ad-8c62-130356d50ef7', tool_call_id='call_QeBl3yz2PyMIXodxMtmrZnms'), AIMessage(content='[\\n  \"1\",\\n  \"Titanic (1997)\",\\n  \"0.49\",\\n  \"data:image/png;base64,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\"\\n]', additional_kwargs={'refusal': None}, response_metadata={'token_usage': {'completion_tokens': 22645, 'prompt_tokens': 12969, 'total_tokens': 35614, 'completion_tokens_details': {'accepted_prediction_tokens': 0, 'audio_tokens': 0, 'reasoning_tokens': 19328, 'rejected_prediction_tokens': 0}, 'prompt_tokens_details': {'audio_tokens': 0, 'cached_tokens': 0}}, 'model_name': 'gpt-5-nano-2025-08-07', 'system_fingerprint': None, 'id': 'chatcmpl-C5R1zXeSWZd0w7RbWMcAvwZYVZqT2', 'service_tier': 'default', 'finish_reason': 'stop', 'logprobs': None}, id='run--6e8833c6-839c-4cbe-972d-7e0d52732679-0', usage_metadata={'input_tokens': 12969, 'output_tokens': 22645, 'total_tokens': 35614, 'input_token_details': {'audio': 0, 'cache_read': 0}, 'output_token_details': {'audio': 0, 'reasoning': 19328}})]\"\"\""
   ]
  },
  {
   "cell_type": "code",
   "execution_count": 39,
   "id": "a0c1eb31",
   "metadata": {},
   "outputs": [],
   "source": [
    "re.search(r\"content='({.*?})'\", str(text), re.DOTALL)"
   ]
  },
  {
   "cell_type": "code",
   "execution_count": 34,
   "id": "1f6a13b9",
   "metadata": {},
   "outputs": [
    {
     "data": {
      "text/plain": [
       "'{\\n  \"Which high court disposed the most cases from 2019 - 2022?\": \"9_13\",\\n  \"What\\'s the regression slope of the date_of_registration - decision_date by year in the court=33_10?\": \"-5.448544\",\\n  \"Plot the year and # of days of delay from the above question as a scatterplot with a regression line. Encode as a base64 data URI under 100,000 characters\": \"data:image/webp;base64,UklGRugQAABXRUJQVlA4INwQAADQSQCdASrwALQAPm02lkikIqIhIdM7eIANiWlu4W5xEZwfwCRdPpNvTn5tMA3oL/pZMf4h/qvav/X/yD8+fCR499pvWgyr9X38v6E/xf7K/nf6n7cf1X/cf07xV+BX8B6gX4z/Gv7F9t3pl7DbLv7z/lvUC9UPmH+Q/u340eix/QegH5b/UP8F7gH8h/mP+Y/Mr+5///5O/z3/D8gL6D/ev1l+AD+O/0D/Tf438evpQ/bP+J/kPzH9nH5d/a/9//gv8X+xH2B/yn+gf6n+8f5H/4f5H///+37p///7Xf299jn9nf+uPpBv9/6SqqkCBHxeJ2RQbaSQmQLzjzcjm3e1x2WmzGOXGliysMR+Z66D1zqt101CcC6JIMIRJ435PuQDDmmGfqjKDe7lG6UsiMBDzXGZhvwXae8J4dhNRpvaH1MDH+dKkamPyQ8O6Ph0NMjTppsHM2/PFZ2EjTDr90zMioKZ4bE/DqgN40QYiFyYtXwGEnDLGSkSy8Ozs2wlwiIplGyjY6p+7v6piytR0Wg/BFuJyAPnAYQMIFaLkBX1u1PH0eibFZlxUUXPtyzLfgMH4vsoJ1Wfg2T/zBFJyjwkAQ9XH4HsKFi7wTYFM5jZlkirgp/4pIQGVlArTIco6JOysgf459o6fCqqgCbys9V8siiChswzMEBhlCj0+WCIeWCtuf/xifAkyjLWsrjnU9dxFXvp7ltxtTdHg3ZcxqtnnPg1p0mhOkuX5ixFf+b8kzXry9YpJaJZAYaUJ8njcEDFabPL501FbXjDt0TwFwGEDCBhAwgTgAD+8LCt+ErNbM/zTfY0p+kXvxlwYHIXJsk3pDqY2HIym71nkie3rqQmBq0dc8v/M2tJNh0XIPsHLVTT+CVrvNSMxgVfBfncv8UgXqxwIrPZQx+INEV5wHAgSWCLwb7cYdC4MRmbz/uW/+LFcOMhRdKjUbFIOWU8xOxx7t7DiRPs0vlWtk+RXRPqylNk5a71jDzrPLRdpsD7JJNylzF7J1NMKeKRgPQBwGqS2K6o8wP1mqFyyxpeTECGzSwBN47FeO34QH+LGPROn5wHkAw4bVwKXC+rGaqgrgL4TpXa0kDgmmxQml95E/rDe7+L4BWSUyZiWe9DPBdapW/TN3kKTQANTgmiz+IrA4ES/x1ZmcURzcQoLWiDXj5o9CepVg/UBY+zA2pL5dFb8JWzpLX5/YARc+iDBSSfy1X0Rk3/fZZLf94vu1YsHFrDnqYNGZ0K3MhdiehdR4YtpmBv7deYdPvGF0nMog5+bOPWe4C7FsfpUfhfv+S/fcdNSCfvPPrAFdXNYQpEeVNIFyxi1r9mrumM6z2QCnK+s5k8m8d0yG1p/Zt4kdHijkOW21zV9tDxaZZLLsQ1LqR4VDr7Iy1e0HdUCTz9IdKTL3GzoiSmLkcJmzzy76AQoUP/HHSGPWjFCEEKJdFeB9pSN9pbqwI4QTtwvtLanKC46SVLDjtPxAILIhyD6y7ynBoIgZwH1+AtvLJ+Dh2bJvx+G2oEL2V/izQSvGpDLxGK/xelNS2DW+a+mo+1eZasDmw8PTRMfMJU1t1nI2ySICH0KSqvw/1hVAe8S1xF7qcvZ/0gvCb74UQA6IPKTd1lwGYafdIxYYtVDr+Dd7SiCm0Hfi9nuxes4Em+tJWSgYfZ7xvlUD4Tx1bdwoK5DfvcDo6nN0S7PWK/Qb2ELRcZVSZPQ+0RHbo4F9oYcUk2qU26c6iwY4wSwUAmLOujIt9Z4213IDSCot8O8L4X29fPrlPDDDAYG8PGk9viO92HXOgE38a9hYQ5lWlrqp2Dal3PhGawJYg3KotPfZMD1I9ImY5h12DlJ/FZcAVoBcyYbHhjPkkY9I/1mnDYHYIpLYtA3ZdBa+/OZTXeWs1rxxuO5DMTHUdpAMXi27rcBbWtmsUZ1EvmCJLpS/XQs6/dZJp+uLhKx39J9gkZIDcAghzkL1JxNwOj84HYdEC3tfCqjz0RsCiCVtaZ6QPb9jz43HAq1RiNTrQpqaP0fqpBbslVOZgGDKCI+7gxm9H2hyZcR/sgYGnefKNBrQVFIkJvOrPWK/Qc4Ohp2Gn/Ey7PUtRv8GyJfbEtuDEqcJiebTJUPffdrciXxJ4jgKEO43/MTyGloiAyKtGyd7V2XU3NtFqqUSMgDFbN1GDYVmHmfOHI2rlTmyk5b5/8LQ5X+n8Zns3oiqbLBn8Is4LNZ69ZJrOJR/7S9IGwq2eWQNmbbHLAJlrLi0Mfx0wIbWbNhUXsXMBuZUIxmyo80euQDcpmIj4z07BGCxh4wJL9dSTpJorK6s7J0XaTISEq9WTCf+0CUwY+ZFhOvfrEemyetJWqkQhLWQbA5+/o0FQfjDt3ekKCLlxmc/n9MIjW9oR98tigQ0rWBqfqEE0zXZkJb7GmLYuCa9bB7sB4DFaecC/jTjHqCCqjzoMipyZgvtsb6EDcSv5ns87jzsJ618syVf2DL98huGS6Yu5jmnXSzqH/+OHcS3jv8Q7qz4vYslcK3gLgRQqe/TqJa/laqm5ECbx+Jm3znGcAsitaohjSF+g0r4maN6MK04ieGuJD0BNRp9QO71VgVl1Lq9nI4Y6z1qILR3L0GPu/fROpgps0PMJPGteWvnVUZPIYCNI6bblbfD7ZO/VjO2N2R/q+stTlV0WFcg/cHYfQTpK1PVmbFwPSjSywmPqa+zXF8D0nvWiT3oAKxAE2de/JTtctnqA/XoAYF2B7CdFv/N01fSVeO2w2DooHi79+73Uxm+fxSrghSLYTynE0XBdS/DcMZ/z7+kbfrQA43QitagioAdKOZZdf7zNVgHTLiIubG2MlpkaoBqLvx4a4BkTProtxXC55kxf933ee/VZNEeGOG4CKjGKQ0fUVPFaOVGok7Um9JDkaOvIVf24HYwUr4sY1VExHQxvXSNEQXZXQNd5dHrUqpJGvNKNnouaEyq78O7X6iXG4DsylCsej38IW32V5LNeanqd7JD1//aaC2h0TqFeUXqp1/JEfZO7qlVoE+/ktl/5POlliozKVjXF60mqN/k4A5UsH3ECJS8U0zCb4Gg+UcpXbgGhIxGeZEnC08k23pXDz6ZmO/95eudtR9cUjoOEypsdLQWMpCL34Fx6Zl6zWF32byopW/G+bxORKJyEY6RXYWC+aLJ7Drdqw39JwcXpe2Y5DqlG1Fug3HfIWjtv4gAAqz7yfrJXVNnD+MOJc81RzzVLzIqPrMjFsLPCLU/hNN7tGFGkJ0rV4ZWqRRQ+P1VxaIBjTohGS4P6nohrM0CYmEgl6QbuIs5iJRL3FpQLMhNsYg30gabEAZS5fr2JzR7kpCSq2Q1ZWkId7ejueegSxhbvjHueNsJ0vAXVzCokvOxFuNYxATEJk+12lLX28cnqZZFX/KADojf8JWw81gzSzWehaa/sITipWddVLdfRoh4K2Jjj9B7BtSET7y2aH2JHR/IuBjBV7Qbj4M2/pH5vU+lUJz0yR6BriuarN7U3pu6WisdDdXqlW0Anosb7BxjiOADR+aqfCrao7baShDwaOjZJd+YOE25wbsimclZf/zdHBh0BUHyc2kYQIeqyIF7SaMwDeoOUmSpt9vwjhg/UeJqyk95y+lCsNiiIEPHBAY5IP47t5S+qffz7hdx5vEBWWr3gix7Duh2qSlRIWETuOlhUkVNaNLqOBoGp1IWPg8nTFnQFfmNdFRfD737ZshMItXCqTI8IWAa9CjHqHyMEvnQGBbclT3PXgIImbHAxdbQBzb1VNg1LwWxDaUX870O5BXctcT+P/oNFNz4SMvufC43dipFtWQBNrdoeNQNYzkPcby+DrPS6rqziEAf81d3jSKV7p+9JnV5OBe5jnSnxx20LmAHnO+a3bWHXwdj7Y3R4T2MCKU6uaHdwWs3v4G+gOECEg2qXmzNQkq9UqOiYYYlCbYUYcPtd+L+obB1Y7hKStlJtc65Whx9owteRroJpLQsokTSTP00GTl4rqXtygv+hBxGS0MTgwz2K4ckW+OqzcSit4EAkX55tM8/vmPTlq4Dq0FlvbQdOBWns6yMVWJxhZ5Iu+QsCkIy3oxH06uSivCjTr7C0Dfwe+TZCtNYF+XOkB/H9b3H6saAqBWDdRm4GMwCM4iSg9IMCRgA3eZdGwLNXj1PHPEZU+55j9a2PLZKnJgLzGjC+s3fqYUgJTw5mSQRbd/DX5o4YzVyv4x5lHmgyLPWRhpALA8SHmfN6J+vXTPMIW65Y3QkdMTehWNLEA0skamqpqKRSHeDF/rPdw7Sdi/DnKnZ8RIiFb0PLJ9h3qf1xuFI6jkiAU9gzBnD7vGXqF5H+Bu8QbODBiHVbR8OnUtitQg7FewZqIvAHALjtnH2XoO7ebPlnQXP6gWMSrWGcSXjUHd2R/kJrkxFp+Rwd5bMO1amca73BQAoWbmVLl/mun6a6eTd0uYw40DH0XwB7Fz2PjfHPaq4J2WSjyEdQz6URaZgmC1qIKuoEN5qaivQitRtOsUvnBJkGxlPQZLP/kObDwrGem/bk2DnpO9zr2+pEfSmnqTjCFy99F/KGaMSNQBiawZ3f961DO8yEATZMbg53klrwlv/llo61mM1qDrsEGCd57sIOi7gjj+MJf4VeVlJ8JGYLal5etIy9XFss3CqRAjw6geO4r3YeZKJdH81cQHm386p+VdsQJzYEHhFtTvBCBEpj6UDtCEtImpf2oVvuMUOEnR9QCYq5uD580qzpp+gGMSXsL1EIyQ2CJLtkVRzqrVovsA2rFp6gIPuamltdkDphblROOf+AO2B14MP2xjbTxz6VMJ9Bo9GELOrOseHc8HRohcSRMytUk2hNZFjIwWFoQcdI+jF/Q3wFzTu01gikQTqVv1+1zd35KHZMJiVMRO16mPf/ud40zkG9O5yyE2LHo6C2Kyt1k6YX5oQIIujmRhU+V9VVSh5UudngTyAIeS9heohGSGwRJdsik+8vNeklVoci0SLr6SJy6zyBSlDmBYgffQGEnAVNvDTR4t5qEV475zcCgPAeezA7P4dozLZ0YHlwfxW6fWn3/9CvLf3QFmSl95e+8vNhGBOcO/OGwxOk4JpPX4WUO40s16WjJp+1VmNaI27KxNjJkYX2daGXlK9F6b94nND7w6xfYyNCxpoK7Pp7XNVZTWA56NqQmm0M2pLCeLhYbyd8Wpmxtg6ULL0IOCz/QVbx+0JskcviMSaXVPw+MIWs467EmQJtSOKQkrNB8ZPGOIK4KB1D67EUnWHwkrXH/zOrYDKULkrYU7ZTKbZzLIszN2Ux2swnG+XePdMYnn67zuEKrBLXdCEThQvun3LwdIUrytDsFYdRyRUTFFOAbr5d3hWesORKAFI6T5iPI/PowMfDP9bEWvG30RBZGXkqF3etVTkMGiVscpS6UipnVJVehDfHBV6bN6L9ao0xcj2MiqpIiBnVG7CgnEZo5ULsWkrZIOJP+Y4s3bH+mb7u6FZdqcifdBWFLtwyWNm19/IsTwPuFX3PuzXCJt52SwOXUHd8/RBhbLJiH4BAWuekfLLS9ogG/+JH3Wuwqxkn0rGLPAWID4nsMWuizjJYNaNQCR9shQ97WGL/XWJ5hNDB/QowArxnntzphe0O6JP8sjUAQU57Aa24xK2pFw0i44i5kOU2AAvZu60SA7wjAYo2NLci+DxmRU93tf5MyWKlTD9ejza7qEex0v1KFCsSdaIGY87zS//sv8Qi/qUyibR3J+zyH2JA3BfYiG9FOEW+OOv5CQ1b+WrOfpDwoWtH4S9+gAAAAAAA==\"\\n}'"
      ]
     },
     "execution_count": 34,
     "metadata": {},
     "output_type": "execute_result"
    }
   ],
   "source": [
    "text.strip()"
   ]
  },
  {
   "cell_type": "code",
   "execution_count": 33,
   "id": "b023266d",
   "metadata": {},
   "outputs": [
    {
     "data": {
      "text/plain": [
       "{'Which high court disposed the most cases from 2019 - 2022?': '9_13',\n",
       " \"What's the regression slope of the date_of_registration - decision_date by year in the court=33_10?\": '-5.448544',\n",
       " 'Plot the year and # of days of delay from the above question as a scatterplot with a regression line. Encode as a base64 data URI under 100,000 characters': 'data:image/webp;base64,UklGRugQAABXRUJQVlA4INwQAADQSQCdASrwALQAPm02lkikIqIhIdM7eIANiWlu4W5xEZwfwCRdPpNvTn5tMA3oL/pZMf4h/qvav/X/yD8+fCR499pvWgyr9X38v6E/xf7K/nf6n7cf1X/cf07xV+BX8B6gX4z/Gv7F9t3pl7DbLv7z/lvUC9UPmH+Q/u340eix/QegH5b/UP8F7gH8h/mP+Y/Mr+5///5O/z3/D8gL6D/ev1l+AD+O/0D/Tf438evpQ/bP+J/kPzH9nH5d/a/9//gv8X+xH2B/yn+gf6n+8f5H/4f5H///+37p///7Xf299jn9nf+uPpBv9/6SqqkCBHxeJ2RQbaSQmQLzjzcjm3e1x2WmzGOXGliysMR+Z66D1zqt101CcC6JIMIRJ435PuQDDmmGfqjKDe7lG6UsiMBDzXGZhvwXae8J4dhNRpvaH1MDH+dKkamPyQ8O6Ph0NMjTppsHM2/PFZ2EjTDr90zMioKZ4bE/DqgN40QYiFyYtXwGEnDLGSkSy8Ozs2wlwiIplGyjY6p+7v6piytR0Wg/BFuJyAPnAYQMIFaLkBX1u1PH0eibFZlxUUXPtyzLfgMH4vsoJ1Wfg2T/zBFJyjwkAQ9XH4HsKFi7wTYFM5jZlkirgp/4pIQGVlArTIco6JOysgf459o6fCqqgCbys9V8siiChswzMEBhlCj0+WCIeWCtuf/xifAkyjLWsrjnU9dxFXvp7ltxtTdHg3ZcxqtnnPg1p0mhOkuX5ixFf+b8kzXry9YpJaJZAYaUJ8njcEDFabPL501FbXjDt0TwFwGEDCBhAwgTgAD+8LCt+ErNbM/zTfY0p+kXvxlwYHIXJsk3pDqY2HIym71nkie3rqQmBq0dc8v/M2tJNh0XIPsHLVTT+CVrvNSMxgVfBfncv8UgXqxwIrPZQx+INEV5wHAgSWCLwb7cYdC4MRmbz/uW/+LFcOMhRdKjUbFIOWU8xOxx7t7DiRPs0vlWtk+RXRPqylNk5a71jDzrPLRdpsD7JJNylzF7J1NMKeKRgPQBwGqS2K6o8wP1mqFyyxpeTECGzSwBN47FeO34QH+LGPROn5wHkAw4bVwKXC+rGaqgrgL4TpXa0kDgmmxQml95E/rDe7+L4BWSUyZiWe9DPBdapW/TN3kKTQANTgmiz+IrA4ES/x1ZmcURzcQoLWiDXj5o9CepVg/UBY+zA2pL5dFb8JWzpLX5/YARc+iDBSSfy1X0Rk3/fZZLf94vu1YsHFrDnqYNGZ0K3MhdiehdR4YtpmBv7deYdPvGF0nMog5+bOPWe4C7FsfpUfhfv+S/fcdNSCfvPPrAFdXNYQpEeVNIFyxi1r9mrumM6z2QCnK+s5k8m8d0yG1p/Zt4kdHijkOW21zV9tDxaZZLLsQ1LqR4VDr7Iy1e0HdUCTz9IdKTL3GzoiSmLkcJmzzy76AQoUP/HHSGPWjFCEEKJdFeB9pSN9pbqwI4QTtwvtLanKC46SVLDjtPxAILIhyD6y7ynBoIgZwH1+AtvLJ+Dh2bJvx+G2oEL2V/izQSvGpDLxGK/xelNS2DW+a+mo+1eZasDmw8PTRMfMJU1t1nI2ySICH0KSqvw/1hVAe8S1xF7qcvZ/0gvCb74UQA6IPKTd1lwGYafdIxYYtVDr+Dd7SiCm0Hfi9nuxes4Em+tJWSgYfZ7xvlUD4Tx1bdwoK5DfvcDo6nN0S7PWK/Qb2ELRcZVSZPQ+0RHbo4F9oYcUk2qU26c6iwY4wSwUAmLOujIt9Z4213IDSCot8O8L4X29fPrlPDDDAYG8PGk9viO92HXOgE38a9hYQ5lWlrqp2Dal3PhGawJYg3KotPfZMD1I9ImY5h12DlJ/FZcAVoBcyYbHhjPkkY9I/1mnDYHYIpLYtA3ZdBa+/OZTXeWs1rxxuO5DMTHUdpAMXi27rcBbWtmsUZ1EvmCJLpS/XQs6/dZJp+uLhKx39J9gkZIDcAghzkL1JxNwOj84HYdEC3tfCqjz0RsCiCVtaZ6QPb9jz43HAq1RiNTrQpqaP0fqpBbslVOZgGDKCI+7gxm9H2hyZcR/sgYGnefKNBrQVFIkJvOrPWK/Qc4Ohp2Gn/Ey7PUtRv8GyJfbEtuDEqcJiebTJUPffdrciXxJ4jgKEO43/MTyGloiAyKtGyd7V2XU3NtFqqUSMgDFbN1GDYVmHmfOHI2rlTmyk5b5/8LQ5X+n8Zns3oiqbLBn8Is4LNZ69ZJrOJR/7S9IGwq2eWQNmbbHLAJlrLi0Mfx0wIbWbNhUXsXMBuZUIxmyo80euQDcpmIj4z07BGCxh4wJL9dSTpJorK6s7J0XaTISEq9WTCf+0CUwY+ZFhOvfrEemyetJWqkQhLWQbA5+/o0FQfjDt3ekKCLlxmc/n9MIjW9oR98tigQ0rWBqfqEE0zXZkJb7GmLYuCa9bB7sB4DFaecC/jTjHqCCqjzoMipyZgvtsb6EDcSv5ns87jzsJ618syVf2DL98huGS6Yu5jmnXSzqH/+OHcS3jv8Q7qz4vYslcK3gLgRQqe/TqJa/laqm5ECbx+Jm3znGcAsitaohjSF+g0r4maN6MK04ieGuJD0BNRp9QO71VgVl1Lq9nI4Y6z1qILR3L0GPu/fROpgps0PMJPGteWvnVUZPIYCNI6bblbfD7ZO/VjO2N2R/q+stTlV0WFcg/cHYfQTpK1PVmbFwPSjSywmPqa+zXF8D0nvWiT3oAKxAE2de/JTtctnqA/XoAYF2B7CdFv/N01fSVeO2w2DooHi79+73Uxm+fxSrghSLYTynE0XBdS/DcMZ/z7+kbfrQA43QitagioAdKOZZdf7zNVgHTLiIubG2MlpkaoBqLvx4a4BkTProtxXC55kxf933ee/VZNEeGOG4CKjGKQ0fUVPFaOVGok7Um9JDkaOvIVf24HYwUr4sY1VExHQxvXSNEQXZXQNd5dHrUqpJGvNKNnouaEyq78O7X6iXG4DsylCsej38IW32V5LNeanqd7JD1//aaC2h0TqFeUXqp1/JEfZO7qlVoE+/ktl/5POlliozKVjXF60mqN/k4A5UsH3ECJS8U0zCb4Gg+UcpXbgGhIxGeZEnC08k23pXDz6ZmO/95eudtR9cUjoOEypsdLQWMpCL34Fx6Zl6zWF32byopW/G+bxORKJyEY6RXYWC+aLJ7Drdqw39JwcXpe2Y5DqlG1Fug3HfIWjtv4gAAqz7yfrJXVNnD+MOJc81RzzVLzIqPrMjFsLPCLU/hNN7tGFGkJ0rV4ZWqRRQ+P1VxaIBjTohGS4P6nohrM0CYmEgl6QbuIs5iJRL3FpQLMhNsYg30gabEAZS5fr2JzR7kpCSq2Q1ZWkId7ejueegSxhbvjHueNsJ0vAXVzCokvOxFuNYxATEJk+12lLX28cnqZZFX/KADojf8JWw81gzSzWehaa/sITipWddVLdfRoh4K2Jjj9B7BtSET7y2aH2JHR/IuBjBV7Qbj4M2/pH5vU+lUJz0yR6BriuarN7U3pu6WisdDdXqlW0Anosb7BxjiOADR+aqfCrao7baShDwaOjZJd+YOE25wbsimclZf/zdHBh0BUHyc2kYQIeqyIF7SaMwDeoOUmSpt9vwjhg/UeJqyk95y+lCsNiiIEPHBAY5IP47t5S+qffz7hdx5vEBWWr3gix7Duh2qSlRIWETuOlhUkVNaNLqOBoGp1IWPg8nTFnQFfmNdFRfD737ZshMItXCqTI8IWAa9CjHqHyMEvnQGBbclT3PXgIImbHAxdbQBzb1VNg1LwWxDaUX870O5BXctcT+P/oNFNz4SMvufC43dipFtWQBNrdoeNQNYzkPcby+DrPS6rqziEAf81d3jSKV7p+9JnV5OBe5jnSnxx20LmAHnO+a3bWHXwdj7Y3R4T2MCKU6uaHdwWs3v4G+gOECEg2qXmzNQkq9UqOiYYYlCbYUYcPtd+L+obB1Y7hKStlJtc65Whx9owteRroJpLQsokTSTP00GTl4rqXtygv+hBxGS0MTgwz2K4ckW+OqzcSit4EAkX55tM8/vmPTlq4Dq0FlvbQdOBWns6yMVWJxhZ5Iu+QsCkIy3oxH06uSivCjTr7C0Dfwe+TZCtNYF+XOkB/H9b3H6saAqBWDdRm4GMwCM4iSg9IMCRgA3eZdGwLNXj1PHPEZU+55j9a2PLZKnJgLzGjC+s3fqYUgJTw5mSQRbd/DX5o4YzVyv4x5lHmgyLPWRhpALA8SHmfN6J+vXTPMIW65Y3QkdMTehWNLEA0skamqpqKRSHeDF/rPdw7Sdi/DnKnZ8RIiFb0PLJ9h3qf1xuFI6jkiAU9gzBnD7vGXqF5H+Bu8QbODBiHVbR8OnUtitQg7FewZqIvAHALjtnH2XoO7ebPlnQXP6gWMSrWGcSXjUHd2R/kJrkxFp+Rwd5bMO1amca73BQAoWbmVLl/mun6a6eTd0uYw40DH0XwB7Fz2PjfHPaq4J2WSjyEdQz6URaZgmC1qIKuoEN5qaivQitRtOsUvnBJkGxlPQZLP/kObDwrGem/bk2DnpO9zr2+pEfSmnqTjCFy99F/KGaMSNQBiawZ3f961DO8yEATZMbg53klrwlv/llo61mM1qDrsEGCd57sIOi7gjj+MJf4VeVlJ8JGYLal5etIy9XFss3CqRAjw6geO4r3YeZKJdH81cQHm386p+VdsQJzYEHhFtTvBCBEpj6UDtCEtImpf2oVvuMUOEnR9QCYq5uD580qzpp+gGMSXsL1EIyQ2CJLtkVRzqrVovsA2rFp6gIPuamltdkDphblROOf+AO2B14MP2xjbTxz6VMJ9Bo9GELOrOseHc8HRohcSRMytUk2hNZFjIwWFoQcdI+jF/Q3wFzTu01gikQTqVv1+1zd35KHZMJiVMRO16mPf/ud40zkG9O5yyE2LHo6C2Kyt1k6YX5oQIIujmRhU+V9VVSh5UudngTyAIeS9heohGSGwRJdsik+8vNeklVoci0SLr6SJy6zyBSlDmBYgffQGEnAVNvDTR4t5qEV475zcCgPAeezA7P4dozLZ0YHlwfxW6fWn3/9CvLf3QFmSl95e+8vNhGBOcO/OGwxOk4JpPX4WUO40s16WjJp+1VmNaI27KxNjJkYX2daGXlK9F6b94nND7w6xfYyNCxpoK7Pp7XNVZTWA56NqQmm0M2pLCeLhYbyd8Wpmxtg6ULL0IOCz/QVbx+0JskcviMSaXVPw+MIWs467EmQJtSOKQkrNB8ZPGOIK4KB1D67EUnWHwkrXH/zOrYDKULkrYU7ZTKbZzLIszN2Ux2swnG+XePdMYnn67zuEKrBLXdCEThQvun3LwdIUrytDsFYdRyRUTFFOAbr5d3hWesORKAFI6T5iPI/PowMfDP9bEWvG30RBZGXkqF3etVTkMGiVscpS6UipnVJVehDfHBV6bN6L9ao0xcj2MiqpIiBnVG7CgnEZo5ULsWkrZIOJP+Y4s3bH+mb7u6FZdqcifdBWFLtwyWNm19/IsTwPuFX3PuzXCJt52SwOXUHd8/RBhbLJiH4BAWuekfLLS9ogG/+JH3Wuwqxkn0rGLPAWID4nsMWuizjJYNaNQCR9shQ97WGL/XWJ5hNDB/QowArxnntzphe0O6JP8sjUAQU57Aa24xK2pFw0i44i5kOU2AAvZu60SA7wjAYo2NLci+DxmRU93tf5MyWKlTD9ejza7qEex0v1KFCsSdaIGY87zS//sv8Qi/qUyibR3J+zyH2JA3BfYiG9FOEW+OOv5CQ1b+WrOfpDwoWtH4S9+gAAAAAAA=='}"
      ]
     },
     "execution_count": 33,
     "metadata": {},
     "output_type": "execute_result"
    }
   ],
   "source": [
    "json.loads(text)"
   ]
  },
  {
   "cell_type": "code",
   "execution_count": null,
   "id": "d2e775ac",
   "metadata": {},
   "outputs": [],
   "source": []
  },
  {
   "cell_type": "code",
   "execution_count": 35,
   "id": "8d8743e0",
   "metadata": {},
   "outputs": [
    {
     "name": "stdout",
     "output_type": "stream",
     "text": [
      "True\n",
      "True\n",
      "True\n"
     ]
    }
   ],
   "source": [
    "from PIL import features\n",
    "\n",
    "print(features.check(\"webp\"))       # True if WebP read/write support available\n",
    "print(features.check(\"webp_anim\"))  # True if WebP animation is supported\n",
    "print(features.check(\"webp_mux\"))   # True if WebP mux support is available"
   ]
  }
 ],
 "metadata": {
  "kernelspec": {
   "display_name": ".venv",
   "language": "python",
   "name": "python3"
  },
  "language_info": {
   "codemirror_mode": {
    "name": "ipython",
    "version": 3
   },
   "file_extension": ".py",
   "mimetype": "text/x-python",
   "name": "python",
   "nbconvert_exporter": "python",
   "pygments_lexer": "ipython3",
   "version": "3.11.11"
  }
 },
 "nbformat": 4,
 "nbformat_minor": 5
}
