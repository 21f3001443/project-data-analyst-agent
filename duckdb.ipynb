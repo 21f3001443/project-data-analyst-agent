{
 "cells": [
  {
   "cell_type": "code",
   "execution_count": 3,
   "id": "16f93672",
   "metadata": {},
   "outputs": [
    {
     "data": {
      "text/plain": [
       "<duckdb.duckdb.DuckDBPyConnection at 0x105e27bb0>"
      ]
     },
     "execution_count": 3,
     "metadata": {},
     "output_type": "execute_result"
    }
   ],
   "source": [
    "import duckdb\n",
    "\n",
    "# In-memory DB\n",
    "con = duckdb.connect()\n",
    "\n",
    "con.execute(\"INSTALL httpfs; LOAD httpfs;\")\n",
    "con.execute(\"INSTALL parquet; LOAD parquet;\")\n",
    "\n",
    "con.execute(\"SET s3_region='ap-south-1';\")"
   ]
  },
  {
   "cell_type": "code",
   "execution_count": 4,
   "id": "41c910ca",
   "metadata": {},
   "outputs": [
    {
     "name": "stdout",
     "output_type": "stream",
     "text": [
      "[(15901854,)]\n"
     ]
    }
   ],
   "source": [
    "result = con.execute(\"\"\"\n",
    "SELECT COUNT(*) \n",
    "FROM read_parquet(\n",
    "    's3://indian-high-court-judgments/metadata/parquet/year=*/court=*/bench=*/metadata.parquet'\n",
    ")\n",
    "\"\"\").fetchall()\n",
    "\n",
    "print(result)"
   ]
  },
  {
   "cell_type": "code",
   "execution_count": 5,
   "id": "1356448f",
   "metadata": {},
   "outputs": [],
   "source": [
    "sql = \"\"\"\n",
    "WITH ranked AS (\n",
    "  SELECT\n",
    "    court,\n",
    "    COUNT(*) AS cases_disposed\n",
    "  FROM read_parquet(\n",
    "    's3://indian-high-court-judgments/metadata/parquet/year=*/court=*/bench=*/metadata.parquet'\n",
    "  )\n",
    "  WHERE\n",
    "    year BETWEEN 2019 AND 2022\n",
    "    AND decision_date BETWEEN DATE '2019-01-01' AND DATE '2022-12-31'\n",
    "  GROUP BY court\n",
    ")\n",
    "SELECT court, cases_disposed\n",
    "FROM ranked\n",
    "ORDER BY cases_disposed DESC\n",
    "LIMIT 1\n",
    "\"\"\""
   ]
  },
  {
   "cell_type": "code",
   "execution_count": 6,
   "id": "fd58f222",
   "metadata": {},
   "outputs": [
    {
     "name": "stdout",
     "output_type": "stream",
     "text": [
      "  court  cases_disposed\n",
      "0  9_13          817786\n"
     ]
    }
   ],
   "source": [
    "top_court = con.execute(sql).df()\n",
    "print(top_court) "
   ]
  },
  {
   "cell_type": "code",
   "execution_count": null,
   "id": "61483b57",
   "metadata": {},
   "outputs": [
    {
     "name": "stdout",
     "output_type": "stream",
     "text": [
      "{\"Which high court disposed the most cases from 2019 - 2022?\": \"9_13\", \"What's the regression slope of the date_of_registration - decision_date by year in the court=33_10?\": \"nan\", \"Plot the year and # of days of delay from the above question as a scatterplot with a regression line. Encode as a base64 data URI under 100,000 characters\": \"data:image/webp;base64,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\"}\n"
     ]
    }
   ],
   "source": [
    "# pip install duckdb matplotlib numpy pandas\n",
    "\n",
    "import duckdb\n",
    "import numpy as np\n",
    "import pandas as pd\n",
    "import matplotlib.pyplot as plt\n",
    "import base64\n",
    "from io import BytesIO\n",
    "import json\n",
    "\n",
    "# --- Connect & prepare DuckDB ---\n",
    "con = duckdb.connect()\n",
    "con.execute(\"INSTALL httpfs; LOAD httpfs;\")\n",
    "con.execute(\"INSTALL parquet; LOAD parquet;\")\n",
    "con.execute(\"SET s3_region='ap-south-1';\")  # bucket is public\n",
    "\n",
    "# --- 1) High court with most disposals (2019–2022) ---\n",
    "most_cases_df = con.execute(\"\"\"\n",
    "SELECT court, COUNT(*) AS cases_disposed\n",
    "FROM read_parquet(\n",
    "  's3://indian-high-court-judgments/metadata/parquet/year=*/court=*/bench=*/metadata.parquet'\n",
    ")\n",
    "WHERE year BETWEEN 2019 AND 2022\n",
    "  AND decision_date BETWEEN DATE '2019-01-01' AND DATE '2022-12-31'\n",
    "GROUP BY court\n",
    "ORDER BY cases_disposed DESC\n",
    "LIMIT 1\n",
    "\"\"\").df()\n",
    "\n",
    "most_cases_court = most_cases_df.iloc[0][\"court\"] if not most_cases_df.empty else None\n",
    "\n",
    "# --- 2) Regression slope of (decision_date - date_of_registration) by YEAR for court=33_10 ---\n",
    "# We compute per-year average delay (days), then regress avg_delay ~ year\n",
    "delay_by_year = con.execute(\"\"\"\n",
    "WITH delays AS (\n",
    "  SELECT\n",
    "    year,\n",
    "    DATE_DIFF('day', TRY_CAST(date_of_registration AS DATE), decision_date) AS delay_days\n",
    "  FROM read_parquet(\n",
    "    's3://indian-high-court-judgments/metadata/parquet/year=*/court=33_10/bench=*/metadata.parquet'\n",
    "  )\n",
    "  WHERE date_of_registration IS NOT NULL\n",
    "    AND decision_date IS NOT NULL\n",
    ")\n",
    "SELECT\n",
    "  year,\n",
    "  AVG(delay_days) AS avg_delay_days\n",
    "FROM delays\n",
    "WHERE delay_days IS NOT NULL\n",
    "GROUP BY year\n",
    "ORDER BY year\n",
    "\"\"\").df()\n",
    "\n",
    "if len(delay_by_year) >= 2:\n",
    "  x = delay_by_year[\"year\"].to_numpy(dtype=float)\n",
    "  y = delay_by_year[\"avg_delay_days\"].to_numpy(dtype=float)\n",
    "  slope, intercept = np.polyfit(x, y, 1)\n",
    "  slope_val = float(slope)\n",
    "else:\n",
    "  slope_val = float(\"nan\")  # not enough points\n",
    "\n",
    "# --- 3) Scatterplot (year vs avg delay) with dotted red regression line ---\n",
    "fig = plt.figure(figsize=(6, 4))\n",
    "plt.scatter(delay_by_year[\"year\"], delay_by_year[\"avg_delay_days\"], alpha=0.6, label=\"Average delay (days)\")\n",
    "if len(delay_by_year) >= 2:\n",
    "  xx = np.linspace(delay_by_year[\"year\"].min(), delay_by_year[\"year\"].max(), 200)\n",
    "  yy = slope_val * xx + intercept\n",
    "  plt.plot(xx, yy, \"r:\", label=\"Regression line\")\n",
    "plt.xlabel(\"Year\")\n",
    "plt.ylabel(\"Avg. days of delay (Decision - Registration)\")\n",
    "plt.title(\"court=33_10: Avg delay by year\")\n",
    "plt.legend()\n",
    "plt.tight_layout()\n",
    "\n",
    "buf = BytesIO()\n",
    "fig.savefig(buf, format=\"webp\")  # compact, stays well under 100k chars\n",
    "plt.close(fig)\n",
    "img_b64 = base64.b64encode(buf.getvalue()).decode(\"ascii\")\n",
    "data_uri = f\"data:image/webp;base64,{img_b64}\"\n",
    "\n",
    "# --- 4) Emit JSON result ---\n",
    "result = {\n",
    "  \"Which high court disposed the most cases from 2019 - 2022?\": str(most_cases_court),\n",
    "  \"What's the regression slope of the date_of_registration - decision_date by year in the court=33_10?\": str(slope_val),\n",
    "  \"Plot the year and # of days of delay from the above question as a scatterplot with a regression line. Encode as a base64 data URI under 100,000 characters\": data_uri\n",
    "}\n",
    "\n",
    "print(json.dumps(result, ensure_ascii=False))"
   ]
  },
  {
   "cell_type": "code",
   "execution_count": 26,
   "id": "744502c9",
   "metadata": {},
   "outputs": [
    {
     "data": {
      "text/html": [
       "<div>\n",
       "<style scoped>\n",
       "    .dataframe tbody tr th:only-of-type {\n",
       "        vertical-align: middle;\n",
       "    }\n",
       "\n",
       "    .dataframe tbody tr th {\n",
       "        vertical-align: top;\n",
       "    }\n",
       "\n",
       "    .dataframe thead th {\n",
       "        text-align: right;\n",
       "    }\n",
       "</style>\n",
       "<table border=\"1\" class=\"dataframe\">\n",
       "  <thead>\n",
       "    <tr style=\"text-align: right;\">\n",
       "      <th></th>\n",
       "      <th>year</th>\n",
       "      <th>avg_delay_days</th>\n",
       "    </tr>\n",
       "  </thead>\n",
       "  <tbody>\n",
       "  </tbody>\n",
       "</table>\n",
       "</div>"
      ],
      "text/plain": [
       "Empty DataFrame\n",
       "Columns: [year, avg_delay_days]\n",
       "Index: []"
      ]
     },
     "execution_count": 26,
     "metadata": {},
     "output_type": "execute_result"
    }
   ],
   "source": [
    "slope_val\n",
    "delay_by_year\n"
   ]
  },
  {
   "cell_type": "code",
   "execution_count": 9,
   "id": "baeaf697",
   "metadata": {},
   "outputs": [
    {
     "name": "stdout",
     "output_type": "stream",
     "text": [
      "Top court (2019–2022): 9_13\n",
      "{\n",
      "  \"Which high court disposed the most cases from 2019 - 2022?\": {\n",
      "    \"court\": \"9_13\",\n",
      "    \"cases_disposed\": 817786\n",
      "  }\n",
      "}\n"
     ]
    }
   ],
   "source": [
    "# pip install duckdb pandas\n",
    "\n",
    "import duckdb\n",
    "import pandas as pd\n",
    "import json\n",
    "\n",
    "# Connect to DuckDB (in-memory). Use duckdb.connect(\"mydb.duckdb\") to persist.\n",
    "con = duckdb.connect()\n",
    "\n",
    "# Enable S3/Parquet support\n",
    "con.execute(\"INSTALL httpfs; LOAD httpfs;\")\n",
    "con.execute(\"INSTALL parquet; LOAD parquet;\")\n",
    "con.execute(\"SET s3_region='ap-south-1';\")  # public bucket region\n",
    "\n",
    "# Query: court with most disposals between 2019 and 2022\n",
    "sql_top = \"\"\"\n",
    "SELECT court, COUNT(*) AS cases_disposed\n",
    "FROM read_parquet(\n",
    "  's3://indian-high-court-judgments/metadata/parquet/year=*/court=*/bench=*/metadata.parquet'\n",
    ")\n",
    "WHERE year BETWEEN 2019 AND 2022\n",
    "  AND decision_date BETWEEN DATE '2019-01-01' AND DATE '2022-12-31'\n",
    "GROUP BY court\n",
    "ORDER BY cases_disposed DESC\n",
    "LIMIT 1\n",
    "\"\"\"\n",
    "\n",
    "top_df = con.execute(sql_top).df()\n",
    "\n",
    "# Also get the full ranking (optional)\n",
    "sql_full = sql_top.replace(\"LIMIT 1\", \"\")\n",
    "full_df = con.execute(sql_full).df()\n",
    "\n",
    "# Print answers\n",
    "top_court = None if top_df.empty else top_df.iloc[0][\"court\"]\n",
    "print(\"Top court (2019–2022):\", top_court)\n",
    "\n",
    "# If you want JSON output:\n",
    "result = {\n",
    "    \"Which high court disposed the most cases from 2019 - 2022?\": None if top_df.empty else {\n",
    "        \"court\": top_df.iloc[0][\"court\"],\n",
    "        \"cases_disposed\": int(top_df.iloc[0][\"cases_disposed\"])\n",
    "    }\n",
    "}\n",
    "print(json.dumps(result, ensure_ascii=False, indent=2))\n",
    "\n",
    "# (Optional) Show full ranking as a table\n",
    "# print(full_df.head(25).to_string(index=False))"
   ]
  },
  {
   "cell_type": "code",
   "execution_count": 34,
   "id": "a38e8b98",
   "metadata": {},
   "outputs": [
    {
     "name": "stdout",
     "output_type": "stream",
     "text": [
      "{\"What's the regression slope of the date_of_registration - decision_date by year in the court=33_10?\": -21.07628484290379}\n"
     ]
    }
   ],
   "source": [
    "# pip install duckdb pandas numpy\n",
    "\n",
    "import duckdb\n",
    "import numpy as np\n",
    "import pandas as pd\n",
    "\n",
    "# Connect\n",
    "con = duckdb.connect()\n",
    "con.execute(\"INSTALL httpfs; LOAD httpfs;\")\n",
    "con.execute(\"INSTALL parquet; LOAD parquet;\")\n",
    "con.execute(\"SET s3_region='ap-south-1';\")  # public bucket\n",
    "\n",
    "# Query: average delay per year for court=33_10\n",
    "delay_by_year = con.execute(\"\"\"\n",
    "WITH delays AS (\n",
    "  SELECT\n",
    "    year,\n",
    "    DATE_DIFF('day', TRY_CAST(TRY_STRPTIME(date_of_registration, '%d-%m-%Y') AS DATE), decision_date) AS delay_days\n",
    "  FROM read_parquet(\n",
    "    's3://indian-high-court-judgments/metadata/parquet/year=*/court=33_10/bench=*/metadata.parquet'\n",
    "  )\n",
    "  WHERE date_of_registration IS NOT NULL\n",
    "    AND decision_date IS NOT NULL\n",
    ")\n",
    "SELECT\n",
    "  year,\n",
    "  AVG(delay_days) AS avg_delay_days\n",
    "FROM delays\n",
    "WHERE delay_days IS NOT NULL\n",
    "GROUP BY year\n",
    "ORDER BY year\n",
    "\"\"\").df()\n",
    "\n",
    "# Regression: avg_delay_days ~ year\n",
    "if len(delay_by_year) >= 2:\n",
    "    x = delay_by_year[\"year\"].to_numpy(dtype=float)\n",
    "    y = delay_by_year[\"avg_delay_days\"].to_numpy(dtype=float)\n",
    "    slope, intercept = np.polyfit(x, y, 1)\n",
    "    slope_val = float(slope)\n",
    "else:\n",
    "    slope_val = float(\"nan\")\n",
    "\n",
    "print({\n",
    "    \"What's the regression slope of the date_of_registration - decision_date by year in the court=33_10?\": slope_val\n",
    "})"
   ]
  },
  {
   "cell_type": "code",
   "execution_count": 14,
   "id": "268f7dd3",
   "metadata": {},
   "outputs": [
    {
     "data": {
      "text/plain": [
       "0"
      ]
     },
     "execution_count": 14,
     "metadata": {},
     "output_type": "execute_result"
    }
   ],
   "source": [
    "len(delay_by_year)"
   ]
  },
  {
   "cell_type": "code",
   "execution_count": 1,
   "id": "f6b7bf61",
   "metadata": {},
   "outputs": [],
   "source": [
    "# pip install duckdb pandas\n",
    "\n",
    "import duckdb\n",
    "import pandas as pd\n",
    "import json\n",
    "\n",
    "# Connect to DuckDB (in-memory). Use duckdb.connect(\"mydb.duckdb\") to persist.\n",
    "con = duckdb.connect()\n",
    "\n",
    "# Enable S3/Parquet support\n",
    "# con.execute(\"INSTALL httpfs; LOAD httpfs;\")\n",
    "# con.execute(\"INSTALL parquet; LOAD parquet;\")\n",
    "# con.execute(\"SET s3_region='ap-south-1';\")  # public bucket region\n",
    "\n",
    "# Query: court with most disposals between 2019 and 2022\n",
    "sql_top = \"\"\"\n",
    "INSTALL httpfs; LOAD httpfs;\n",
    "INSTALL parquet; LOAD parquet;\n",
    "\n",
    "SELECT year, AVG(DATEDIFF(\\'day\\', TRY_CAST(TRY_STRPTIME(date_of_registration, \\'%d-%m-%Y\\') AS DATE), decision_date)) AS avg_delay_days FROM read_parquet(\\'s3://indian-high-court-judgments/metadata/parquet/year=*/court=*/bench=*/metadata.parquet?s3_region=ap-south-1\\') WHERE court = \\'33_10\\' GROUP BY year ORDER BY year;\n",
    "\"\"\"\n",
    "\n",
    "top_df = con.execute(sql_top).df()"
   ]
  },
  {
   "cell_type": "code",
   "execution_count": 2,
   "id": "7c9de2ec",
   "metadata": {},
   "outputs": [
    {
     "data": {
      "text/html": [
       "<div>\n",
       "<style scoped>\n",
       "    .dataframe tbody tr th:only-of-type {\n",
       "        vertical-align: middle;\n",
       "    }\n",
       "\n",
       "    .dataframe tbody tr th {\n",
       "        vertical-align: top;\n",
       "    }\n",
       "\n",
       "    .dataframe thead th {\n",
       "        text-align: right;\n",
       "    }\n",
       "</style>\n",
       "<table border=\"1\" class=\"dataframe\">\n",
       "  <thead>\n",
       "    <tr style=\"text-align: right;\">\n",
       "      <th></th>\n",
       "      <th>year</th>\n",
       "      <th>avg_delay_days</th>\n",
       "    </tr>\n",
       "  </thead>\n",
       "  <tbody>\n",
       "    <tr>\n",
       "      <th>0</th>\n",
       "      <td>1995</td>\n",
       "      <td>347.000000</td>\n",
       "    </tr>\n",
       "    <tr>\n",
       "      <th>1</th>\n",
       "      <td>1996</td>\n",
       "      <td>2425.500000</td>\n",
       "    </tr>\n",
       "    <tr>\n",
       "      <th>2</th>\n",
       "      <td>1997</td>\n",
       "      <td>209.000000</td>\n",
       "    </tr>\n",
       "    <tr>\n",
       "      <th>3</th>\n",
       "      <td>1999</td>\n",
       "      <td>-484.000000</td>\n",
       "    </tr>\n",
       "    <tr>\n",
       "      <th>4</th>\n",
       "      <td>2000</td>\n",
       "      <td>809.000000</td>\n",
       "    </tr>\n",
       "    <tr>\n",
       "      <th>5</th>\n",
       "      <td>2001</td>\n",
       "      <td>1024.350877</td>\n",
       "    </tr>\n",
       "    <tr>\n",
       "      <th>6</th>\n",
       "      <td>2002</td>\n",
       "      <td>1668.532683</td>\n",
       "    </tr>\n",
       "    <tr>\n",
       "      <th>7</th>\n",
       "      <td>2003</td>\n",
       "      <td>1228.799087</td>\n",
       "    </tr>\n",
       "    <tr>\n",
       "      <th>8</th>\n",
       "      <td>2004</td>\n",
       "      <td>1455.112920</td>\n",
       "    </tr>\n",
       "    <tr>\n",
       "      <th>9</th>\n",
       "      <td>2005</td>\n",
       "      <td>1477.061947</td>\n",
       "    </tr>\n",
       "    <tr>\n",
       "      <th>10</th>\n",
       "      <td>2006</td>\n",
       "      <td>960.846992</td>\n",
       "    </tr>\n",
       "    <tr>\n",
       "      <th>11</th>\n",
       "      <td>2007</td>\n",
       "      <td>1257.139396</td>\n",
       "    </tr>\n",
       "    <tr>\n",
       "      <th>12</th>\n",
       "      <td>2008</td>\n",
       "      <td>1320.023223</td>\n",
       "    </tr>\n",
       "    <tr>\n",
       "      <th>13</th>\n",
       "      <td>2009</td>\n",
       "      <td>912.451453</td>\n",
       "    </tr>\n",
       "    <tr>\n",
       "      <th>14</th>\n",
       "      <td>2010</td>\n",
       "      <td>1057.555556</td>\n",
       "    </tr>\n",
       "    <tr>\n",
       "      <th>15</th>\n",
       "      <td>2011</td>\n",
       "      <td>205.874047</td>\n",
       "    </tr>\n",
       "    <tr>\n",
       "      <th>16</th>\n",
       "      <td>2012</td>\n",
       "      <td>704.281327</td>\n",
       "    </tr>\n",
       "    <tr>\n",
       "      <th>17</th>\n",
       "      <td>2013</td>\n",
       "      <td>189.983861</td>\n",
       "    </tr>\n",
       "    <tr>\n",
       "      <th>18</th>\n",
       "      <td>2014</td>\n",
       "      <td>239.386033</td>\n",
       "    </tr>\n",
       "    <tr>\n",
       "      <th>19</th>\n",
       "      <td>2015</td>\n",
       "      <td>264.302053</td>\n",
       "    </tr>\n",
       "    <tr>\n",
       "      <th>20</th>\n",
       "      <td>2016</td>\n",
       "      <td>296.005830</td>\n",
       "    </tr>\n",
       "    <tr>\n",
       "      <th>21</th>\n",
       "      <td>2017</td>\n",
       "      <td>654.084600</td>\n",
       "    </tr>\n",
       "    <tr>\n",
       "      <th>22</th>\n",
       "      <td>2018</td>\n",
       "      <td>668.285408</td>\n",
       "    </tr>\n",
       "    <tr>\n",
       "      <th>23</th>\n",
       "      <td>2019</td>\n",
       "      <td>780.357086</td>\n",
       "    </tr>\n",
       "    <tr>\n",
       "      <th>24</th>\n",
       "      <td>2020</td>\n",
       "      <td>597.779433</td>\n",
       "    </tr>\n",
       "    <tr>\n",
       "      <th>25</th>\n",
       "      <td>2021</td>\n",
       "      <td>628.875959</td>\n",
       "    </tr>\n",
       "    <tr>\n",
       "      <th>26</th>\n",
       "      <td>2022</td>\n",
       "      <td>579.984528</td>\n",
       "    </tr>\n",
       "    <tr>\n",
       "      <th>27</th>\n",
       "      <td>2023</td>\n",
       "      <td>552.273924</td>\n",
       "    </tr>\n",
       "    <tr>\n",
       "      <th>28</th>\n",
       "      <td>2024</td>\n",
       "      <td>502.659532</td>\n",
       "    </tr>\n",
       "    <tr>\n",
       "      <th>29</th>\n",
       "      <td>2025</td>\n",
       "      <td>391.620998</td>\n",
       "    </tr>\n",
       "  </tbody>\n",
       "</table>\n",
       "</div>"
      ],
      "text/plain": [
       "    year  avg_delay_days\n",
       "0   1995      347.000000\n",
       "1   1996     2425.500000\n",
       "2   1997      209.000000\n",
       "3   1999     -484.000000\n",
       "4   2000      809.000000\n",
       "5   2001     1024.350877\n",
       "6   2002     1668.532683\n",
       "7   2003     1228.799087\n",
       "8   2004     1455.112920\n",
       "9   2005     1477.061947\n",
       "10  2006      960.846992\n",
       "11  2007     1257.139396\n",
       "12  2008     1320.023223\n",
       "13  2009      912.451453\n",
       "14  2010     1057.555556\n",
       "15  2011      205.874047\n",
       "16  2012      704.281327\n",
       "17  2013      189.983861\n",
       "18  2014      239.386033\n",
       "19  2015      264.302053\n",
       "20  2016      296.005830\n",
       "21  2017      654.084600\n",
       "22  2018      668.285408\n",
       "23  2019      780.357086\n",
       "24  2020      597.779433\n",
       "25  2021      628.875959\n",
       "26  2022      579.984528\n",
       "27  2023      552.273924\n",
       "28  2024      502.659532\n",
       "29  2025      391.620998"
      ]
     },
     "execution_count": 2,
     "metadata": {},
     "output_type": "execute_result"
    }
   ],
   "source": [
    "top_df"
   ]
  },
  {
   "cell_type": "code",
   "execution_count": 3,
   "id": "b43e137e",
   "metadata": {},
   "outputs": [],
   "source": [
    "from typing_extensions import Dict, List, TypedDict, Annotated, Optional, Any, Tuple\n",
    "from pydantic import BaseModel, Field, ConfigDict\n",
    "import re\n",
    "import subprocess\n",
    "import sys\n",
    "import os\n",
    "\n",
    "import pandas as pd\n",
    "import duckdb\n",
    "\n",
    "from langgraph.graph import StateGraph, START, END\n",
    "from langgraph.graph.message import add_messages\n",
    "from langgraph.prebuilt import ToolNode, tools_condition\n",
    "from langgraph.checkpoint.memory import MemorySaver\n",
    "from langchain.schema import BaseMessage\n",
    "\n",
    "from langchain.chat_models import init_chat_model\n",
    "from langchain_openai import ChatOpenAI\n",
    "from langchain_core.messages import HumanMessage, AnyMessage, SystemMessage, AIMessage, ToolMessage\n",
    "from langchain_core.tools import tool\n",
    "\n",
    "from fastapi import FastAPI, UploadFile, File, Form, HTTPException\n",
    "from fastapi.middleware.cors import CORSMiddleware\n",
    "from fastapi.responses import JSONResponse\n",
    "import uvicorn\n",
    "\n",
    "from agents.wikipedia import Wikipedia\n",
    "from agents.sessionstore import SessionStore\n",
    "from agents.plot import ScatterPlot\n",
    "\n"
   ]
  },
  {
   "cell_type": "code",
   "execution_count": 19,
   "id": "6b566339",
   "metadata": {},
   "outputs": [],
   "source": [
    "\n",
    "class ParsedBlocks(BaseModel):\n",
    "    model_config = ConfigDict(extra='forbid')\n",
    "    content: Dict[str, Any]"
   ]
  },
  {
   "cell_type": "code",
   "execution_count": 13,
   "id": "0581dfd1",
   "metadata": {},
   "outputs": [],
   "source": [
    "llm = ChatOpenAI(model=\"gpt-5-nano\", temperature=0)"
   ]
  },
  {
   "cell_type": "code",
   "execution_count": 22,
   "id": "3bc9717a",
   "metadata": {},
   "outputs": [],
   "source": [
    "prompt = \"\"\"content='{\\n  \"Which high court disposed the most cases from 2019 - 2022?\": \"9_13\",\\n  \"What\\'s the regression slope of the date_of_registration - decision_date by year in the court=33_10?\": 5.448544,\\n  \"Plot the year and # of days of delay from the above question as a scatterplot with a regression line. Encode as a base64 data URI under 100,000 characters\": \"data:image/png;base64,iVBORw0KGgoAAAANSUhEUgAAAeAAAAFoCAYAAACPNyggAAAAOnRFWHRTb2Z0d2FyZQBNYXRwbG90bGliIHZlcnNpb24zLjEwLjUsIGh0dHBzOi8vbWF0cGxvdGxpYi5vcmcvWftoOwAAAAlwSFlzAAASdAAAEnQB3mYfeAAAUohJREFUeJzt3Ql8DPf7B/BHQuKIJELiFsR9hqKl7lup1q11VauuVtXRS7VKVQ+ql/Kj7b/aoqqUUj0VrZu4r7jFLYmQCLkz/9fnm87abDan3Uw2+3m/XisyO7MzOzvZZ77X8y2gaZomRERElKtccnd3REREBAzAREREBmAAJiIiMgADMBERkQEYgImIiAzAAExERGQABmAiIiIDMAATEREZgAGYiIjIAAzAREREBmAAJiIiMgADMBERkQEYgImIiAzAAExERGQABmAiIiIDMAATEREZgAGYiIjIAAzAREREBmAAJiIiMgADMBERkQEYgImIiAzAAExERGQABmAiIiIDMAATERE5QwCOj4+XO3fu5PZuiYiInCMAL1++XCZMmJBq2fTp08XDw0O8vb2lV69eEh0dnaPXxnbTpk2Trl27io+PjxQoUEAWL16cZr2nnnpKPWf5qFWrVpb3tXbtWmncuLEULlxYKlWqpPabmJiYo+MmIiLSFRQ7+fDDD6VRo0am37dv364CcPfu3aV27dry2WefyTvvvCPvvvtutl87PDxcZsyYoQJiw4YNZfPmzemu6+7uLl9++WWqZV5eXlnaz2+//SaPP/64tG3bVh3v4cOHZebMmRIaGioLFizI9nETERHZPQCfOXNGhg0bZvp92bJlUqZMGVm9erUULFhQkpOTZdWqVTkKwGXLlpWrV6+q1wsKCpKmTZumuy72NXjw4By9h8mTJ0uDBg3kzz//VK8Dnp6d\"\\n}' additional_kwargs={'refusal': None} response_metadata={'token_usage': {'completion_tokens': 6389, 'prompt_tokens': 20959, 'total_tokens': 27348, 'completion_tokens_details': {'accepted_prediction_tokens': 0, 'audio_tokens': 0, 'reasoning_tokens': 5696, 'rejected_prediction_tokens': 0}, 'prompt_tokens_details': {'audio_tokens': 0, 'cached_tokens': 1408}}, 'model_name': 'gpt-5-nano-2025-08-07', 'system_fingerprint': None, 'id': 'chatcmpl-C59gfnCPxXhvV3pLkBR0YIa2yTNrA', 'service_tier': 'default', 'finish_reason': 'stop', 'logprobs': None} id='run--8d5e1c96-dab3-4047-9ab0-4f266bd9100d-0' usage_metadata={'input_tokens': 20959, 'output_tokens': 6389, 'total_tokens': 27348, 'input_token_details': {'audio': 0, 'cache_read': 1408}, 'output_token_details': {'audio': 0, 'reasoning': 5696}} \"\"\""
   ]
  },
  {
   "cell_type": "code",
   "execution_count": 23,
   "id": "5bc6904c",
   "metadata": {},
   "outputs": [
    {
     "name": "stdout",
     "output_type": "stream",
     "text": [
      "['9_13', 5.448544, 'data:image/png;base64,iVBORw0KGgoAAAANSUhEUgAAAeAAAAFoCAYAAACPNyggAAAAOnRFWHRTb2Z0d2FyZQBNYXRwbG90bGliIHZlcnNpb24zLjEwLjUsIGh0dHBzOi8vbWF0cGxvdGxpYi5vcmcvWftoOwAAAAlwSFlzAAASdAAAEnQB3mYfeAAAUohJREFUeJzt3Ql8DPf7B/BHQuKIJELiFsR9hqKl7lup1q11VauuVtXRS7VKVQ+ql/Kj7b/aoqqUUj0VrZu4r7jFLYmQCLkz/9fnm87abDan3Uw2+3m/XisyO7MzOzvZZ77X8y2gaZomRERElKtccnd3REREBAzAREREBmAAJiIiMgADMBERkQEYgImIiAzAAExERGQABmAiIiIDMAATEREZgAGYiIjIAAzAREREBmAAJiIiMgADMBERkQEYgImIiAzAAExERGQABmAiIiIDMAATEREZgAGYiIjIAAzAREREBmAAJiIiMgADMBERkQEYgImIiAzAAExERGQABmAiIiIDMAATERE5QwCOj4+XO3fu5PZuiYiInCMAL1++XCZMmJBq2fTp08XDw0O8vb2lV69eEh0dnaPXxnbTpk2Trl27io+PjxQoUEAWL16cZr2nnnpKPWf5qFWrVpb3tXbtWmncuLEULlxYKlWqpPabmJiYo+MmIiLSFRQ7+fDDD6VRo0am37dv364CcPfu3aV27dry2WefyTvvvCPvvvtutl87PDxcZsyYoQJiw4YNZfPmzemu6+7uLl9++WWqZV5eXlnaz2+//SaPP/64tG3bVh3v4cOHZebMmRIaGioLFizI9nETERHZPQCfOXNGhg0bZvp92bJlUqZMGVm9erUULFhQkpOTZdWqVTkKwGXLlpWrV6+q1wsKCpKmTZumuy72NXjw4By9h8mTJ0uDBg3kzz//VK8Dnp6d']\n"
     ]
    }
   ],
   "source": [
    "# Extract between content=' ... '\n",
    "match = re.search(r\"content='({.*?})'\", prompt, re.DOTALL)\n",
    "if match:\n",
    "    json_str = match.group(1)  # This is the JSON string\n",
    "    parsed = json.loads(json_str)\n",
    "    values = list(parsed.values())\n",
    "    print(values)"
   ]
  },
  {
   "cell_type": "code",
   "execution_count": 16,
   "id": "3c3886a6",
   "metadata": {},
   "outputs": [],
   "source": [
    "match = re.search(r\"content='(.*?)'\\s\", prompt, re.DOTALL)\n",
    "if not match:\n",
    "    raise ValueError(\"Could not find JSON content\")\n",
    "prompt = match.group(1)"
   ]
  },
  {
   "cell_type": "code",
   "execution_count": 21,
   "id": "5af90aa1",
   "metadata": {},
   "outputs": [],
   "source": [
    "parsed = ParsedBlocks(content=json.loads(prompt))"
   ]
  },
  {
   "cell_type": "code",
   "execution_count": 20,
   "id": "2fda8825",
   "metadata": {},
   "outputs": [
    {
     "name": "stderr",
     "output_type": "stream",
     "text": [
      "/Users/weigfhx/Library/CloudStorage/OneDrive-Allianz/GitHub/project-data-analyst-agent/.venv/lib/python3.11/site-packages/langchain_openai/chat_models/base.py:425: UserWarning: Invalid schema for OpenAI's structured output feature, which is the default method for `with_structured_output` as of langchain-openai==0.3. Specify `method=\"function_calling\"` instead or update your schema. See supported schemas: https://platform.openai.com/docs/guides/structured-outputs#supported-schemas\n",
      "  warnings.warn(message)\n"
     ]
    },
    {
     "ename": "BadRequestError",
     "evalue": "Error code: 400 - {'error': {'message': \"Invalid schema for response_format 'ParsedBlocks': In context=('properties', 'content'), 'additionalProperties' is required to be supplied and to be false.\", 'type': 'invalid_request_error', 'param': 'response_format', 'code': None}}",
     "output_type": "error",
     "traceback": [
      "\u001b[31m---------------------------------------------------------------------------\u001b[39m",
      "\u001b[31mBadRequestError\u001b[39m                           Traceback (most recent call last)",
      "\u001b[36mCell\u001b[39m\u001b[36m \u001b[39m\u001b[32mIn[20]\u001b[39m\u001b[32m, line 1\u001b[39m\n\u001b[32m----> \u001b[39m\u001b[32m1\u001b[39m parsed: ParsedBlocks = \u001b[43mllm\u001b[49m\u001b[43m.\u001b[49m\u001b[43mwith_structured_output\u001b[49m\u001b[43m(\u001b[49m\u001b[43mParsedBlocks\u001b[49m\u001b[43m)\u001b[49m\u001b[43m.\u001b[49m\u001b[43minvoke\u001b[49m\u001b[43m(\u001b[49m\u001b[43mprompt\u001b[49m\u001b[43m)\u001b[49m\n",
      "\u001b[36mFile \u001b[39m\u001b[32m~/Library/CloudStorage/OneDrive-Allianz/GitHub/project-data-analyst-agent/.venv/lib/python3.11/site-packages/langchain_core/runnables/base.py:3047\u001b[39m, in \u001b[36mRunnableSequence.invoke\u001b[39m\u001b[34m(self, input, config, **kwargs)\u001b[39m\n\u001b[32m   3045\u001b[39m \u001b[38;5;28;01mwith\u001b[39;00m set_config_context(config) \u001b[38;5;28;01mas\u001b[39;00m context:\n\u001b[32m   3046\u001b[39m     \u001b[38;5;28;01mif\u001b[39;00m i == \u001b[32m0\u001b[39m:\n\u001b[32m-> \u001b[39m\u001b[32m3047\u001b[39m         input_ = \u001b[43mcontext\u001b[49m\u001b[43m.\u001b[49m\u001b[43mrun\u001b[49m\u001b[43m(\u001b[49m\u001b[43mstep\u001b[49m\u001b[43m.\u001b[49m\u001b[43minvoke\u001b[49m\u001b[43m,\u001b[49m\u001b[43m \u001b[49m\u001b[43minput_\u001b[49m\u001b[43m,\u001b[49m\u001b[43m \u001b[49m\u001b[43mconfig\u001b[49m\u001b[43m,\u001b[49m\u001b[43m \u001b[49m\u001b[43m*\u001b[49m\u001b[43m*\u001b[49m\u001b[43mkwargs\u001b[49m\u001b[43m)\u001b[49m\n\u001b[32m   3048\u001b[39m     \u001b[38;5;28;01melse\u001b[39;00m:\n\u001b[32m   3049\u001b[39m         input_ = context.run(step.invoke, input_, config)\n",
      "\u001b[36mFile \u001b[39m\u001b[32m~/Library/CloudStorage/OneDrive-Allianz/GitHub/project-data-analyst-agent/.venv/lib/python3.11/site-packages/langchain_core/runnables/base.py:5441\u001b[39m, in \u001b[36mRunnableBindingBase.invoke\u001b[39m\u001b[34m(self, input, config, **kwargs)\u001b[39m\n\u001b[32m   5434\u001b[39m \u001b[38;5;129m@override\u001b[39m\n\u001b[32m   5435\u001b[39m \u001b[38;5;28;01mdef\u001b[39;00m\u001b[38;5;250m \u001b[39m\u001b[34minvoke\u001b[39m(\n\u001b[32m   5436\u001b[39m     \u001b[38;5;28mself\u001b[39m,\n\u001b[32m   (...)\u001b[39m\u001b[32m   5439\u001b[39m     **kwargs: Optional[Any],\n\u001b[32m   5440\u001b[39m ) -> Output:\n\u001b[32m-> \u001b[39m\u001b[32m5441\u001b[39m     \u001b[38;5;28;01mreturn\u001b[39;00m \u001b[38;5;28;43mself\u001b[39;49m\u001b[43m.\u001b[49m\u001b[43mbound\u001b[49m\u001b[43m.\u001b[49m\u001b[43minvoke\u001b[49m\u001b[43m(\u001b[49m\n\u001b[32m   5442\u001b[39m \u001b[43m        \u001b[49m\u001b[38;5;28;43minput\u001b[39;49m\u001b[43m,\u001b[49m\n\u001b[32m   5443\u001b[39m \u001b[43m        \u001b[49m\u001b[38;5;28;43mself\u001b[39;49m\u001b[43m.\u001b[49m\u001b[43m_merge_configs\u001b[49m\u001b[43m(\u001b[49m\u001b[43mconfig\u001b[49m\u001b[43m)\u001b[49m\u001b[43m,\u001b[49m\n\u001b[32m   5444\u001b[39m \u001b[43m        \u001b[49m\u001b[43m*\u001b[49m\u001b[43m*\u001b[49m\u001b[43m{\u001b[49m\u001b[43m*\u001b[49m\u001b[43m*\u001b[49m\u001b[38;5;28;43mself\u001b[39;49m\u001b[43m.\u001b[49m\u001b[43mkwargs\u001b[49m\u001b[43m,\u001b[49m\u001b[43m \u001b[49m\u001b[43m*\u001b[49m\u001b[43m*\u001b[49m\u001b[43mkwargs\u001b[49m\u001b[43m}\u001b[49m\u001b[43m,\u001b[49m\n\u001b[32m   5445\u001b[39m \u001b[43m    \u001b[49m\u001b[43m)\u001b[49m\n",
      "\u001b[36mFile \u001b[39m\u001b[32m~/Library/CloudStorage/OneDrive-Allianz/GitHub/project-data-analyst-agent/.venv/lib/python3.11/site-packages/langchain_core/language_models/chat_models.py:383\u001b[39m, in \u001b[36mBaseChatModel.invoke\u001b[39m\u001b[34m(self, input, config, stop, **kwargs)\u001b[39m\n\u001b[32m    371\u001b[39m \u001b[38;5;129m@override\u001b[39m\n\u001b[32m    372\u001b[39m \u001b[38;5;28;01mdef\u001b[39;00m\u001b[38;5;250m \u001b[39m\u001b[34minvoke\u001b[39m(\n\u001b[32m    373\u001b[39m     \u001b[38;5;28mself\u001b[39m,\n\u001b[32m   (...)\u001b[39m\u001b[32m    378\u001b[39m     **kwargs: Any,\n\u001b[32m    379\u001b[39m ) -> BaseMessage:\n\u001b[32m    380\u001b[39m     config = ensure_config(config)\n\u001b[32m    381\u001b[39m     \u001b[38;5;28;01mreturn\u001b[39;00m cast(\n\u001b[32m    382\u001b[39m         \u001b[33m\"\u001b[39m\u001b[33mChatGeneration\u001b[39m\u001b[33m\"\u001b[39m,\n\u001b[32m--> \u001b[39m\u001b[32m383\u001b[39m         \u001b[38;5;28;43mself\u001b[39;49m\u001b[43m.\u001b[49m\u001b[43mgenerate_prompt\u001b[49m\u001b[43m(\u001b[49m\n\u001b[32m    384\u001b[39m \u001b[43m            \u001b[49m\u001b[43m[\u001b[49m\u001b[38;5;28;43mself\u001b[39;49m\u001b[43m.\u001b[49m\u001b[43m_convert_input\u001b[49m\u001b[43m(\u001b[49m\u001b[38;5;28;43minput\u001b[39;49m\u001b[43m)\u001b[49m\u001b[43m]\u001b[49m\u001b[43m,\u001b[49m\n\u001b[32m    385\u001b[39m \u001b[43m            \u001b[49m\u001b[43mstop\u001b[49m\u001b[43m=\u001b[49m\u001b[43mstop\u001b[49m\u001b[43m,\u001b[49m\n\u001b[32m    386\u001b[39m \u001b[43m            \u001b[49m\u001b[43mcallbacks\u001b[49m\u001b[43m=\u001b[49m\u001b[43mconfig\u001b[49m\u001b[43m.\u001b[49m\u001b[43mget\u001b[49m\u001b[43m(\u001b[49m\u001b[33;43m\"\u001b[39;49m\u001b[33;43mcallbacks\u001b[39;49m\u001b[33;43m\"\u001b[39;49m\u001b[43m)\u001b[49m\u001b[43m,\u001b[49m\n\u001b[32m    387\u001b[39m \u001b[43m            \u001b[49m\u001b[43mtags\u001b[49m\u001b[43m=\u001b[49m\u001b[43mconfig\u001b[49m\u001b[43m.\u001b[49m\u001b[43mget\u001b[49m\u001b[43m(\u001b[49m\u001b[33;43m\"\u001b[39;49m\u001b[33;43mtags\u001b[39;49m\u001b[33;43m\"\u001b[39;49m\u001b[43m)\u001b[49m\u001b[43m,\u001b[49m\n\u001b[32m    388\u001b[39m \u001b[43m            \u001b[49m\u001b[43mmetadata\u001b[49m\u001b[43m=\u001b[49m\u001b[43mconfig\u001b[49m\u001b[43m.\u001b[49m\u001b[43mget\u001b[49m\u001b[43m(\u001b[49m\u001b[33;43m\"\u001b[39;49m\u001b[33;43mmetadata\u001b[39;49m\u001b[33;43m\"\u001b[39;49m\u001b[43m)\u001b[49m\u001b[43m,\u001b[49m\n\u001b[32m    389\u001b[39m \u001b[43m            \u001b[49m\u001b[43mrun_name\u001b[49m\u001b[43m=\u001b[49m\u001b[43mconfig\u001b[49m\u001b[43m.\u001b[49m\u001b[43mget\u001b[49m\u001b[43m(\u001b[49m\u001b[33;43m\"\u001b[39;49m\u001b[33;43mrun_name\u001b[39;49m\u001b[33;43m\"\u001b[39;49m\u001b[43m)\u001b[49m\u001b[43m,\u001b[49m\n\u001b[32m    390\u001b[39m \u001b[43m            \u001b[49m\u001b[43mrun_id\u001b[49m\u001b[43m=\u001b[49m\u001b[43mconfig\u001b[49m\u001b[43m.\u001b[49m\u001b[43mpop\u001b[49m\u001b[43m(\u001b[49m\u001b[33;43m\"\u001b[39;49m\u001b[33;43mrun_id\u001b[39;49m\u001b[33;43m\"\u001b[39;49m\u001b[43m,\u001b[49m\u001b[43m \u001b[49m\u001b[38;5;28;43;01mNone\u001b[39;49;00m\u001b[43m)\u001b[49m\u001b[43m,\u001b[49m\n\u001b[32m    391\u001b[39m \u001b[43m            \u001b[49m\u001b[43m*\u001b[49m\u001b[43m*\u001b[49m\u001b[43mkwargs\u001b[49m\u001b[43m,\u001b[49m\n\u001b[32m    392\u001b[39m \u001b[43m        \u001b[49m\u001b[43m)\u001b[49m.generations[\u001b[32m0\u001b[39m][\u001b[32m0\u001b[39m],\n\u001b[32m    393\u001b[39m     ).message\n",
      "\u001b[36mFile \u001b[39m\u001b[32m~/Library/CloudStorage/OneDrive-Allianz/GitHub/project-data-analyst-agent/.venv/lib/python3.11/site-packages/langchain_core/language_models/chat_models.py:1006\u001b[39m, in \u001b[36mBaseChatModel.generate_prompt\u001b[39m\u001b[34m(self, prompts, stop, callbacks, **kwargs)\u001b[39m\n\u001b[32m    997\u001b[39m \u001b[38;5;129m@override\u001b[39m\n\u001b[32m    998\u001b[39m \u001b[38;5;28;01mdef\u001b[39;00m\u001b[38;5;250m \u001b[39m\u001b[34mgenerate_prompt\u001b[39m(\n\u001b[32m    999\u001b[39m     \u001b[38;5;28mself\u001b[39m,\n\u001b[32m   (...)\u001b[39m\u001b[32m   1003\u001b[39m     **kwargs: Any,\n\u001b[32m   1004\u001b[39m ) -> LLMResult:\n\u001b[32m   1005\u001b[39m     prompt_messages = [p.to_messages() \u001b[38;5;28;01mfor\u001b[39;00m p \u001b[38;5;129;01min\u001b[39;00m prompts]\n\u001b[32m-> \u001b[39m\u001b[32m1006\u001b[39m     \u001b[38;5;28;01mreturn\u001b[39;00m \u001b[38;5;28;43mself\u001b[39;49m\u001b[43m.\u001b[49m\u001b[43mgenerate\u001b[49m\u001b[43m(\u001b[49m\u001b[43mprompt_messages\u001b[49m\u001b[43m,\u001b[49m\u001b[43m \u001b[49m\u001b[43mstop\u001b[49m\u001b[43m=\u001b[49m\u001b[43mstop\u001b[49m\u001b[43m,\u001b[49m\u001b[43m \u001b[49m\u001b[43mcallbacks\u001b[49m\u001b[43m=\u001b[49m\u001b[43mcallbacks\u001b[49m\u001b[43m,\u001b[49m\u001b[43m \u001b[49m\u001b[43m*\u001b[49m\u001b[43m*\u001b[49m\u001b[43mkwargs\u001b[49m\u001b[43m)\u001b[49m\n",
      "\u001b[36mFile \u001b[39m\u001b[32m~/Library/CloudStorage/OneDrive-Allianz/GitHub/project-data-analyst-agent/.venv/lib/python3.11/site-packages/langchain_core/language_models/chat_models.py:825\u001b[39m, in \u001b[36mBaseChatModel.generate\u001b[39m\u001b[34m(self, messages, stop, callbacks, tags, metadata, run_name, run_id, **kwargs)\u001b[39m\n\u001b[32m    822\u001b[39m \u001b[38;5;28;01mfor\u001b[39;00m i, m \u001b[38;5;129;01min\u001b[39;00m \u001b[38;5;28menumerate\u001b[39m(input_messages):\n\u001b[32m    823\u001b[39m     \u001b[38;5;28;01mtry\u001b[39;00m:\n\u001b[32m    824\u001b[39m         results.append(\n\u001b[32m--> \u001b[39m\u001b[32m825\u001b[39m             \u001b[38;5;28;43mself\u001b[39;49m\u001b[43m.\u001b[49m\u001b[43m_generate_with_cache\u001b[49m\u001b[43m(\u001b[49m\n\u001b[32m    826\u001b[39m \u001b[43m                \u001b[49m\u001b[43mm\u001b[49m\u001b[43m,\u001b[49m\n\u001b[32m    827\u001b[39m \u001b[43m                \u001b[49m\u001b[43mstop\u001b[49m\u001b[43m=\u001b[49m\u001b[43mstop\u001b[49m\u001b[43m,\u001b[49m\n\u001b[32m    828\u001b[39m \u001b[43m                \u001b[49m\u001b[43mrun_manager\u001b[49m\u001b[43m=\u001b[49m\u001b[43mrun_managers\u001b[49m\u001b[43m[\u001b[49m\u001b[43mi\u001b[49m\u001b[43m]\u001b[49m\u001b[43m \u001b[49m\u001b[38;5;28;43;01mif\u001b[39;49;00m\u001b[43m \u001b[49m\u001b[43mrun_managers\u001b[49m\u001b[43m \u001b[49m\u001b[38;5;28;43;01melse\u001b[39;49;00m\u001b[43m \u001b[49m\u001b[38;5;28;43;01mNone\u001b[39;49;00m\u001b[43m,\u001b[49m\n\u001b[32m    829\u001b[39m \u001b[43m                \u001b[49m\u001b[43m*\u001b[49m\u001b[43m*\u001b[49m\u001b[43mkwargs\u001b[49m\u001b[43m,\u001b[49m\n\u001b[32m    830\u001b[39m \u001b[43m            \u001b[49m\u001b[43m)\u001b[49m\n\u001b[32m    831\u001b[39m         )\n\u001b[32m    832\u001b[39m     \u001b[38;5;28;01mexcept\u001b[39;00m \u001b[38;5;167;01mBaseException\u001b[39;00m \u001b[38;5;28;01mas\u001b[39;00m e:\n\u001b[32m    833\u001b[39m         \u001b[38;5;28;01mif\u001b[39;00m run_managers:\n",
      "\u001b[36mFile \u001b[39m\u001b[32m~/Library/CloudStorage/OneDrive-Allianz/GitHub/project-data-analyst-agent/.venv/lib/python3.11/site-packages/langchain_core/language_models/chat_models.py:1072\u001b[39m, in \u001b[36mBaseChatModel._generate_with_cache\u001b[39m\u001b[34m(self, messages, stop, run_manager, **kwargs)\u001b[39m\n\u001b[32m   1070\u001b[39m     result = generate_from_stream(\u001b[38;5;28miter\u001b[39m(chunks))\n\u001b[32m   1071\u001b[39m \u001b[38;5;28;01melif\u001b[39;00m inspect.signature(\u001b[38;5;28mself\u001b[39m._generate).parameters.get(\u001b[33m\"\u001b[39m\u001b[33mrun_manager\u001b[39m\u001b[33m\"\u001b[39m):\n\u001b[32m-> \u001b[39m\u001b[32m1072\u001b[39m     result = \u001b[38;5;28;43mself\u001b[39;49m\u001b[43m.\u001b[49m\u001b[43m_generate\u001b[49m\u001b[43m(\u001b[49m\n\u001b[32m   1073\u001b[39m \u001b[43m        \u001b[49m\u001b[43mmessages\u001b[49m\u001b[43m,\u001b[49m\u001b[43m \u001b[49m\u001b[43mstop\u001b[49m\u001b[43m=\u001b[49m\u001b[43mstop\u001b[49m\u001b[43m,\u001b[49m\u001b[43m \u001b[49m\u001b[43mrun_manager\u001b[49m\u001b[43m=\u001b[49m\u001b[43mrun_manager\u001b[49m\u001b[43m,\u001b[49m\u001b[43m \u001b[49m\u001b[43m*\u001b[49m\u001b[43m*\u001b[49m\u001b[43mkwargs\u001b[49m\n\u001b[32m   1074\u001b[39m \u001b[43m    \u001b[49m\u001b[43m)\u001b[49m\n\u001b[32m   1075\u001b[39m \u001b[38;5;28;01melse\u001b[39;00m:\n\u001b[32m   1076\u001b[39m     result = \u001b[38;5;28mself\u001b[39m._generate(messages, stop=stop, **kwargs)\n",
      "\u001b[36mFile \u001b[39m\u001b[32m~/Library/CloudStorage/OneDrive-Allianz/GitHub/project-data-analyst-agent/.venv/lib/python3.11/site-packages/langchain_openai/chat_models/base.py:1152\u001b[39m, in \u001b[36mBaseChatOpenAI._generate\u001b[39m\u001b[34m(self, messages, stop, run_manager, **kwargs)\u001b[39m\n\u001b[32m   1150\u001b[39m         response = \u001b[38;5;28mself\u001b[39m.root_client.beta.chat.completions.parse(**payload)\n\u001b[32m   1151\u001b[39m     \u001b[38;5;28;01mexcept\u001b[39;00m openai.BadRequestError \u001b[38;5;28;01mas\u001b[39;00m e:\n\u001b[32m-> \u001b[39m\u001b[32m1152\u001b[39m         \u001b[43m_handle_openai_bad_request\u001b[49m\u001b[43m(\u001b[49m\u001b[43me\u001b[49m\u001b[43m)\u001b[49m\n\u001b[32m   1153\u001b[39m \u001b[38;5;28;01melif\u001b[39;00m \u001b[38;5;28mself\u001b[39m._use_responses_api(payload):\n\u001b[32m   1154\u001b[39m     original_schema_obj = kwargs.get(\u001b[33m\"\u001b[39m\u001b[33mresponse_format\u001b[39m\u001b[33m\"\u001b[39m)\n",
      "\u001b[36mFile \u001b[39m\u001b[32m~/Library/CloudStorage/OneDrive-Allianz/GitHub/project-data-analyst-agent/.venv/lib/python3.11/site-packages/langchain_openai/chat_models/base.py:426\u001b[39m, in \u001b[36m_handle_openai_bad_request\u001b[39m\u001b[34m(e)\u001b[39m\n\u001b[32m    418\u001b[39m     message = (\n\u001b[32m    419\u001b[39m         \u001b[33m\"\u001b[39m\u001b[33mInvalid schema for OpenAI\u001b[39m\u001b[33m'\u001b[39m\u001b[33ms structured output feature, which is the \u001b[39m\u001b[33m\"\u001b[39m\n\u001b[32m    420\u001b[39m         \u001b[33m\"\u001b[39m\u001b[33mdefault method for `with_structured_output` as of langchain-openai==0.3. \u001b[39m\u001b[33m\"\u001b[39m\n\u001b[32m   (...)\u001b[39m\u001b[32m    423\u001b[39m         \u001b[33m\"\u001b[39m\u001b[33mhttps://platform.openai.com/docs/guides/structured-outputs#supported-schemas\u001b[39m\u001b[33m\"\u001b[39m  \u001b[38;5;66;03m# noqa: E501\u001b[39;00m\n\u001b[32m    424\u001b[39m     )\n\u001b[32m    425\u001b[39m     warnings.warn(message)\n\u001b[32m--> \u001b[39m\u001b[32m426\u001b[39m     \u001b[38;5;28;01mraise\u001b[39;00m e\n\u001b[32m    427\u001b[39m \u001b[38;5;28;01melse\u001b[39;00m:\n\u001b[32m    428\u001b[39m     \u001b[38;5;28;01mraise\u001b[39;00m\n",
      "\u001b[36mFile \u001b[39m\u001b[32m~/Library/CloudStorage/OneDrive-Allianz/GitHub/project-data-analyst-agent/.venv/lib/python3.11/site-packages/langchain_openai/chat_models/base.py:1150\u001b[39m, in \u001b[36mBaseChatOpenAI._generate\u001b[39m\u001b[34m(self, messages, stop, run_manager, **kwargs)\u001b[39m\n\u001b[32m   1148\u001b[39m payload.pop(\u001b[33m\"\u001b[39m\u001b[33mstream\u001b[39m\u001b[33m\"\u001b[39m)\n\u001b[32m   1149\u001b[39m \u001b[38;5;28;01mtry\u001b[39;00m:\n\u001b[32m-> \u001b[39m\u001b[32m1150\u001b[39m     response = \u001b[38;5;28;43mself\u001b[39;49m\u001b[43m.\u001b[49m\u001b[43mroot_client\u001b[49m\u001b[43m.\u001b[49m\u001b[43mbeta\u001b[49m\u001b[43m.\u001b[49m\u001b[43mchat\u001b[49m\u001b[43m.\u001b[49m\u001b[43mcompletions\u001b[49m\u001b[43m.\u001b[49m\u001b[43mparse\u001b[49m\u001b[43m(\u001b[49m\u001b[43m*\u001b[49m\u001b[43m*\u001b[49m\u001b[43mpayload\u001b[49m\u001b[43m)\u001b[49m\n\u001b[32m   1151\u001b[39m \u001b[38;5;28;01mexcept\u001b[39;00m openai.BadRequestError \u001b[38;5;28;01mas\u001b[39;00m e:\n\u001b[32m   1152\u001b[39m     _handle_openai_bad_request(e)\n",
      "\u001b[36mFile \u001b[39m\u001b[32m~/Library/CloudStorage/OneDrive-Allianz/GitHub/project-data-analyst-agent/.venv/lib/python3.11/site-packages/openai/resources/chat/completions/completions.py:183\u001b[39m, in \u001b[36mCompletions.parse\u001b[39m\u001b[34m(self, messages, model, audio, response_format, frequency_penalty, function_call, functions, logit_bias, logprobs, max_completion_tokens, max_tokens, metadata, modalities, n, parallel_tool_calls, prediction, presence_penalty, prompt_cache_key, reasoning_effort, safety_identifier, seed, service_tier, stop, store, stream_options, temperature, tool_choice, tools, top_logprobs, top_p, user, verbosity, web_search_options, extra_headers, extra_query, extra_body, timeout)\u001b[39m\n\u001b[32m    176\u001b[39m \u001b[38;5;28;01mdef\u001b[39;00m\u001b[38;5;250m \u001b[39m\u001b[34mparser\u001b[39m(raw_completion: ChatCompletion) -> ParsedChatCompletion[ResponseFormatT]:\n\u001b[32m    177\u001b[39m     \u001b[38;5;28;01mreturn\u001b[39;00m _parse_chat_completion(\n\u001b[32m    178\u001b[39m         response_format=response_format,\n\u001b[32m    179\u001b[39m         chat_completion=raw_completion,\n\u001b[32m    180\u001b[39m         input_tools=chat_completion_tools,\n\u001b[32m    181\u001b[39m     )\n\u001b[32m--> \u001b[39m\u001b[32m183\u001b[39m \u001b[38;5;28;01mreturn\u001b[39;00m \u001b[38;5;28;43mself\u001b[39;49m\u001b[43m.\u001b[49m\u001b[43m_post\u001b[49m\u001b[43m(\u001b[49m\n\u001b[32m    184\u001b[39m \u001b[43m    \u001b[49m\u001b[33;43m\"\u001b[39;49m\u001b[33;43m/chat/completions\u001b[39;49m\u001b[33;43m\"\u001b[39;49m\u001b[43m,\u001b[49m\n\u001b[32m    185\u001b[39m \u001b[43m    \u001b[49m\u001b[43mbody\u001b[49m\u001b[43m=\u001b[49m\u001b[43mmaybe_transform\u001b[49m\u001b[43m(\u001b[49m\n\u001b[32m    186\u001b[39m \u001b[43m        \u001b[49m\u001b[43m{\u001b[49m\n\u001b[32m    187\u001b[39m \u001b[43m            \u001b[49m\u001b[33;43m\"\u001b[39;49m\u001b[33;43mmessages\u001b[39;49m\u001b[33;43m\"\u001b[39;49m\u001b[43m:\u001b[49m\u001b[43m \u001b[49m\u001b[43mmessages\u001b[49m\u001b[43m,\u001b[49m\n\u001b[32m    188\u001b[39m \u001b[43m            \u001b[49m\u001b[33;43m\"\u001b[39;49m\u001b[33;43mmodel\u001b[39;49m\u001b[33;43m\"\u001b[39;49m\u001b[43m:\u001b[49m\u001b[43m \u001b[49m\u001b[43mmodel\u001b[49m\u001b[43m,\u001b[49m\n\u001b[32m    189\u001b[39m \u001b[43m            \u001b[49m\u001b[33;43m\"\u001b[39;49m\u001b[33;43maudio\u001b[39;49m\u001b[33;43m\"\u001b[39;49m\u001b[43m:\u001b[49m\u001b[43m \u001b[49m\u001b[43maudio\u001b[49m\u001b[43m,\u001b[49m\n\u001b[32m    190\u001b[39m \u001b[43m            \u001b[49m\u001b[33;43m\"\u001b[39;49m\u001b[33;43mfrequency_penalty\u001b[39;49m\u001b[33;43m\"\u001b[39;49m\u001b[43m:\u001b[49m\u001b[43m \u001b[49m\u001b[43mfrequency_penalty\u001b[49m\u001b[43m,\u001b[49m\n\u001b[32m    191\u001b[39m \u001b[43m            \u001b[49m\u001b[33;43m\"\u001b[39;49m\u001b[33;43mfunction_call\u001b[39;49m\u001b[33;43m\"\u001b[39;49m\u001b[43m:\u001b[49m\u001b[43m \u001b[49m\u001b[43mfunction_call\u001b[49m\u001b[43m,\u001b[49m\n\u001b[32m    192\u001b[39m \u001b[43m            \u001b[49m\u001b[33;43m\"\u001b[39;49m\u001b[33;43mfunctions\u001b[39;49m\u001b[33;43m\"\u001b[39;49m\u001b[43m:\u001b[49m\u001b[43m \u001b[49m\u001b[43mfunctions\u001b[49m\u001b[43m,\u001b[49m\n\u001b[32m    193\u001b[39m \u001b[43m            \u001b[49m\u001b[33;43m\"\u001b[39;49m\u001b[33;43mlogit_bias\u001b[39;49m\u001b[33;43m\"\u001b[39;49m\u001b[43m:\u001b[49m\u001b[43m \u001b[49m\u001b[43mlogit_bias\u001b[49m\u001b[43m,\u001b[49m\n\u001b[32m    194\u001b[39m \u001b[43m            \u001b[49m\u001b[33;43m\"\u001b[39;49m\u001b[33;43mlogprobs\u001b[39;49m\u001b[33;43m\"\u001b[39;49m\u001b[43m:\u001b[49m\u001b[43m \u001b[49m\u001b[43mlogprobs\u001b[49m\u001b[43m,\u001b[49m\n\u001b[32m    195\u001b[39m \u001b[43m            \u001b[49m\u001b[33;43m\"\u001b[39;49m\u001b[33;43mmax_completion_tokens\u001b[39;49m\u001b[33;43m\"\u001b[39;49m\u001b[43m:\u001b[49m\u001b[43m \u001b[49m\u001b[43mmax_completion_tokens\u001b[49m\u001b[43m,\u001b[49m\n\u001b[32m    196\u001b[39m \u001b[43m            \u001b[49m\u001b[33;43m\"\u001b[39;49m\u001b[33;43mmax_tokens\u001b[39;49m\u001b[33;43m\"\u001b[39;49m\u001b[43m:\u001b[49m\u001b[43m \u001b[49m\u001b[43mmax_tokens\u001b[49m\u001b[43m,\u001b[49m\n\u001b[32m    197\u001b[39m \u001b[43m            \u001b[49m\u001b[33;43m\"\u001b[39;49m\u001b[33;43mmetadata\u001b[39;49m\u001b[33;43m\"\u001b[39;49m\u001b[43m:\u001b[49m\u001b[43m \u001b[49m\u001b[43mmetadata\u001b[49m\u001b[43m,\u001b[49m\n\u001b[32m    198\u001b[39m \u001b[43m            \u001b[49m\u001b[33;43m\"\u001b[39;49m\u001b[33;43mmodalities\u001b[39;49m\u001b[33;43m\"\u001b[39;49m\u001b[43m:\u001b[49m\u001b[43m \u001b[49m\u001b[43mmodalities\u001b[49m\u001b[43m,\u001b[49m\n\u001b[32m    199\u001b[39m \u001b[43m            \u001b[49m\u001b[33;43m\"\u001b[39;49m\u001b[33;43mn\u001b[39;49m\u001b[33;43m\"\u001b[39;49m\u001b[43m:\u001b[49m\u001b[43m \u001b[49m\u001b[43mn\u001b[49m\u001b[43m,\u001b[49m\n\u001b[32m    200\u001b[39m \u001b[43m            \u001b[49m\u001b[33;43m\"\u001b[39;49m\u001b[33;43mparallel_tool_calls\u001b[39;49m\u001b[33;43m\"\u001b[39;49m\u001b[43m:\u001b[49m\u001b[43m \u001b[49m\u001b[43mparallel_tool_calls\u001b[49m\u001b[43m,\u001b[49m\n\u001b[32m    201\u001b[39m \u001b[43m            \u001b[49m\u001b[33;43m\"\u001b[39;49m\u001b[33;43mprediction\u001b[39;49m\u001b[33;43m\"\u001b[39;49m\u001b[43m:\u001b[49m\u001b[43m \u001b[49m\u001b[43mprediction\u001b[49m\u001b[43m,\u001b[49m\n\u001b[32m    202\u001b[39m \u001b[43m            \u001b[49m\u001b[33;43m\"\u001b[39;49m\u001b[33;43mpresence_penalty\u001b[39;49m\u001b[33;43m\"\u001b[39;49m\u001b[43m:\u001b[49m\u001b[43m \u001b[49m\u001b[43mpresence_penalty\u001b[49m\u001b[43m,\u001b[49m\n\u001b[32m    203\u001b[39m \u001b[43m            \u001b[49m\u001b[33;43m\"\u001b[39;49m\u001b[33;43mprompt_cache_key\u001b[39;49m\u001b[33;43m\"\u001b[39;49m\u001b[43m:\u001b[49m\u001b[43m \u001b[49m\u001b[43mprompt_cache_key\u001b[49m\u001b[43m,\u001b[49m\n\u001b[32m    204\u001b[39m \u001b[43m            \u001b[49m\u001b[33;43m\"\u001b[39;49m\u001b[33;43mreasoning_effort\u001b[39;49m\u001b[33;43m\"\u001b[39;49m\u001b[43m:\u001b[49m\u001b[43m \u001b[49m\u001b[43mreasoning_effort\u001b[49m\u001b[43m,\u001b[49m\n\u001b[32m    205\u001b[39m \u001b[43m            \u001b[49m\u001b[33;43m\"\u001b[39;49m\u001b[33;43mresponse_format\u001b[39;49m\u001b[33;43m\"\u001b[39;49m\u001b[43m:\u001b[49m\u001b[43m \u001b[49m\u001b[43m_type_to_response_format\u001b[49m\u001b[43m(\u001b[49m\u001b[43mresponse_format\u001b[49m\u001b[43m)\u001b[49m\u001b[43m,\u001b[49m\n\u001b[32m    206\u001b[39m \u001b[43m            \u001b[49m\u001b[33;43m\"\u001b[39;49m\u001b[33;43msafety_identifier\u001b[39;49m\u001b[33;43m\"\u001b[39;49m\u001b[43m:\u001b[49m\u001b[43m \u001b[49m\u001b[43msafety_identifier\u001b[49m\u001b[43m,\u001b[49m\n\u001b[32m    207\u001b[39m \u001b[43m            \u001b[49m\u001b[33;43m\"\u001b[39;49m\u001b[33;43mseed\u001b[39;49m\u001b[33;43m\"\u001b[39;49m\u001b[43m:\u001b[49m\u001b[43m \u001b[49m\u001b[43mseed\u001b[49m\u001b[43m,\u001b[49m\n\u001b[32m    208\u001b[39m \u001b[43m            \u001b[49m\u001b[33;43m\"\u001b[39;49m\u001b[33;43mservice_tier\u001b[39;49m\u001b[33;43m\"\u001b[39;49m\u001b[43m:\u001b[49m\u001b[43m \u001b[49m\u001b[43mservice_tier\u001b[49m\u001b[43m,\u001b[49m\n\u001b[32m    209\u001b[39m \u001b[43m            \u001b[49m\u001b[33;43m\"\u001b[39;49m\u001b[33;43mstop\u001b[39;49m\u001b[33;43m\"\u001b[39;49m\u001b[43m:\u001b[49m\u001b[43m \u001b[49m\u001b[43mstop\u001b[49m\u001b[43m,\u001b[49m\n\u001b[32m    210\u001b[39m \u001b[43m            \u001b[49m\u001b[33;43m\"\u001b[39;49m\u001b[33;43mstore\u001b[39;49m\u001b[33;43m\"\u001b[39;49m\u001b[43m:\u001b[49m\u001b[43m \u001b[49m\u001b[43mstore\u001b[49m\u001b[43m,\u001b[49m\n\u001b[32m    211\u001b[39m \u001b[43m            \u001b[49m\u001b[33;43m\"\u001b[39;49m\u001b[33;43mstream\u001b[39;49m\u001b[33;43m\"\u001b[39;49m\u001b[43m:\u001b[49m\u001b[43m \u001b[49m\u001b[38;5;28;43;01mFalse\u001b[39;49;00m\u001b[43m,\u001b[49m\n\u001b[32m    212\u001b[39m \u001b[43m            \u001b[49m\u001b[33;43m\"\u001b[39;49m\u001b[33;43mstream_options\u001b[39;49m\u001b[33;43m\"\u001b[39;49m\u001b[43m:\u001b[49m\u001b[43m \u001b[49m\u001b[43mstream_options\u001b[49m\u001b[43m,\u001b[49m\n\u001b[32m    213\u001b[39m \u001b[43m            \u001b[49m\u001b[33;43m\"\u001b[39;49m\u001b[33;43mtemperature\u001b[39;49m\u001b[33;43m\"\u001b[39;49m\u001b[43m:\u001b[49m\u001b[43m \u001b[49m\u001b[43mtemperature\u001b[49m\u001b[43m,\u001b[49m\n\u001b[32m    214\u001b[39m \u001b[43m            \u001b[49m\u001b[33;43m\"\u001b[39;49m\u001b[33;43mtool_choice\u001b[39;49m\u001b[33;43m\"\u001b[39;49m\u001b[43m:\u001b[49m\u001b[43m \u001b[49m\u001b[43mtool_choice\u001b[49m\u001b[43m,\u001b[49m\n\u001b[32m    215\u001b[39m \u001b[43m            \u001b[49m\u001b[33;43m\"\u001b[39;49m\u001b[33;43mtools\u001b[39;49m\u001b[33;43m\"\u001b[39;49m\u001b[43m:\u001b[49m\u001b[43m \u001b[49m\u001b[43mtools\u001b[49m\u001b[43m,\u001b[49m\n\u001b[32m    216\u001b[39m \u001b[43m            \u001b[49m\u001b[33;43m\"\u001b[39;49m\u001b[33;43mtop_logprobs\u001b[39;49m\u001b[33;43m\"\u001b[39;49m\u001b[43m:\u001b[49m\u001b[43m \u001b[49m\u001b[43mtop_logprobs\u001b[49m\u001b[43m,\u001b[49m\n\u001b[32m    217\u001b[39m \u001b[43m            \u001b[49m\u001b[33;43m\"\u001b[39;49m\u001b[33;43mtop_p\u001b[39;49m\u001b[33;43m\"\u001b[39;49m\u001b[43m:\u001b[49m\u001b[43m \u001b[49m\u001b[43mtop_p\u001b[49m\u001b[43m,\u001b[49m\n\u001b[32m    218\u001b[39m \u001b[43m            \u001b[49m\u001b[33;43m\"\u001b[39;49m\u001b[33;43muser\u001b[39;49m\u001b[33;43m\"\u001b[39;49m\u001b[43m:\u001b[49m\u001b[43m \u001b[49m\u001b[43muser\u001b[49m\u001b[43m,\u001b[49m\n\u001b[32m    219\u001b[39m \u001b[43m            \u001b[49m\u001b[33;43m\"\u001b[39;49m\u001b[33;43mverbosity\u001b[39;49m\u001b[33;43m\"\u001b[39;49m\u001b[43m:\u001b[49m\u001b[43m \u001b[49m\u001b[43mverbosity\u001b[49m\u001b[43m,\u001b[49m\n\u001b[32m    220\u001b[39m \u001b[43m            \u001b[49m\u001b[33;43m\"\u001b[39;49m\u001b[33;43mweb_search_options\u001b[39;49m\u001b[33;43m\"\u001b[39;49m\u001b[43m:\u001b[49m\u001b[43m \u001b[49m\u001b[43mweb_search_options\u001b[49m\u001b[43m,\u001b[49m\n\u001b[32m    221\u001b[39m \u001b[43m        \u001b[49m\u001b[43m}\u001b[49m\u001b[43m,\u001b[49m\n\u001b[32m    222\u001b[39m \u001b[43m        \u001b[49m\u001b[43mcompletion_create_params\u001b[49m\u001b[43m.\u001b[49m\u001b[43mCompletionCreateParams\u001b[49m\u001b[43m,\u001b[49m\n\u001b[32m    223\u001b[39m \u001b[43m    \u001b[49m\u001b[43m)\u001b[49m\u001b[43m,\u001b[49m\n\u001b[32m    224\u001b[39m \u001b[43m    \u001b[49m\u001b[43moptions\u001b[49m\u001b[43m=\u001b[49m\u001b[43mmake_request_options\u001b[49m\u001b[43m(\u001b[49m\n\u001b[32m    225\u001b[39m \u001b[43m        \u001b[49m\u001b[43mextra_headers\u001b[49m\u001b[43m=\u001b[49m\u001b[43mextra_headers\u001b[49m\u001b[43m,\u001b[49m\n\u001b[32m    226\u001b[39m \u001b[43m        \u001b[49m\u001b[43mextra_query\u001b[49m\u001b[43m=\u001b[49m\u001b[43mextra_query\u001b[49m\u001b[43m,\u001b[49m\n\u001b[32m    227\u001b[39m \u001b[43m        \u001b[49m\u001b[43mextra_body\u001b[49m\u001b[43m=\u001b[49m\u001b[43mextra_body\u001b[49m\u001b[43m,\u001b[49m\n\u001b[32m    228\u001b[39m \u001b[43m        \u001b[49m\u001b[43mtimeout\u001b[49m\u001b[43m=\u001b[49m\u001b[43mtimeout\u001b[49m\u001b[43m,\u001b[49m\n\u001b[32m    229\u001b[39m \u001b[43m        \u001b[49m\u001b[43mpost_parser\u001b[49m\u001b[43m=\u001b[49m\u001b[43mparser\u001b[49m\u001b[43m,\u001b[49m\n\u001b[32m    230\u001b[39m \u001b[43m    \u001b[49m\u001b[43m)\u001b[49m\u001b[43m,\u001b[49m\n\u001b[32m    231\u001b[39m \u001b[43m    \u001b[49m\u001b[38;5;66;43;03m# we turn the `ChatCompletion` instance into a `ParsedChatCompletion`\u001b[39;49;00m\n\u001b[32m    232\u001b[39m \u001b[43m    \u001b[49m\u001b[38;5;66;43;03m# in the `parser` function above\u001b[39;49;00m\n\u001b[32m    233\u001b[39m \u001b[43m    \u001b[49m\u001b[43mcast_to\u001b[49m\u001b[43m=\u001b[49m\u001b[43mcast\u001b[49m\u001b[43m(\u001b[49m\u001b[43mType\u001b[49m\u001b[43m[\u001b[49m\u001b[43mParsedChatCompletion\u001b[49m\u001b[43m[\u001b[49m\u001b[43mResponseFormatT\u001b[49m\u001b[43m]\u001b[49m\u001b[43m]\u001b[49m\u001b[43m,\u001b[49m\u001b[43m \u001b[49m\u001b[43mChatCompletion\u001b[49m\u001b[43m)\u001b[49m\u001b[43m,\u001b[49m\n\u001b[32m    234\u001b[39m \u001b[43m    \u001b[49m\u001b[43mstream\u001b[49m\u001b[43m=\u001b[49m\u001b[38;5;28;43;01mFalse\u001b[39;49;00m\u001b[43m,\u001b[49m\n\u001b[32m    235\u001b[39m \u001b[43m\u001b[49m\u001b[43m)\u001b[49m\n",
      "\u001b[36mFile \u001b[39m\u001b[32m~/Library/CloudStorage/OneDrive-Allianz/GitHub/project-data-analyst-agent/.venv/lib/python3.11/site-packages/openai/_base_client.py:1259\u001b[39m, in \u001b[36mSyncAPIClient.post\u001b[39m\u001b[34m(self, path, cast_to, body, options, files, stream, stream_cls)\u001b[39m\n\u001b[32m   1245\u001b[39m \u001b[38;5;28;01mdef\u001b[39;00m\u001b[38;5;250m \u001b[39m\u001b[34mpost\u001b[39m(\n\u001b[32m   1246\u001b[39m     \u001b[38;5;28mself\u001b[39m,\n\u001b[32m   1247\u001b[39m     path: \u001b[38;5;28mstr\u001b[39m,\n\u001b[32m   (...)\u001b[39m\u001b[32m   1254\u001b[39m     stream_cls: \u001b[38;5;28mtype\u001b[39m[_StreamT] | \u001b[38;5;28;01mNone\u001b[39;00m = \u001b[38;5;28;01mNone\u001b[39;00m,\n\u001b[32m   1255\u001b[39m ) -> ResponseT | _StreamT:\n\u001b[32m   1256\u001b[39m     opts = FinalRequestOptions.construct(\n\u001b[32m   1257\u001b[39m         method=\u001b[33m\"\u001b[39m\u001b[33mpost\u001b[39m\u001b[33m\"\u001b[39m, url=path, json_data=body, files=to_httpx_files(files), **options\n\u001b[32m   1258\u001b[39m     )\n\u001b[32m-> \u001b[39m\u001b[32m1259\u001b[39m     \u001b[38;5;28;01mreturn\u001b[39;00m cast(ResponseT, \u001b[38;5;28;43mself\u001b[39;49m\u001b[43m.\u001b[49m\u001b[43mrequest\u001b[49m\u001b[43m(\u001b[49m\u001b[43mcast_to\u001b[49m\u001b[43m,\u001b[49m\u001b[43m \u001b[49m\u001b[43mopts\u001b[49m\u001b[43m,\u001b[49m\u001b[43m \u001b[49m\u001b[43mstream\u001b[49m\u001b[43m=\u001b[49m\u001b[43mstream\u001b[49m\u001b[43m,\u001b[49m\u001b[43m \u001b[49m\u001b[43mstream_cls\u001b[49m\u001b[43m=\u001b[49m\u001b[43mstream_cls\u001b[49m\u001b[43m)\u001b[49m)\n",
      "\u001b[36mFile \u001b[39m\u001b[32m~/Library/CloudStorage/OneDrive-Allianz/GitHub/project-data-analyst-agent/.venv/lib/python3.11/site-packages/openai/_base_client.py:1047\u001b[39m, in \u001b[36mSyncAPIClient.request\u001b[39m\u001b[34m(self, cast_to, options, stream, stream_cls)\u001b[39m\n\u001b[32m   1044\u001b[39m             err.response.read()\n\u001b[32m   1046\u001b[39m         log.debug(\u001b[33m\"\u001b[39m\u001b[33mRe-raising status error\u001b[39m\u001b[33m\"\u001b[39m)\n\u001b[32m-> \u001b[39m\u001b[32m1047\u001b[39m         \u001b[38;5;28;01mraise\u001b[39;00m \u001b[38;5;28mself\u001b[39m._make_status_error_from_response(err.response) \u001b[38;5;28;01mfrom\u001b[39;00m\u001b[38;5;250m \u001b[39m\u001b[38;5;28;01mNone\u001b[39;00m\n\u001b[32m   1049\u001b[39m     \u001b[38;5;28;01mbreak\u001b[39;00m\n\u001b[32m   1051\u001b[39m \u001b[38;5;28;01massert\u001b[39;00m response \u001b[38;5;129;01mis\u001b[39;00m \u001b[38;5;129;01mnot\u001b[39;00m \u001b[38;5;28;01mNone\u001b[39;00m, \u001b[33m\"\u001b[39m\u001b[33mcould not resolve response (should never happen)\u001b[39m\u001b[33m\"\u001b[39m\n",
      "\u001b[31mBadRequestError\u001b[39m: Error code: 400 - {'error': {'message': \"Invalid schema for response_format 'ParsedBlocks': In context=('properties', 'content'), 'additionalProperties' is required to be supplied and to be false.\", 'type': 'invalid_request_error', 'param': 'response_format', 'code': None}}"
     ]
    }
   ],
   "source": [
    "parsed: ParsedBlocks = llm.with_structured_output(ParsedBlocks).invoke(prompt)"
   ]
  },
  {
   "cell_type": "code",
   "execution_count": 25,
   "id": "ca156d02",
   "metadata": {},
   "outputs": [],
   "source": [
    "text = \"\"\"{\\n  \"Which high court disposed the most cases from 2019 - 2022?\": \"9_13\",\\n  \"What\\'s the regression slope of the date_of_registration - decision_date by year in the court=33_10?\": 5.448544,\\n  \"Plot the year and # of days of delay from the above question as a scatterplot with a regression line. Encode as a base64 data URI under 100,000 characters\": \"data:image/webp;base64,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...\" \\n}\"\"\""
   ]
  },
  {
   "cell_type": "code",
   "execution_count": 26,
   "id": "430c89a1",
   "metadata": {},
   "outputs": [],
   "source": [
    "pattern = re.compile(\n",
    "        r'(:\\s*)'                              # group 1: colon + spaces\n",
    "        r'(-?(?:\\d+(?:\\.\\d+)?(?:[eE][+\\-]?\\d+)?'  # number (int/float/exp)\n",
    "        r'|true|false|null))'                  # or booleans/null\n",
    "        r'(\\s*[,}\\]])'                         # group 3: terminator\n",
    "    )\n",
    "fixed = pattern.sub(r'\\1\"\\2\"\\3', text)"
   ]
  },
  {
   "cell_type": "code",
   "execution_count": 29,
   "id": "740c2031",
   "metadata": {},
   "outputs": [
    {
     "data": {
      "text/plain": [
       "'{\\n  \"Which high court disposed the most cases from 2019 - 2022?\": \"9_13\",\\n  \"What\\'s the regression slope of the date_of_registration - decision_date by year in the court=33_10?\": \"5.448544\",\\n  \"Plot the year and # of days of delay from the above question as a scatterplot with a regression line. Encode as a base64 data URI under 100,000 characters\": \"data:image/webp;base64,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...\" \\n}'"
      ]
     },
     "execution_count": 29,
     "metadata": {},
     "output_type": "execute_result"
    }
   ],
   "source": [
    "fixed"
   ]
  },
  {
   "cell_type": "code",
   "execution_count": 27,
   "id": "bf5ab363",
   "metadata": {},
   "outputs": [],
   "source": [
    "data = json.loads(fixed)"
   ]
  },
  {
   "cell_type": "code",
   "execution_count": 28,
   "id": "a644c475",
   "metadata": {},
   "outputs": [
    {
     "data": {
      "text/plain": [
       "{'Which high court disposed the most cases from 2019 - 2022?': '9_13',\n",
       " \"What's the regression slope of the date_of_registration - decision_date by year in the court=33_10?\": '5.448544',\n",
       " 'Plot the year and # of days of delay from the above question as a scatterplot with a regression line. Encode as a base64 data URI under 100,000 characters': 'data:image/webp;base64,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...'}"
      ]
     },
     "execution_count": 28,
     "metadata": {},
     "output_type": "execute_result"
    }
   ],
   "source": [
    "data"
   ]
  },
  {
   "cell_type": "code",
   "execution_count": 36,
   "id": "ec2b4bd9",
   "metadata": {},
   "outputs": [],
   "source": [
    "text = \"\"\"messages [HumanMessage(content='Scrape the list of highest grossing films from Wikipedia. It is at the URL:\\nhttps://en.wikipedia.org/wiki/List_of_highest-grossing_films\\n\\nAnswer the following questions and respond with a JSON array of strings containing the answer.\\n\\n1. How many $2 bn movies were released before 2000?\\n2. Which is the earliest film that grossed over $1.5 bn?\\n3. What\\'s the correlation between the Rank and Peak?\\n4. Draw a scatterplot of Rank and Peak along with a dotted red regression line through it.\\n   Return as a base-64 encoded data URI, `\"data:image/png;base64,iVBORw0KG...\"` under 100,000 bytes.', additional_kwargs={}, response_metadata={}, id='34dc06b3-a5cc-4a1a-a190-d88dca50a372'), AIMessage(content='', additional_kwargs={'tool_calls': [{'id': 'call_KOkoSxhejxA95A1Kd42j3ph2', 'function': {'arguments': '{\"url\":\"https://en.wikipedia.org/wiki/List_of_highest-grossing_films\"}', 'name': 'search_wikipedia_by_url'}, 'type': 'function'}], 'refusal': None}, response_metadata={'token_usage': {'completion_tokens': 2792, 'prompt_tokens': 969, 'total_tokens': 3761, 'completion_tokens_details': {'accepted_prediction_tokens': 0, 'audio_tokens': 0, 'reasoning_tokens': 2752, 'rejected_prediction_tokens': 0}, 'prompt_tokens_details': {'audio_tokens': 0, 'cached_tokens': 0}}, 'model_name': 'gpt-5-nano-2025-08-07', 'system_fingerprint': None, 'id': 'chatcmpl-C5R15PMXJnK9DedDgxhBhdFd2RE5h', 'service_tier': 'default', 'finish_reason': 'tool_calls', 'logprobs': None}, id='run--951f71bb-94b5-4ddd-8021-cead5a2e3788-0', tool_calls=[{'name': 'search_wikipedia_by_url', 'args': {'url': 'https://en.wikipedia.org/wiki/List_of_highest-grossing_films'}, 'id': 'call_KOkoSxhejxA95A1Kd42j3ph2', 'type': 'tool_call'}], usage_metadata={'input_tokens': 969, 'output_tokens': 2792, 'total_tokens': 3761, 'input_token_details': {'audio': 0, 'cache_read': 0}, 'output_token_details': {'audio': 0, 'reasoning': 2752}}), ToolMessage(content=\"{'Rank:Peak:Title:Worldwide gross:Year:Ref':     Rank  Peak                                          Title Worldwide gross  Year  Ref\\n0      1     1                                         Avatar  $2,923,706,026  2009  NaN\\n1      2     1                              Avengers: Endgame  $2,797,501,328  2019  NaN\\n2      3     3                       Avatar: The Way of Water  $2,320,250,281  2022  NaN\\n3      4     1                                        Titanic  $2,257,844,554  1997  NaN\\n4      5     5                                       Ne Zha 2  $2,212,300,000  2025  NaN\\n5      6     3                   Star Wars: The Force Awakens  $2,068,223,624  2015  NaN\\n6      7     4                         Avengers: Infinity War  $2,048,359,754  2018  NaN\\n7      8     6                        Spider-Man: No Way Home  $1,922,598,800  2021  NaN\\n8      9     8                                   Inside Out 2  $1,698,863,816  2024  NaN\\n9     10     3                                 Jurassic World  $1,671,537,444  2015  NaN\\n10    11     7                                  The Lion King  $1,656,943,394  2019  NaN\\n11    12     3                                   The Avengers  $1,518,815,515  2012  NaN\\n12    13     4                                      Furious 7  $1,515,341,399  2015  NaN\\n13    14    11                              Top Gun: Maverick  $1,495,696,292  2022  NaN\\n14    15    10                                       Frozen 2  $1,450,026,933  2019  NaN\\n15    16    14                                         Barbie  $1,447,038,421  2023  NaN\\n16    17     5                        Avengers: Age of Ultron  $1,402,809,540  2015  NaN\\n17    18    15                    The Super Mario Bros. Movie  $1,360,847,665  2023  NaN\\n18    19     9                                  Black Panther  $1,347,280,838  2018  NaN\\n19    20     3  Harry Potter and the Deathly Hallows – Part 2  $1,342,139,727  2011  NaN\\n20    21    20                           Deadpool & Wolverine  $1,338,073,645  2024  NaN\\n21    22     9                       Star Wars: The Last Jedi  $1,332,539,889  2017  NaN\\n22    23    12                 Jurassic World: Fallen Kingdom  $1,308,473,425  2018  NaN\\n23    24     5                                         Frozen  $1,290,000,000  2013  NaN\\n24    25    10                           Beauty and the Beast  $1,263,521,126  2017  NaN\\n25    26    15                                  Incredibles 2  $1,242,805,359  2018  NaN\\n26    27    11                        The Fate of the Furious  $1,238,764,765  2017  NaN\\n27    28     5                                     Iron Man 3  $1,214,811,252  2013  NaN\\n28    29    10                                        Minions  $1,159,444,662  2015  NaN\\n29    30    12                     Captain America: Civil War  $1,153,337,496  2016  NaN\\n30    31    20                                        Aquaman  $1,148,528,393  2018  NaN\\n31    32     2  The Lord of the Rings: The Return of the King  $1,147,997,407  2003  NaN\\n32    33    24                      Spider-Man: Far From Home  $1,132,679,685  2019  NaN\\n33    34    23                                 Captain Marvel  $1,128,274,794  2019  NaN\\n34    35     5                 Transformers: Dark of the Moon  $1,123,794,079  2011  NaN\\n35    36     7                                        Skyfall  $1,108,594,137  2012  NaN\\n36    37    10                Transformers: Age of Extinction  $1,104,054,072  2014  NaN\\n37    38     7                          The Dark Knight Rises  $1,081,169,825  2012  NaN\\n38    39    31                                          Joker  $1,074,458,282  2019  NaN\\n39    40    32               Star Wars: The Rise of Skywalker  $1,074,144,248  2019  NaN\\n40    41    30                                    Toy Story 4  $1,073,394,593  2019  NaN\\n41    42     4                                    Toy Story 3  $1,066,970,811  2010  NaN\\n42    43     3     Pirates of the Caribbean: Dead Man's Chest  $1,066,179,747  2006  NaN\\n43    44    44                                        Moana 2  $1,059,242,164  2024  NaN\\n44    45    20                   Rogue One: A Star Wars Story  $1,057,420,387  2016  NaN\\n45    46    34                                        Aladdin  $1,050,693,953  2019  NaN\\n46    47     2      Star Wars: Episode I – The Phantom Menace  $1,046,515,409  1999  NaN\\n47    48     6    Pirates of the Caribbean: On Stranger Tides  $1,045,713,802  2011  NaN\\n48    49     1                                  Jurassic Park  $1,037,535,230  1993  NaN\\n49    50    24                                Despicable Me 3  $1,034,800,131  2017  NaN, 'Rank:Title:Worldwide gross (2024 $):Year':    Rank                         Title Worldwide gross (2024 $)  Year\\n0     1            Gone with the Wind           $4,450,000,000  1939\\n1     2                        Avatar           $4,056,000,000  2009\\n2     3                       Titanic           $3,769,000,000  1997\\n3     4                     Star Wars           $3,652,000,000  1977\\n4     5             Avengers: Endgame           $3,357,000,000  2019\\n5     6            The Sound of Music           $3,059,000,000  1965\\n6     7    E.T. the Extra-Terrestrial           $2,990,000,000  1982\\n7     8          The Ten Commandments           $2,827,000,000  1956\\n8     9                Doctor Zhivago           $2,680,000,000  1965\\n9    10  Star Wars: The Force Awakens           $2,642,000,000  2015, 'Year:Title:Worldwide gross:Budget:Ref':      Year                     Title Worldwide gross        Budget  Ref\\n0    1915     The Birth of a Nation     $50,000,000      $110,000  NaN\\n1    1916               Intolerance      $1,750,000      $385,907  NaN\\n2    1917                 Cleopatra        $500,000      $300,000  NaN\\n3    1918                    Mickey      $8,000,000      $250,000  NaN\\n4    1919           The Miracle Man      $3,000,000      $120,000  NaN\\n..    ...                       ...             ...           ...  ...\\n147  2021   Spider-Man: No Way Home  $1,922,598,800  $200,000,000  NaN\\n148  2022  Avatar: The Way of Water  $2,320,250,281  $350,000,000  NaN\\n149  2023                    Barbie  $1,447,038,421  $128,000,000  NaN\\n150  2024              Inside Out 2  $1,698,863,816  $200,000,000  NaN\\n151  2025                  Ne Zha 2  $2,212,300,000   $80,000,000  NaN\\n\\n[152 rows x 5 columns], 'Established:Title:Record-setting gross:Ref':     Established                       Title Record-setting gross  Ref\\n0          1915       The Birth of a Nation           $5,200,000  NaN\\n1          1940       The Birth of a Nation          $15,000,000  NaN\\n2          1940          Gone with the Wind          $32,000,000  NaN\\n3          1963          Gone with the Wind          $67,000,000  NaN\\n4          1966          The Sound of Music         $114,600,000  NaN\\n5          1971          Gone with the Wind         $116,000,000  NaN\\n6          1972               The Godfather         $127,600,000  NaN\\n7          1976                        Jaws         $193,700,000  NaN\\n8          1978                   Star Wars         $410,000,000  NaN\\n9          1982                   Star Wars         $530,000,000  NaN\\n10         1983  E.T. the Extra-Terrestrial         $619,000,000  NaN\\n11         1993  E.T. the Extra-Terrestrial         $701,000,000  NaN\\n12         1993               Jurassic Park         $912,667,947  NaN\\n13         1998                     Titanic       $1,843,373,318  NaN\\n14         2010                      Avatar       $2,743,577,587  NaN\\n15         2010                      Avatar       $2,788,416,135  NaN\\n16         2019           Avengers: Endgame       $2,797,501,328  NaN\\n17         2021                      Avatar       $2,847,397,339  NaN\\n18         2022                      Avatar       $2,923,706,026  NaN, 'Rank:Series:Total worldwide gross:No. of films:Average of films:Highest-grossing film': Empty DataFrame\\nColumns: [Rank, Series, Total worldwide gross, No. of films, Average of films, Highest-grossing film]\\nIndex: [], 'vteBox office:vteBox office.1':        vteBox office                                    vteBox office.1\\n0             Topics  Box office territory Box-office bomb list Fast...\\n1   Highest-grossing  General Highest-grossing films worldwide Box o...\\n2            General  Highest-grossing films worldwide Box office ad...\\n3           Animated  Decades 1980s 1990s 2000s 2010s 2020s Live-act...\\n4           By genre  Action Christmas Documentaries Fantasy Horror ...\\n5          By origin  Bangladeshi Czech Filipino Greek Mexican India...\\n6          By region  Australia Austria China France Germany Hong Ko...\\n7          By person                         Actors Directors Producers\\n8            Records  Avatar Star Wars: The Force Awakens Avengers: ...\\n9             Awards  Box Office Entertainment Awards Crystal Film D...\\n10          Websites  Box Office Mojo The Numbers ShowBIZ Data Box O...\\n11             Other  Box office futures Box Office Poison Boxoffice...\\n12           Related  Blockbuster 100 Crore Club 1000 Crore Club Bes...\\n13          Category                                           Category, 'vteMedia franchises:vteMedia franchises.1':   vteMedia franchises                              vteMedia franchises.1\\n0        Media series  Animated series anime series Book series Partw...\\n1         Media lists  Multimedia franchises print television series ...\\n2    Highest-grossing                       Media franchises Film series\\n3        Best-selling  Comic book series manga series Video game fran...\\n4            Category                                           Category}\", name='search_wikipedia_by_url', id='484bc59b-1996-4855-886d-a88cd725d1ca', tool_call_id='call_KOkoSxhejxA95A1Kd42j3ph2'), AIMessage(content='', additional_kwargs={'tool_calls': [{'id': 'call_RNemxyojZ54yqgkFmuiZY36k', 'function': {'arguments': '{\"data\": [{\"Rank\": 1, \"Peak\": 1}, {\"Rank\": 2, \"Peak\": 1}, {\"Rank\": 3, \"Peak\": 3}, {\"Rank\": 4, \"Peak\": 1}, {\"Rank\": 5, \"Peak\": 5}, {\"Rank\": 6, \"Peak\": 3}, {\"Rank\": 7, \"Peak\": 4}, {\"Rank\": 8, \"Peak\": 6}, {\"Rank\": 9, \"Peak\": 8}, {\"Rank\": 10, \"Peak\": 3}, {\"Rank\": 11, \"Peak\": 7}, {\"Rank\": 12, \"Peak\": 3}, {\"Rank\": 13, \"Peak\": 4}, {\"Rank\": 14, \"Peak\": 11}, {\"Rank\": 15, \"Peak\": 10}, {\"Rank\": 16, \"Peak\": 14}, {\"Rank\": 17, \"Peak\": 5}, {\"Rank\": 18, \"Peak\": 15}, {\"Rank\": 19, \"Peak\": 9}, {\"Rank\": 20, \"Peak\": 3}, {\"Rank\": 21, \"Peak\": 20}, {\"Rank\": 22, \"Peak\": 9}, {\"Rank\": 23, \"Peak\": 12}, {\"Rank\": 24, \"Peak\": 5}, {\"Rank\": 25, \"Peak\": 10}, {\"Rank\": 26, \"Peak\": 15}, {\"Rank\": 27, \"Peak\": 11}, {\"Rank\": 28, \"Peak\": 5}, {\"Rank\": 29, \"Peak\": 10}, {\"Rank\": 30, \"Peak\": 12}, {\"Rank\": 31, \"Peak\": 20}, {\"Rank\": 32, \"Peak\": 2}, {\"Rank\": 33, \"Peak\": 24}, {\"Rank\": 34, \"Peak\": 23}, {\"Rank\": 35, \"Peak\": 5}, {\"Rank\": 36, \"Peak\": 7}, {\"Rank\": 37, \"Peak\": 10}, {\"Rank\": 38, \"Peak\": 7}, {\"Rank\": 39, \"Peak\": 31}, {\"Rank\": 40, \"Peak\": 32}, {\"Rank\": 41, \"Peak\": 30}, {\"Rank\": 42, \"Peak\": 4}, {\"Rank\": 43, \"Peak\": 3}, {\"Rank\": 44, \"Peak\": 44}, {\"Rank\": 45, \"Peak\": 20}, {\"Rank\": 46, \"Peak\": 34}, {\"Rank\": 47, \"Peak\": 2}, {\"Rank\": 48, \"Peak\": 6}, {\"Rank\": 49, \"Peak\": 1}, {\"Rank\": 50, \"Peak\": 24}], \"xlabel\": \"Rank\", \"ylabel\": \"Peak\", \"title\": \"Rank vs Peak\", \"fmt\": \"png\"}', 'name': 'scatter_plot'}, 'type': 'function'}, {'id': 'call_QeBl3yz2PyMIXodxMtmrZnms', 'function': {'arguments': '{\"data\": [{\"Rank\": 1, \"Peak\": 1}, {\"Rank\": 2, \"Peak\": 1}, {\"Rank\": 3, \"Peak\": 3}, {\"Rank\": 4, \"Peak\": 1}, {\"Rank\": 5, \"Peak\": 5}, {\"Rank\": 6, \"Peak\": 3}, {\"Rank\": 7, \"Peak\": 4}, {\"Rank\": 8, \"Peak\": 6}, {\"Rank\": 9, \"Peak\": 8}, {\"Rank\": 10, \"Peak\": 3}, {\"Rank\": 11, \"Peak\": 7}, {\"Rank\": 12, \"Peak\": 3}, {\"Rank\": 13, \"Peak\": 4}, {\"Rank\": 14, \"Peak\": 11}, {\"Rank\": 15, \"Peak\": 10}, {\"Rank\": 16, \"Peak\": 14}, {\"Rank\": 17, \"Peak\": 5}, {\"Rank\": 18, \"Peak\": 15}, {\"Rank\": 19, \"Peak\": 9}, {\"Rank\": 20, \"Peak\": 3}, {\"Rank\": 21, \"Peak\": 20}, {\"Rank\": 22, \"Peak\": 9}, {\"Rank\": 23, \"Peak\": 12}, {\"Rank\": 24, \"Peak\": 5}, {\"Rank\": 25, \"Peak\": 10}, {\"Rank\": 26, \"Peak\": 15}, {\"Rank\": 27, \"Peak\": 11}, {\"Rank\": 28, \"Peak\": 5}, {\"Rank\": 29, \"Peak\": 10}, {\"Rank\": 30, \"Peak\": 12}, {\"Rank\": 31, \"Peak\": 20}, {\"Rank\": 32, \"Peak\": 2}, {\"Rank\": 33, \"Peak\": 24}, {\"Rank\": 34, \"Peak\": 23}, {\"Rank\": 35, \"Peak\": 5}, {\"Rank\": 36, \"Peak\": 7}, {\"Rank\": 37, \"Peak\": 10}, {\"Rank\": 38, \"Peak\": 7}, {\"Rank\": 39, \"Peak\": 31}, {\"Rank\": 40, \"Peak\": 32}, {\"Rank\": 41, \"Peak\": 30}, {\"Rank\": 42, \"Peak\": 4}, {\"Rank\": 43, \"Peak\": 3}, {\"Rank\": 44, \"Peak\": 44}, {\"Rank\": 45, \"Peak\": 20}, {\"Rank\": 46, \"Peak\": 34}, {\"Rank\": 47, \"Peak\": 2}, {\"Rank\": 48, \"Peak\": 6}, {\"Rank\": 49, \"Peak\": 1}, {\"Rank\": 50, \"Peak\": 24}], \"xlabel\": \"Rank\", \"ylabel\": \"Peak\", \"title\": \"Rank vs Peak (regression)\", \"fmt\": \"png\"}', 'name': 'scatter_plot_regression'}, 'type': 'function'}], 'refusal': None}, response_metadata={'token_usage': {'completion_tokens': 9343, 'prompt_tokens': 3880, 'total_tokens': 13223, 'completion_tokens_details': {'accepted_prediction_tokens': 0, 'audio_tokens': 0, 'reasoning_tokens': 8448, 'rejected_prediction_tokens': 0}, 'prompt_tokens_details': {'audio_tokens': 0, 'cached_tokens': 0}}, 'model_name': 'gpt-5-nano-2025-08-07', 'system_fingerprint': None, 'id': 'chatcmpl-C5R1K6xB6EqZfXvR3FXZ67nMpb71O', 'service_tier': 'default', 'finish_reason': 'tool_calls', 'logprobs': None}, id='run--58d143c3-1fbc-460b-8564-c07eeb3163e7-0', tool_calls=[{'name': 'scatter_plot', 'args': {'data': [{'Rank': 1, 'Peak': 1}, {'Rank': 2, 'Peak': 1}, {'Rank': 3, 'Peak': 3}, {'Rank': 4, 'Peak': 1}, {'Rank': 5, 'Peak': 5}, {'Rank': 6, 'Peak': 3}, {'Rank': 7, 'Peak': 4}, {'Rank': 8, 'Peak': 6}, {'Rank': 9, 'Peak': 8}, {'Rank': 10, 'Peak': 3}, {'Rank': 11, 'Peak': 7}, {'Rank': 12, 'Peak': 3}, {'Rank': 13, 'Peak': 4}, {'Rank': 14, 'Peak': 11}, {'Rank': 15, 'Peak': 10}, {'Rank': 16, 'Peak': 14}, {'Rank': 17, 'Peak': 5}, {'Rank': 18, 'Peak': 15}, {'Rank': 19, 'Peak': 9}, {'Rank': 20, 'Peak': 3}, {'Rank': 21, 'Peak': 20}, {'Rank': 22, 'Peak': 9}, {'Rank': 23, 'Peak': 12}, {'Rank': 24, 'Peak': 5}, {'Rank': 25, 'Peak': 10}, {'Rank': 26, 'Peak': 15}, {'Rank': 27, 'Peak': 11}, {'Rank': 28, 'Peak': 5}, {'Rank': 29, 'Peak': 10}, {'Rank': 30, 'Peak': 12}, {'Rank': 31, 'Peak': 20}, {'Rank': 32, 'Peak': 2}, {'Rank': 33, 'Peak': 24}, {'Rank': 34, 'Peak': 23}, {'Rank': 35, 'Peak': 5}, {'Rank': 36, 'Peak': 7}, {'Rank': 37, 'Peak': 10}, {'Rank': 38, 'Peak': 7}, {'Rank': 39, 'Peak': 31}, {'Rank': 40, 'Peak': 32}, {'Rank': 41, 'Peak': 30}, {'Rank': 42, 'Peak': 4}, {'Rank': 43, 'Peak': 3}, {'Rank': 44, 'Peak': 44}, {'Rank': 45, 'Peak': 20}, {'Rank': 46, 'Peak': 34}, {'Rank': 47, 'Peak': 2}, {'Rank': 48, 'Peak': 6}, {'Rank': 49, 'Peak': 1}, {'Rank': 50, 'Peak': 24}], 'xlabel': 'Rank', 'ylabel': 'Peak', 'title': 'Rank vs Peak', 'fmt': 'png'}, 'id': 'call_RNemxyojZ54yqgkFmuiZY36k', 'type': 'tool_call'}, {'name': 'scatter_plot_regression', 'args': {'data': [{'Rank': 1, 'Peak': 1}, {'Rank': 2, 'Peak': 1}, {'Rank': 3, 'Peak': 3}, {'Rank': 4, 'Peak': 1}, {'Rank': 5, 'Peak': 5}, {'Rank': 6, 'Peak': 3}, {'Rank': 7, 'Peak': 4}, {'Rank': 8, 'Peak': 6}, {'Rank': 9, 'Peak': 8}, {'Rank': 10, 'Peak': 3}, {'Rank': 11, 'Peak': 7}, {'Rank': 12, 'Peak': 3}, {'Rank': 13, 'Peak': 4}, {'Rank': 14, 'Peak': 11}, {'Rank': 15, 'Peak': 10}, {'Rank': 16, 'Peak': 14}, {'Rank': 17, 'Peak': 5}, {'Rank': 18, 'Peak': 15}, {'Rank': 19, 'Peak': 9}, {'Rank': 20, 'Peak': 3}, {'Rank': 21, 'Peak': 20}, {'Rank': 22, 'Peak': 9}, {'Rank': 23, 'Peak': 12}, {'Rank': 24, 'Peak': 5}, {'Rank': 25, 'Peak': 10}, {'Rank': 26, 'Peak': 15}, {'Rank': 27, 'Peak': 11}, {'Rank': 28, 'Peak': 5}, {'Rank': 29, 'Peak': 10}, {'Rank': 30, 'Peak': 12}, {'Rank': 31, 'Peak': 20}, {'Rank': 32, 'Peak': 2}, {'Rank': 33, 'Peak': 24}, {'Rank': 34, 'Peak': 23}, {'Rank': 35, 'Peak': 5}, {'Rank': 36, 'Peak': 7}, {'Rank': 37, 'Peak': 10}, {'Rank': 38, 'Peak': 7}, {'Rank': 39, 'Peak': 31}, {'Rank': 40, 'Peak': 32}, {'Rank': 41, 'Peak': 30}, {'Rank': 42, 'Peak': 4}, {'Rank': 43, 'Peak': 3}, {'Rank': 44, 'Peak': 44}, {'Rank': 45, 'Peak': 20}, {'Rank': 46, 'Peak': 34}, {'Rank': 47, 'Peak': 2}, {'Rank': 48, 'Peak': 6}, {'Rank': 49, 'Peak': 1}, {'Rank': 50, 'Peak': 24}], 'xlabel': 'Rank', 'ylabel': 'Peak', 'title': 'Rank vs Peak (regression)', 'fmt': 'png'}, 'id': 'call_QeBl3yz2PyMIXodxMtmrZnms', 'type': 'tool_call'}], usage_metadata={'input_tokens': 3880, 'output_tokens': 9343, 'total_tokens': 13223, 'input_token_details': {'audio': 0, 'cache_read': 0}, 'output_token_details': {'audio': 0, 'reasoning': 8448}}), ToolMessage(content='Argument must be an image or collection in this Axes', name='scatter_plot', id='1dc2b68a-9e88-4b12-8e90-8b0b02904e18', tool_call_id='call_RNemxyojZ54yqgkFmuiZY36k'), ToolMessage(content='data:image/png;base64,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', name='scatter_plot_regression', id='fe7a5ea6-0bd0-48ad-8c62-130356d50ef7', tool_call_id='call_QeBl3yz2PyMIXodxMtmrZnms'), AIMessage(content='[\\n  \"1\",\\n  \"Titanic (1997)\",\\n  \"0.49\",\\n  \"data:image/png;base64,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\"\\n]', additional_kwargs={'refusal': None}, response_metadata={'token_usage': {'completion_tokens': 22645, 'prompt_tokens': 12969, 'total_tokens': 35614, 'completion_tokens_details': {'accepted_prediction_tokens': 0, 'audio_tokens': 0, 'reasoning_tokens': 19328, 'rejected_prediction_tokens': 0}, 'prompt_tokens_details': {'audio_tokens': 0, 'cached_tokens': 0}}, 'model_name': 'gpt-5-nano-2025-08-07', 'system_fingerprint': None, 'id': 'chatcmpl-C5R1zXeSWZd0w7RbWMcAvwZYVZqT2', 'service_tier': 'default', 'finish_reason': 'stop', 'logprobs': None}, id='run--6e8833c6-839c-4cbe-972d-7e0d52732679-0', usage_metadata={'input_tokens': 12969, 'output_tokens': 22645, 'total_tokens': 35614, 'input_token_details': {'audio': 0, 'cache_read': 0}, 'output_token_details': {'audio': 0, 'reasoning': 19328}})]\"\"\""
   ]
  },
  {
   "cell_type": "code",
   "execution_count": 39,
   "id": "a0c1eb31",
   "metadata": {},
   "outputs": [],
   "source": [
    "re.search(r\"content='({.*?})'\", str(text), re.DOTALL)"
   ]
  },
  {
   "cell_type": "code",
   "execution_count": 34,
   "id": "1f6a13b9",
   "metadata": {},
   "outputs": [
    {
     "data": {
      "text/plain": [
       "'{\\n  \"Which high court disposed the most cases from 2019 - 2022?\": \"9_13\",\\n  \"What\\'s the regression slope of the date_of_registration - decision_date by year in the court=33_10?\": \"-5.448544\",\\n  \"Plot the year and # of days of delay from the above question as a scatterplot with a regression line. Encode as a base64 data URI under 100,000 characters\": \"data:image/webp;base64,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\"\\n}'"
      ]
     },
     "execution_count": 34,
     "metadata": {},
     "output_type": "execute_result"
    }
   ],
   "source": [
    "text.strip()"
   ]
  },
  {
   "cell_type": "code",
   "execution_count": 33,
   "id": "b023266d",
   "metadata": {},
   "outputs": [
    {
     "data": {
      "text/plain": [
       "{'Which high court disposed the most cases from 2019 - 2022?': '9_13',\n",
       " \"What's the regression slope of the date_of_registration - decision_date by year in the court=33_10?\": '-5.448544',\n",
       " 'Plot the year and # of days of delay from the above question as a scatterplot with a regression line. Encode as a base64 data URI under 100,000 characters': 'data:image/webp;base64,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'}"
      ]
     },
     "execution_count": 33,
     "metadata": {},
     "output_type": "execute_result"
    }
   ],
   "source": [
    "json.loads(text)"
   ]
  },
  {
   "cell_type": "code",
   "execution_count": null,
   "id": "d2e775ac",
   "metadata": {},
   "outputs": [],
   "source": []
  },
  {
   "cell_type": "code",
   "execution_count": 35,
   "id": "8d8743e0",
   "metadata": {},
   "outputs": [
    {
     "name": "stdout",
     "output_type": "stream",
     "text": [
      "True\n",
      "True\n",
      "True\n"
     ]
    }
   ],
   "source": [
    "from PIL import features\n",
    "\n",
    "print(features.check(\"webp\"))       # True if WebP read/write support available\n",
    "print(features.check(\"webp_anim\"))  # True if WebP animation is supported\n",
    "print(features.check(\"webp_mux\"))   # True if WebP mux support is available"
   ]
  },
  {
   "cell_type": "code",
   "execution_count": 103,
   "id": "c5940fb2",
   "metadata": {},
   "outputs": [],
   "source": [
    "import io\n",
    "import base64\n",
    "import matplotlib\n",
    "matplotlib.use(\"Agg\")\n",
    "import matplotlib.pyplot as plt\n",
    "import numpy as np\n",
    "import pandas as pd\n",
    "import re\n",
    "from typing import Optional, Dict, Any, Union, List, Literal, Tuple\n",
    "import networkx as nx\n",
    "\n",
    "class ChartRenderer:\n",
    "    \"\"\"\n",
    "    Render scatter, bar, or line charts from:\n",
    "      - pandas.DataFrame\n",
    "      - {'columns': [...], 'rows': [...]}\n",
    "      - list[dict] (records)\n",
    "    Returns a base64-encoded image, either raw string or data URI.\n",
    "    \"\"\"\n",
    "\n",
    "    def __init__(\n",
    "        self,\n",
    "        *,\n",
    "        fmt: str = \"webp\",\n",
    "        figsize: tuple[float, float] = (5, 3.5),\n",
    "        dpi: int = 90,\n",
    "        default_title: Optional[str] = None,\n",
    "        grid: bool = True,\n",
    "    ):\n",
    "        self.fmt = fmt\n",
    "        self.figsize = figsize\n",
    "        self.dpi = dpi\n",
    "        self.default_title = default_title\n",
    "        self.grid = grid\n",
    "\n",
    "    # --- helpers -------------------------------------------------------------\n",
    "    def _ensure_dataframe(\n",
    "        self,\n",
    "        data: Union[pd.DataFrame, Dict[str, Any], List[Dict[str, Any]]]\n",
    "    ) -> pd.DataFrame:\n",
    "        \"\"\"Normalize input into DataFrame.\"\"\"\n",
    "        if isinstance(data, pd.DataFrame):\n",
    "            return data\n",
    "\n",
    "        if isinstance(data, list):\n",
    "            if not data:\n",
    "                return pd.DataFrame()\n",
    "            if all(isinstance(row, dict) for row in data):\n",
    "                return pd.DataFrame(data)\n",
    "            raise ValueError(\"List input must be list[dict].\")\n",
    "\n",
    "        if isinstance(data, dict) and \"rows\" in data:\n",
    "            rows = data.get(\"rows\", [])\n",
    "            cols = data.get(\"columns\")\n",
    "            df = pd.DataFrame(rows)\n",
    "            if cols:\n",
    "                existing = [c for c in cols if c in df.columns]\n",
    "                df = df.reindex(columns=existing + [c for c in df.columns if c not in existing])\n",
    "            return df\n",
    "\n",
    "        raise ValueError(\"Unsupported data type.\")\n",
    "\n",
    "    _PARENS_RE = re.compile(r\"^\\((.*)\\)$\")\n",
    "\n",
    "    def _clean_numeric_column(self, s: pd.Series) -> pd.Series:\n",
    "        \"\"\"Convert strings like '$2,923' or '(123)' to numeric.\"\"\"\n",
    "        if pd.api.types.is_numeric_dtype(s):\n",
    "            return s\n",
    "        s2 = s.astype(str).str.strip()\n",
    "        s2 = s2.str.replace(self._PARENS_RE, r\"-\\1\", regex=True)     # (123) -> -123\n",
    "        s2 = s2.str.replace(r\"[^0-9eE\\+\\-\\.]\", \"\", regex=True)       # drop non-numeric\n",
    "        return pd.to_numeric(s2, errors=\"coerce\")\n",
    "\n",
    "    def _encode_plot(self, fig) -> str:\n",
    "        \"\"\"Encode Matplotlib fig to base64 string.\"\"\"\n",
    "        buf = io.BytesIO()\n",
    "        fig.savefig(buf, format=self.fmt)\n",
    "        plt.close(fig)\n",
    "        buf.seek(0)\n",
    "        data_uri = base64.b64encode(buf.getvalue()).decode(\"ascii\")\n",
    "        buf.close()\n",
    "        return data_uri\n",
    "\n",
    "    # --- main API ------------------------------------------------------------\n",
    "    def encode(\n",
    "        self,\n",
    "        data: Union[pd.DataFrame, Dict[str, Any], List[Dict[str, Any]]],\n",
    "        x: str,\n",
    "        y: str,\n",
    "        *,\n",
    "        kind: Literal[\"scatter\", \"bar\", \"line\"] = \"scatter\",\n",
    "        title: Optional[str] = None,\n",
    "        return_data_uri: bool = False,\n",
    "        point_size: int = 30,\n",
    "        alpha: float = 0.7,\n",
    "        color: str = \"C0\",\n",
    "        line_color: str = \"black\",\n",
    "        bar_color: str = \"C1\",\n",
    "        regression: bool = False,\n",
    "        show_r2: bool = False,\n",
    "    ) -> str:\n",
    "        \"\"\"\n",
    "        Create a chart and return base64 string.\n",
    "\n",
    "        kind: 'scatter' | 'bar' | 'line'\n",
    "        \"\"\"\n",
    "\n",
    "        # 0) Normalize\n",
    "        df = self._ensure_dataframe(data)\n",
    "\n",
    "        # 1) Column checks\n",
    "        missing = [c for c in (x, y) if c not in df.columns]\n",
    "        if missing:\n",
    "            raise ValueError(f\"Column(s) not found: {', '.join(missing)}\")\n",
    "\n",
    "        # 2) Clean + align\n",
    "        # 2) Clean + align\n",
    "        if kind == \"bar\":\n",
    "            # allow categorical x\n",
    "            X = df[x].astype(str)\n",
    "            Y = self._clean_numeric_column(df[y])\n",
    "            idx = Y.notna()\n",
    "            X, Y = X[idx], Y[idx]\n",
    "            if Y.empty:\n",
    "                raise ValueError(\"No valid numeric Y data to plot.\")\n",
    "        else:\n",
    "            # scatter / line → both numeric\n",
    "            X = self._clean_numeric_column(df[x])\n",
    "            Y = self._clean_numeric_column(df[y])\n",
    "            idx = X.notna() & Y.notna()\n",
    "            X, Y = X[idx], Y[idx]\n",
    "            if X.empty:\n",
    "                raise ValueError(\"No valid numeric data to plot.\")\n",
    "\n",
    "        # 3) Plot\n",
    "        fig, ax = plt.subplots(figsize=self.figsize, dpi=self.dpi)\n",
    "\n",
    "        if kind == \"scatter\":\n",
    "            ax.scatter(X, Y, s=point_size, alpha=alpha, color=color)\n",
    "            if regression and len(X) >= 2:\n",
    "                a, b = np.polyfit(X, Y, 1)\n",
    "                xs = np.linspace(float(X.min()), float(X.max()), 200)\n",
    "                ys = a * xs + b\n",
    "                ax.plot(xs, ys, linestyle=\":\", color=line_color, linewidth=1.2)\n",
    "                if show_r2:\n",
    "                    y_pred = a * X + b\n",
    "                    ss_res = np.sum((Y - y_pred) ** 2)\n",
    "                    ss_tot = np.sum((Y - Y.mean()) ** 2)\n",
    "                    r2 = 1 - ss_res / ss_tot\n",
    "                    ax.text(0.05, 0.95, f\"R² = {r2:.2f}\", transform=ax.transAxes,\n",
    "                            ha=\"left\", va=\"top\", fontsize=9,\n",
    "                            bbox=dict(facecolor=\"white\", alpha=0.6, edgecolor=\"none\"))\n",
    "\n",
    "        elif kind == \"bar\":\n",
    "            ax.bar(X, Y, color=bar_color, alpha=alpha)\n",
    "\n",
    "        elif kind == \"line\":\n",
    "            ax.plot(X, Y, marker=\"o\", linestyle=\"-\", color=color, alpha=alpha)\n",
    "\n",
    "        else:\n",
    "            raise ValueError(f\"Unsupported chart kind: {kind}\")\n",
    "\n",
    "        ax.set_xlabel(x)\n",
    "        ax.set_ylabel(y)\n",
    "        ax.set_title(title if title else self.default_title or f\"{x} vs {y}\")\n",
    "        if self.grid:\n",
    "            ax.grid(True, linestyle=\"--\", alpha=0.6)\n",
    "\n",
    "        plt.tight_layout()\n",
    "\n",
    "        # 4) Encode\n",
    "        img_str = self._encode_plot(fig)\n",
    "        return f\"data:image/{self.fmt};base64,{img_str}\" if return_data_uri else img_str\n",
    "    \n",
    "\n",
    "class GraphRenderer:\n",
    "    \"\"\"\n",
    "    Render a network (graph) with labeled nodes and edges.\n",
    "    Accepts either:\n",
    "      - list of edges (tuples), e.g. [(\"A\", \"B\"), (\"B\", \"C\")]\n",
    "      - pandas.DataFrame with two columns: source and target\n",
    "    Returns a base64-encoded image, either raw string or data URI.\n",
    "    \"\"\"\n",
    "\n",
    "    def __init__(\n",
    "        self,\n",
    "        *,\n",
    "        fmt: str = \"png\",\n",
    "        figsize: Tuple[float, float] = (3, 3),\n",
    "        dpi: int = 100,\n",
    "        default_title: Optional[str] = \"Network Graph\",\n",
    "        layout: Literal[\"spring\", \"circular\", \"kamada_kawai\", \"shell\"] = \"spring\",\n",
    "        node_color: str = \"lightblue\",\n",
    "        edge_color: str = \"gray\",\n",
    "        node_size: int = 1200,\n",
    "        font_size: int = 12,\n",
    "        directed: bool = False,\n",
    "    ):\n",
    "        self.fmt = fmt\n",
    "        self.figsize = figsize\n",
    "        self.dpi = dpi\n",
    "        self.default_title = default_title\n",
    "        self.layout = layout\n",
    "        self.node_color = node_color\n",
    "        self.edge_color = edge_color\n",
    "        self.node_size = node_size\n",
    "        self.font_size = font_size\n",
    "        self.directed = directed\n",
    "\n",
    "    # --- helpers -------------------------------------------------------------\n",
    "    def _encode_plot(self, fig) -> str:\n",
    "        buf = io.BytesIO()\n",
    "        fig.savefig(buf, format=self.fmt)\n",
    "        plt.close(fig)\n",
    "        buf.seek(0)\n",
    "        img_str = base64.b64encode(buf.getvalue()).decode(\"utf-8\")\n",
    "        buf.close()\n",
    "        return img_str\n",
    "\n",
    "    def _get_layout(self, G):\n",
    "        if self.layout == \"spring\":\n",
    "            return nx.spring_layout(G, seed=42)\n",
    "        elif self.layout == \"circular\":\n",
    "            return nx.circular_layout(G)\n",
    "        elif self.layout == \"kamada_kawai\":\n",
    "            return nx.kamada_kawai_layout(G)\n",
    "        elif self.layout == \"shell\":\n",
    "            return nx.shell_layout(G)\n",
    "        else:\n",
    "            return nx.spring_layout(G, seed=42)\n",
    "\n",
    "    # --- main API ------------------------------------------------------------\n",
    "    def encode(\n",
    "        self,\n",
    "        edges: Union[List[Tuple[str, str]], pd.DataFrame],\n",
    "        *,\n",
    "        title: Optional[str] = None,\n",
    "        return_data_uri: bool = False,\n",
    "        source_col: str = \"source\",\n",
    "        target_col: str = \"target\",\n",
    "    ) -> str:\n",
    "        \"\"\"\n",
    "        Draw the network with nodes labeled and edges shown.\n",
    "        Accepts list of tuples or DataFrame (with source and target columns).\n",
    "        Return as base64 string or data URI.\n",
    "        \"\"\"\n",
    "\n",
    "        # 1) Normalize edges\n",
    "        if isinstance(edges, pd.DataFrame):\n",
    "            if not {source_col, target_col}.issubset(edges.columns):\n",
    "                raise ValueError(f\"DataFrame must have '{source_col}' and '{target_col}' columns.\")\n",
    "            edges = edges.astype(str)\n",
    "            edge_list = list(edges[[source_col, target_col]].itertuples(index=False, name=None))\n",
    "        else:\n",
    "            edge_list = edges\n",
    "\n",
    "        # 2) Build graph\n",
    "        G = nx.DiGraph() if self.directed else nx.Graph()\n",
    "        G.add_edges_from(edge_list)\n",
    "\n",
    "        # 3) Layout\n",
    "        pos = self._get_layout(G)\n",
    "\n",
    "        # 4) Draw\n",
    "        fig, ax = plt.subplots(figsize=self.figsize, dpi=self.dpi)\n",
    "        nx.draw(\n",
    "            G, pos, with_labels=True,\n",
    "            node_color=self.node_color,\n",
    "            edge_color=self.edge_color,\n",
    "            node_size=self.node_size,\n",
    "            font_size=self.font_size,\n",
    "            ax=ax\n",
    "        )\n",
    "\n",
    "        ax.set_title(title or self.default_title)\n",
    "        plt.tight_layout()\n",
    "\n",
    "        # 5) Encode\n",
    "        img_str = self._encode_plot(fig)\n",
    "        return f\"data:image/{self.fmt};base64,{img_str}\" if return_data_uri else img_str"
   ]
  },
  {
   "cell_type": "code",
   "execution_count": null,
   "id": "33b52933",
   "metadata": {},
   "outputs": [],
   "source": [
    "net=[{'source': 'Alice', 'target': 'Bob'}, {'source': 'Alice', 'target': 'Carol'}, {'source': 'Bob', 'target': 'Carol'}, {'source': 'Bob', 'target': 'David'}, {'source': 'Bob', 'target': 'Eve'}, {'source': 'Carol', 'target': 'David'}, {'source': 'David', 'target': 'Eve'}]"
   ]
  },
  {
   "cell_type": "code",
   "execution_count": 15,
   "id": "8e2aa328",
   "metadata": {},
   "outputs": [],
   "source": [
    "converted = [{edge['source']: edge['target']} for edge in net]"
   ]
  },
  {
   "cell_type": "code",
   "execution_count": 16,
   "id": "2f207d27",
   "metadata": {},
   "outputs": [
    {
     "data": {
      "text/plain": [
       "[{'Alice': 'Bob'},\n",
       " {'Alice': 'Carol'},\n",
       " {'Bob': 'Carol'},\n",
       " {'Bob': 'David'},\n",
       " {'Bob': 'Eve'},\n",
       " {'Carol': 'David'},\n",
       " {'David': 'Eve'}]"
      ]
     },
     "execution_count": 16,
     "metadata": {},
     "output_type": "execute_result"
    }
   ],
   "source": [
    "converted"
   ]
  },
  {
   "cell_type": "code",
   "execution_count": 18,
   "id": "fae15b15",
   "metadata": {},
   "outputs": [],
   "source": [
    "edge_tuples = [(e['source'], e['target']) for e in net]"
   ]
  },
  {
   "cell_type": "code",
   "execution_count": 19,
   "id": "4ba2364e",
   "metadata": {},
   "outputs": [
    {
     "data": {
      "text/plain": [
       "[('Alice', 'Bob'),\n",
       " ('Alice', 'Carol'),\n",
       " ('Bob', 'Carol'),\n",
       " ('Bob', 'David'),\n",
       " ('Bob', 'Eve'),\n",
       " ('Carol', 'David'),\n",
       " ('David', 'Eve')]"
      ]
     },
     "execution_count": 19,
     "metadata": {},
     "output_type": "execute_result"
    }
   ],
   "source": [
    "edge_tuples"
   ]
  },
  {
   "cell_type": "code",
   "execution_count": 69,
   "id": "470c7710",
   "metadata": {},
   "outputs": [],
   "source": [
    "df = pd.DataFrame(net)\n"
   ]
  },
  {
   "cell_type": "code",
   "execution_count": 80,
   "id": "d1f58254",
   "metadata": {},
   "outputs": [
    {
     "data": {
      "text/html": [
       "<div>\n",
       "<style scoped>\n",
       "    .dataframe tbody tr th:only-of-type {\n",
       "        vertical-align: middle;\n",
       "    }\n",
       "\n",
       "    .dataframe tbody tr th {\n",
       "        vertical-align: top;\n",
       "    }\n",
       "\n",
       "    .dataframe thead th {\n",
       "        text-align: right;\n",
       "    }\n",
       "</style>\n",
       "<table border=\"1\" class=\"dataframe\">\n",
       "  <thead>\n",
       "    <tr style=\"text-align: right;\">\n",
       "      <th></th>\n",
       "      <th>region</th>\n",
       "      <th>sales</th>\n",
       "    </tr>\n",
       "  </thead>\n",
       "  <tbody>\n",
       "    <tr>\n",
       "      <th>0</th>\n",
       "      <td>East</td>\n",
       "      <td>380</td>\n",
       "    </tr>\n",
       "    <tr>\n",
       "      <th>1</th>\n",
       "      <td>West</td>\n",
       "      <td>420</td>\n",
       "    </tr>\n",
       "    <tr>\n",
       "      <th>2</th>\n",
       "      <td>North</td>\n",
       "      <td>50</td>\n",
       "    </tr>\n",
       "    <tr>\n",
       "      <th>3</th>\n",
       "      <td>South</td>\n",
       "      <td>290</td>\n",
       "    </tr>\n",
       "  </tbody>\n",
       "</table>\n",
       "</div>"
      ],
      "text/plain": [
       "  region  sales\n",
       "0   East    380\n",
       "1   West    420\n",
       "2  North     50\n",
       "3  South    290"
      ]
     },
     "execution_count": 80,
     "metadata": {},
     "output_type": "execute_result"
    }
   ],
   "source": [
    "df"
   ]
  },
  {
   "cell_type": "code",
   "execution_count": 23,
   "id": "9c9ff7f2",
   "metadata": {},
   "outputs": [],
   "source": [
    "data = [\n",
    "    (\"Alice\", \"Bob\"),\n",
    "    (\"Alice\", \"Carol\"),\n",
    "    (\"Bob\", \"Carol\"),\n",
    "    (\"Bob\", \"David\"),\n",
    "    (\"Bob\", \"Eve\"),\n",
    "    (\"Carol\", \"David\"),\n",
    "    (\"David\", \"Eve\"),\n",
    "]"
   ]
  },
  {
   "cell_type": "code",
   "execution_count": 104,
   "id": "f291ca9f",
   "metadata": {},
   "outputs": [],
   "source": [
    "plotter = GraphRenderer(fmt=\"png\")"
   ]
  },
  {
   "cell_type": "code",
   "execution_count": 86,
   "id": "2ca00e13",
   "metadata": {},
   "outputs": [
    {
     "ename": "ValueError",
     "evalue": "DataFrame must have 'source' and 'target' columns.",
     "output_type": "error",
     "traceback": [
      "\u001b[31m---------------------------------------------------------------------------\u001b[39m",
      "\u001b[31mValueError\u001b[39m                                Traceback (most recent call last)",
      "\u001b[36mCell\u001b[39m\u001b[36m \u001b[39m\u001b[32mIn[86]\u001b[39m\u001b[32m, line 1\u001b[39m\n\u001b[32m----> \u001b[39m\u001b[32m1\u001b[39m encoded = \u001b[43mplotter\u001b[49m\u001b[43m.\u001b[49m\u001b[43mencode\u001b[49m\u001b[43m(\u001b[49m\u001b[43mdf\u001b[49m\u001b[43m,\u001b[49m\u001b[43m \u001b[49m\u001b[43mtitle\u001b[49m\u001b[43m=\u001b[49m\u001b[33;43m\"\u001b[39;49m\u001b[33;43mconverted\u001b[39;49m\u001b[33;43m\"\u001b[39;49m\u001b[43m,\u001b[49m\u001b[43m \u001b[49m\u001b[43mreturn_data_uri\u001b[49m\u001b[43m=\u001b[49m\u001b[38;5;28;43;01mFalse\u001b[39;49;00m\u001b[43m)\u001b[49m\n",
      "\u001b[36mCell\u001b[39m\u001b[36m \u001b[39m\u001b[32mIn[77]\u001b[39m\u001b[32m, line 251\u001b[39m, in \u001b[36mGraphRenderer.encode\u001b[39m\u001b[34m(self, edges, title, return_data_uri, source_col, target_col)\u001b[39m\n\u001b[32m    249\u001b[39m \u001b[38;5;28;01mif\u001b[39;00m \u001b[38;5;28misinstance\u001b[39m(edges, pd.DataFrame):\n\u001b[32m    250\u001b[39m     \u001b[38;5;28;01mif\u001b[39;00m \u001b[38;5;129;01mnot\u001b[39;00m {source_col, target_col}.issubset(edges.columns):\n\u001b[32m--> \u001b[39m\u001b[32m251\u001b[39m         \u001b[38;5;28;01mraise\u001b[39;00m \u001b[38;5;167;01mValueError\u001b[39;00m(\u001b[33mf\u001b[39m\u001b[33m\"\u001b[39m\u001b[33mDataFrame must have \u001b[39m\u001b[33m'\u001b[39m\u001b[38;5;132;01m{\u001b[39;00msource_col\u001b[38;5;132;01m}\u001b[39;00m\u001b[33m'\u001b[39m\u001b[33m and \u001b[39m\u001b[33m'\u001b[39m\u001b[38;5;132;01m{\u001b[39;00mtarget_col\u001b[38;5;132;01m}\u001b[39;00m\u001b[33m'\u001b[39m\u001b[33m columns.\u001b[39m\u001b[33m\"\u001b[39m)\n\u001b[32m    252\u001b[39m     edge_list = \u001b[38;5;28mlist\u001b[39m(edges[[source_col, target_col]].itertuples(index=\u001b[38;5;28;01mFalse\u001b[39;00m, name=\u001b[38;5;28;01mNone\u001b[39;00m))\n\u001b[32m    253\u001b[39m \u001b[38;5;28;01melse\u001b[39;00m:\n",
      "\u001b[31mValueError\u001b[39m: DataFrame must have 'source' and 'target' columns."
     ]
    }
   ],
   "source": [
    "encoded = plotter.encode(df, title=\"converted\", return_data_uri=False)"
   ]
  },
  {
   "cell_type": "code",
   "execution_count": 27,
   "id": "f0e18e70",
   "metadata": {},
   "outputs": [
    {
     "data": {
      "text/plain": [
       "'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'"
      ]
     },
     "execution_count": 27,
     "metadata": {},
     "output_type": "execute_result"
    }
   ],
   "source": [
    "encoded"
   ]
  },
  {
   "cell_type": "code",
   "execution_count": 73,
   "id": "166a6774",
   "metadata": {},
   "outputs": [],
   "source": [
    "bar=[{'region': 'East', 'sales': 380}, {'region': 'West', 'sales': 420}, {'region': 'North', 'sales': 50}, {'region': 'South', 'sales': 290}]"
   ]
  },
  {
   "cell_type": "code",
   "execution_count": 75,
   "id": "ce15bceb",
   "metadata": {},
   "outputs": [],
   "source": [
    "df=pd.DataFrame(bar)\n"
   ]
  },
  {
   "cell_type": "code",
   "execution_count": 84,
   "id": "2f39000c",
   "metadata": {},
   "outputs": [
    {
     "data": {
      "text/html": [
       "<div>\n",
       "<style scoped>\n",
       "    .dataframe tbody tr th:only-of-type {\n",
       "        vertical-align: middle;\n",
       "    }\n",
       "\n",
       "    .dataframe tbody tr th {\n",
       "        vertical-align: top;\n",
       "    }\n",
       "\n",
       "    .dataframe thead th {\n",
       "        text-align: right;\n",
       "    }\n",
       "</style>\n",
       "<table border=\"1\" class=\"dataframe\">\n",
       "  <thead>\n",
       "    <tr style=\"text-align: right;\">\n",
       "      <th></th>\n",
       "      <th>region</th>\n",
       "      <th>sales</th>\n",
       "    </tr>\n",
       "  </thead>\n",
       "  <tbody>\n",
       "    <tr>\n",
       "      <th>0</th>\n",
       "      <td>East</td>\n",
       "      <td>380</td>\n",
       "    </tr>\n",
       "    <tr>\n",
       "      <th>1</th>\n",
       "      <td>West</td>\n",
       "      <td>420</td>\n",
       "    </tr>\n",
       "    <tr>\n",
       "      <th>2</th>\n",
       "      <td>North</td>\n",
       "      <td>50</td>\n",
       "    </tr>\n",
       "    <tr>\n",
       "      <th>3</th>\n",
       "      <td>South</td>\n",
       "      <td>290</td>\n",
       "    </tr>\n",
       "  </tbody>\n",
       "</table>\n",
       "</div>"
      ],
      "text/plain": [
       "  region  sales\n",
       "0   East    380\n",
       "1   West    420\n",
       "2  North     50\n",
       "3  South    290"
      ]
     },
     "execution_count": 84,
     "metadata": {},
     "output_type": "execute_result"
    }
   ],
   "source": [
    "df"
   ]
  },
  {
   "cell_type": "code",
   "execution_count": 74,
   "id": "fb0ed433",
   "metadata": {},
   "outputs": [
    {
     "ename": "KeyError",
     "evalue": "'node'",
     "output_type": "error",
     "traceback": [
      "\u001b[31m---------------------------------------------------------------------------\u001b[39m",
      "\u001b[31mKeyError\u001b[39m                                  Traceback (most recent call last)",
      "\u001b[36mCell\u001b[39m\u001b[36m \u001b[39m\u001b[32mIn[74]\u001b[39m\u001b[32m, line 1\u001b[39m\n\u001b[32m----> \u001b[39m\u001b[32m1\u001b[39m edge_tuples = \u001b[43m[\u001b[49m\u001b[43m{\u001b[49m\u001b[43medge\u001b[49m\u001b[43m[\u001b[49m\u001b[33;43m'\u001b[39;49m\u001b[33;43mnode\u001b[39;49m\u001b[33;43m'\u001b[39;49m\u001b[43m]\u001b[49m\u001b[43m:\u001b[49m\u001b[43m \u001b[49m\u001b[43medge\u001b[49m\u001b[43m[\u001b[49m\u001b[33;43m'\u001b[39;49m\u001b[33;43mdegree\u001b[39;49m\u001b[33;43m'\u001b[39;49m\u001b[43m]\u001b[49m\u001b[43m}\u001b[49m\u001b[43m \u001b[49m\u001b[38;5;28;43;01mfor\u001b[39;49;00m\u001b[43m \u001b[49m\u001b[43medge\u001b[49m\u001b[43m \u001b[49m\u001b[38;5;129;43;01min\u001b[39;49;00m\u001b[43m \u001b[49m\u001b[43mbar\u001b[49m\u001b[43m]\u001b[49m\n",
      "\u001b[36mCell\u001b[39m\u001b[36m \u001b[39m\u001b[32mIn[74]\u001b[39m\u001b[32m, line 1\u001b[39m, in \u001b[36m<listcomp>\u001b[39m\u001b[34m(.0)\u001b[39m\n\u001b[32m----> \u001b[39m\u001b[32m1\u001b[39m edge_tuples = [{\u001b[43medge\u001b[49m\u001b[43m[\u001b[49m\u001b[33;43m'\u001b[39;49m\u001b[33;43mnode\u001b[39;49m\u001b[33;43m'\u001b[39;49m\u001b[43m]\u001b[49m: edge[\u001b[33m'\u001b[39m\u001b[33mdegree\u001b[39m\u001b[33m'\u001b[39m]} \u001b[38;5;28;01mfor\u001b[39;00m edge \u001b[38;5;129;01min\u001b[39;00m bar]\n",
      "\u001b[31mKeyError\u001b[39m: 'node'"
     ]
    }
   ],
   "source": [
    "edge_tuples = [{edge['node']: edge['degree']} for edge in bar]"
   ]
  },
  {
   "cell_type": "code",
   "execution_count": 40,
   "id": "0dbb4cb1",
   "metadata": {},
   "outputs": [
    {
     "data": {
      "text/plain": [
       "[{'Alice': 2}, {'Bob': 4}, {'Carol': 3}, {'David': 3}, {'Eve': 2}]"
      ]
     },
     "execution_count": 40,
     "metadata": {},
     "output_type": "execute_result"
    }
   ],
   "source": [
    "edge_tuples"
   ]
  },
  {
   "cell_type": "code",
   "execution_count": 43,
   "id": "35fe9b1e",
   "metadata": {},
   "outputs": [],
   "source": [
    "final_tuples = [{'node': 'degree'}]"
   ]
  },
  {
   "cell_type": "code",
   "execution_count": 44,
   "id": "f106fb59",
   "metadata": {},
   "outputs": [
    {
     "data": {
      "text/plain": [
       "[{'node': 'degree'},\n",
       " {'Alice': 2},\n",
       " {'Bob': 4},\n",
       " {'Carol': 3},\n",
       " {'David': 3},\n",
       " {'Eve': 2}]"
      ]
     },
     "execution_count": 44,
     "metadata": {},
     "output_type": "execute_result"
    }
   ],
   "source": [
    "final_tuples = final_tuples+edge_tuples\n",
    "\n",
    "final_tuples"
   ]
  },
  {
   "cell_type": "code",
   "execution_count": null,
   "id": "a982aa9b",
   "metadata": {},
   "outputs": [],
   "source": [
    "plotter =(fmt=\"png\")"
   ]
  },
  {
   "cell_type": "code",
   "execution_count": 105,
   "id": "890ecb69",
   "metadata": {},
   "outputs": [],
   "source": [
    "encoded = plotter.encode(pd.DataFrame(bar), title=\"test\", source_col=\"region\", target_col=\"sales\", return_data_uri=False)"
   ]
  },
  {
   "cell_type": "code",
   "execution_count": 106,
   "id": "4460f541",
   "metadata": {},
   "outputs": [
    {
     "data": {
      "text/plain": [
       "'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'"
      ]
     },
     "execution_count": 106,
     "metadata": {},
     "output_type": "execute_result"
    }
   ],
   "source": [
    "encoded"
   ]
  },
  {
   "cell_type": "code",
   "execution_count": 49,
   "id": "88e5b43d",
   "metadata": {},
   "outputs": [],
   "source": [
    "df = pd.DataFrame(bar)"
   ]
  },
  {
   "cell_type": "code",
   "execution_count": 51,
   "id": "0b3e999d",
   "metadata": {},
   "outputs": [
    {
     "data": {
      "text/html": [
       "<div>\n",
       "<style scoped>\n",
       "    .dataframe tbody tr th:only-of-type {\n",
       "        vertical-align: middle;\n",
       "    }\n",
       "\n",
       "    .dataframe tbody tr th {\n",
       "        vertical-align: top;\n",
       "    }\n",
       "\n",
       "    .dataframe thead th {\n",
       "        text-align: right;\n",
       "    }\n",
       "</style>\n",
       "<table border=\"1\" class=\"dataframe\">\n",
       "  <thead>\n",
       "    <tr style=\"text-align: right;\">\n",
       "      <th></th>\n",
       "      <th>node</th>\n",
       "      <th>degree</th>\n",
       "    </tr>\n",
       "  </thead>\n",
       "  <tbody>\n",
       "    <tr>\n",
       "      <th>0</th>\n",
       "      <td>Alice</td>\n",
       "      <td>2</td>\n",
       "    </tr>\n",
       "    <tr>\n",
       "      <th>1</th>\n",
       "      <td>Bob</td>\n",
       "      <td>4</td>\n",
       "    </tr>\n",
       "    <tr>\n",
       "      <th>2</th>\n",
       "      <td>Carol</td>\n",
       "      <td>3</td>\n",
       "    </tr>\n",
       "    <tr>\n",
       "      <th>3</th>\n",
       "      <td>David</td>\n",
       "      <td>3</td>\n",
       "    </tr>\n",
       "    <tr>\n",
       "      <th>4</th>\n",
       "      <td>Eve</td>\n",
       "      <td>2</td>\n",
       "    </tr>\n",
       "  </tbody>\n",
       "</table>\n",
       "</div>"
      ],
      "text/plain": [
       "    node  degree\n",
       "0  Alice       2\n",
       "1    Bob       4\n",
       "2  Carol       3\n",
       "3  David       3\n",
       "4    Eve       2"
      ]
     },
     "execution_count": 51,
     "metadata": {},
     "output_type": "execute_result"
    }
   ],
   "source": [
    "df"
   ]
  },
  {
   "cell_type": "code",
   "execution_count": 52,
   "id": "f81fb4a0",
   "metadata": {},
   "outputs": [],
   "source": [
    "df[\"degree\"] = pd.to_numeric(df[\"degree\"], errors=\"coerce\")"
   ]
  },
  {
   "cell_type": "code",
   "execution_count": 67,
   "id": "d3be03a4",
   "metadata": {},
   "outputs": [],
   "source": [
    "encoded = plotter.encode(df, title=\"bar\", x=\"node\", y=\"degree\", kind=\"bar\", return_data_uri=False)"
   ]
  },
  {
   "cell_type": "code",
   "execution_count": 68,
   "id": "2055f01d",
   "metadata": {},
   "outputs": [
    {
     "data": {
      "text/plain": [
       "'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'"
      ]
     },
     "execution_count": 68,
     "metadata": {},
     "output_type": "execute_result"
    }
   ],
   "source": [
    "encoded"
   ]
  }
 ],
 "metadata": {
  "kernelspec": {
   "display_name": ".venv",
   "language": "python",
   "name": "python3"
  },
  "language_info": {
   "codemirror_mode": {
    "name": "ipython",
    "version": 3
   },
   "file_extension": ".py",
   "mimetype": "text/x-python",
   "name": "python",
   "nbconvert_exporter": "python",
   "pygments_lexer": "ipython3",
   "version": "3.11.11"
  }
 },
 "nbformat": 4,
 "nbformat_minor": 5
}
