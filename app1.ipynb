{
 "cells": [
  {
   "cell_type": "code",
   "execution_count": 6,
   "id": "1201cdb5",
   "metadata": {},
   "outputs": [],
   "source": [
    "from typing import TypedDict\n",
    "\n",
    "class PortfolioState(TypedDict):\n",
    "    amount_usd: float\n",
    "    total_usd: float\n",
    "    total_inr: float"
   ]
  },
  {
   "cell_type": "code",
   "execution_count": 7,
   "id": "702f77b0",
   "metadata": {},
   "outputs": [],
   "source": [
    "def calc_total(state: PortfolioState) -> PortfolioState:\n",
    "    \"\"\"\n",
    "    Calculate the total value in USD.\n",
    "    \"\"\"\n",
    "    state['total_usd'] = state['amount_usd'] * 1.08\n",
    "    return state"
   ]
  },
  {
   "cell_type": "code",
   "execution_count": 8,
   "id": "32b568cf",
   "metadata": {},
   "outputs": [],
   "source": [
    "def convert_to_inr(state: PortfolioState) -> PortfolioState:\n",
    "    \"\"\"\n",
    "    Convert the total value to INR.\n",
    "    \"\"\"\n",
    "    state['total_inr'] = state['total_usd'] * 85\n",
    "    return state"
   ]
  },
  {
   "cell_type": "code",
   "execution_count": 9,
   "id": "b68d7ac7",
   "metadata": {},
   "outputs": [],
   "source": [
    "from langgraph.graph import StateGraph, START, END\n",
    "\n",
    "builder = StateGraph(PortfolioState)\n",
    "\n",
    "builder.add_node(\"calc_total\", calc_total)\n",
    "builder.add_node(\"convert_to_inr\", convert_to_inr)\n",
    "\n",
    "builder.add_edge(START, \"calc_total\")\n",
    "builder.add_edge(\"calc_total\", \"convert_to_inr\")\n",
    "builder.add_edge(\"convert_to_inr\", END)\n",
    "\n",
    "graph = builder.compile()"
   ]
  },
  {
   "cell_type": "code",
   "execution_count": 10,
   "id": "21d26204",
   "metadata": {},
   "outputs": [
    {
     "data": {
      "text/plain": [
       "{'amount_usd': 1000, 'total_usd': 1080.0, 'total_inr': 91800.0}"
      ]
     },
     "execution_count": 10,
     "metadata": {},
     "output_type": "execute_result"
    }
   ],
   "source": [
    "graph.invoke({\"amount_usd\": 1000})"
   ]
  }
 ],
 "metadata": {
  "kernelspec": {
   "display_name": ".venv",
   "language": "python",
   "name": "python3"
  },
  "language_info": {
   "codemirror_mode": {
    "name": "ipython",
    "version": 3
   },
   "file_extension": ".py",
   "mimetype": "text/x-python",
   "name": "python",
   "nbconvert_exporter": "python",
   "pygments_lexer": "ipython3",
   "version": "3.11.11"
  }
 },
 "nbformat": 4,
 "nbformat_minor": 5
}
