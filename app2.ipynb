{
 "cells": [
  {
   "cell_type": "code",
   "execution_count": 7,
   "id": "1201cdb5",
   "metadata": {},
   "outputs": [],
   "source": [
    "from typing import TypedDict, Literal\n",
    "\n",
    "class PortfolioState(TypedDict):\n",
    "    amount_usd: float\n",
    "    total_usd: float\n",
    "    target_currency: Literal[\"INR\", \"EUR\"]\n",
    "    total: float"
   ]
  },
  {
   "cell_type": "code",
   "execution_count": 8,
   "id": "702f77b0",
   "metadata": {},
   "outputs": [],
   "source": [
    "def calc_total(state: PortfolioState) -> PortfolioState:\n",
    "    \"\"\"\n",
    "    Calculate the total value in USD.\n",
    "    \"\"\"\n",
    "    state['total_usd'] = state['amount_usd'] * 1.08\n",
    "    return state"
   ]
  },
  {
   "cell_type": "code",
   "execution_count": 9,
   "id": "32b568cf",
   "metadata": {},
   "outputs": [],
   "source": [
    "def convert_to_inr(state: PortfolioState) -> PortfolioState:\n",
    "    \"\"\"\n",
    "    Convert the total value to INR.\n",
    "    \"\"\"\n",
    "    state['total'] = state['total_usd'] * 85\n",
    "    return state"
   ]
  },
  {
   "cell_type": "code",
   "execution_count": 10,
   "id": "90323c84",
   "metadata": {},
   "outputs": [],
   "source": [
    "def convert_to_eur(state: PortfolioState) -> PortfolioState:\n",
    "    \"\"\"\n",
    "    Convert the total value to EUR.\n",
    "    \"\"\"\n",
    "    state['total'] = state['total_usd'] * 0.9\n",
    "    return state"
   ]
  },
  {
   "cell_type": "code",
   "execution_count": 11,
   "id": "d1239739",
   "metadata": {},
   "outputs": [],
   "source": [
    "def choose_conversion(state: PortfolioState) -> str:\n",
    "    \"\"\"\n",
    "    Choose the conversion function based on the target currency.\n",
    "    \"\"\"\n",
    "    return state['target_currency']\n"
   ]
  },
  {
   "cell_type": "code",
   "execution_count": 12,
   "id": "b68d7ac7",
   "metadata": {},
   "outputs": [],
   "source": [
    "from langgraph.graph import StateGraph, START, END\n",
    "\n",
    "builder = StateGraph(PortfolioState)\n",
    "\n",
    "builder.add_node(\"calc_total\", calc_total)\n",
    "builder.add_node(\"convert_to_inr\", convert_to_inr)\n",
    "builder.add_node(\"convert_to_eur\", convert_to_eur)\n",
    "\n",
    "builder.add_edge(START, \"calc_total\")\n",
    "builder.add_conditional_edges(\n",
    "    \"calc_total\",\n",
    "    choose_conversion,\n",
    "    {\n",
    "        \"INR\": \"convert_to_inr\",\n",
    "        \"EUR\": \"convert_to_eur\"\n",
    "    }\n",
    ")\n",
    "builder.add_edge(\"convert_to_inr\", END)\n",
    "builder.add_edge(\"convert_to_eur\", END)\n",
    "\n",
    "graph = builder.compile()"
   ]
  },
  {
   "cell_type": "code",
   "execution_count": 14,
   "id": "21d26204",
   "metadata": {},
   "outputs": [
    {
     "data": {
      "text/plain": [
       "{'amount_usd': 1000,\n",
       " 'total_usd': 1080.0,\n",
       " 'target_currency': 'EUR',\n",
       " 'total': 972.0}"
      ]
     },
     "execution_count": 14,
     "metadata": {},
     "output_type": "execute_result"
    }
   ],
   "source": [
    "graph.invoke({\"amount_usd\": 1000, \"target_currency\": \"EUR\"})"
   ]
  }
 ],
 "metadata": {
  "kernelspec": {
   "display_name": ".venv",
   "language": "python",
   "name": "python3"
  },
  "language_info": {
   "codemirror_mode": {
    "name": "ipython",
    "version": 3
   },
   "file_extension": ".py",
   "mimetype": "text/x-python",
   "name": "python",
   "nbconvert_exporter": "python",
   "pygments_lexer": "ipython3",
   "version": "3.11.11"
  }
 },
 "nbformat": 4,
 "nbformat_minor": 5
}
